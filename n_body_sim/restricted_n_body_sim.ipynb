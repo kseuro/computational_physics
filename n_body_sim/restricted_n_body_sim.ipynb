{
 "cells": [
  {
   "cell_type": "markdown",
   "metadata": {},
   "source": [
    "# Restricted 3-Body Integration of Asteroid Orbits\n",
    "- Author: Kai Stewart\n",
    "- Semester: Spring 2020"
   ]
  },
  {
   "cell_type": "code",
   "execution_count": 1,
   "metadata": {},
   "outputs": [],
   "source": [
    "import time\n",
    "import random\n",
    "import numpy as np\n",
    "from scipy.integrate import RK45 as ODE45\n",
    "from scipy.integrate import solve_ivp as IVP\n",
    "import matplotlib.pyplot as plt\n",
    "from mpl_toolkits.mplot3d import Axes3D\n",
    "import imageio\n",
    "%matplotlib inline"
   ]
  },
  {
   "cell_type": "markdown",
   "metadata": {},
   "source": [
    "### Set a random number seed - either for reproducability or variability within the runs"
   ]
  },
  {
   "cell_type": "code",
   "execution_count": 2,
   "metadata": {},
   "outputs": [],
   "source": [
    "random.seed(time.time())"
   ]
  },
  {
   "cell_type": "markdown",
   "metadata": {},
   "source": [
    "### Define values of objects and constants\n",
    "- N is the number of asteroids. An increase in this value causes a linear increase in the runtime\n",
    "- G is the universal gravitational constant converted to units of: $AU^3 / (kg \\cdot Yr^2)$\n",
    "- M_S is the mass of the Sun in kg\n",
    "- AU is the value of one astronimical unit in meters -- the mean distance from the center of the sun to the center of the earth.\n",
    "- M_J is the mass of Jupiter in kg\n",
    "- R_J is the distance of Jupiter from the Sun in AU\n",
    "- V_J is the orbital velocity of Jupiter converted to AU/Yr"
   ]
  },
  {
   "cell_type": "code",
   "execution_count": 3,
   "metadata": {},
   "outputs": [],
   "source": [
    "N = 1\n",
    "G = 6.67e-11 * ( (365*86400)**2 / (1.5e11)**3 )\n",
    "M_S = 1.99e30\n",
    "AU = 1.5e11\n",
    "M_J = 1.898e27\n",
    "R_J = 7.41e11 \n",
    "V_J = 13720 * 365 * 86400"
   ]
  },
  {
   "cell_type": "markdown",
   "metadata": {},
   "source": [
    "### Use the center-of-mass definition for the Sun-Jupiter system to compute x-y-coordinates\n",
    "- Setting the center of the sun as the center of the coordinate system, the center-of-mass follows as the product of each mass with that objects corresponding distance from the center of the coordinate system, divided by the sum of all the object masses.\n",
    "\n",
    "$\\text{CoM}_{Sun-Jupiter} = \\frac{ M_S\\cdot0 + M_J\\cdot R_J}{M_S + R_J}$"
   ]
  },
  {
   "cell_type": "code",
   "execution_count": 4,
   "metadata": {},
   "outputs": [],
   "source": [
    "x0_S = -(M_J * R_J)/(M_S + M_J) # [AU]\n",
    "y0_S = 0\n",
    "vx0_S = 0\n",
    "vy0_S = -(1/M_S)*(M_S * V_J) #[AU/Yr]"
   ]
  },
  {
   "cell_type": "markdown",
   "metadata": {},
   "source": [
    "### Define the initial state vector of the sun and jupiter, assuming that both objects are co-planar"
   ]
  },
  {
   "cell_type": "code",
   "execution_count": 5,
   "metadata": {},
   "outputs": [],
   "source": [
    "s0 = [vx0_S, vy0_S, x0_S, y0_S, 0, V_J, R_J, 0]"
   ]
  },
  {
   "cell_type": "markdown",
   "metadata": {},
   "source": [
    "### Set the number of years (range) over which to integrate"
   ]
  },
  {
   "cell_type": "code",
   "execution_count": 141,
   "metadata": {},
   "outputs": [],
   "source": [
    "t = 1000; t_span = [0, t]"
   ]
  },
  {
   "cell_type": "markdown",
   "metadata": {},
   "source": [
    "### Set the number of steps over which to integrate"
   ]
  },
  {
   "cell_type": "code",
   "execution_count": 142,
   "metadata": {},
   "outputs": [],
   "source": [
    "integration_steps = 100"
   ]
  },
  {
   "cell_type": "markdown",
   "metadata": {},
   "source": [
    "### Function definitions"
   ]
  },
  {
   "cell_type": "code",
   "execution_count": 143,
   "metadata": {},
   "outputs": [],
   "source": [
    "def random_float(low, high):\n",
    "    '''\n",
    "        Function that returns a random floating point number in the range [low, high] inclusive.\n",
    "        Could use Numpy to do this, but it's more interesting to write my own function.\n",
    "        Args:\n",
    "            - low (float): lower bound of desired random float.\n",
    "            - high (float): upper bound of desired random float.\n",
    "        Returns:\n",
    "            - random floating point number\n",
    "    '''\n",
    "    return random.random()*(high-low) + low"
   ]
  },
  {
   "cell_type": "code",
   "execution_count": 144,
   "metadata": {},
   "outputs": [],
   "source": [
    "def D_grav(t, s_vec, m_arr, G):\n",
    "    '''\n",
    "        Function that computes the derivatives of an N-Body Gravity problem. \n",
    "        Will be passed to the ODE45 algorithm as an argument.\n",
    "        Args:\n",
    "            - t (float): starting time for the numerical integrator. Assumed to begin at one\n",
    "                         and integrate forwards in time. Unless you're Doc Martin, of course.\n",
    "            - s_vec (array): system intitial state vector\n",
    "                - This array needs to have the form: [V_x0, V_y0, X_0, Y_0] repeated for each object.\n",
    "                  The algorithm assumes that every four entries within the array correspond to a single\n",
    "                  object, so the entries need to align accordingly.\n",
    "                - Example: 0: vx0_S, 1: vy0_S, 2: x0_S, 3: y0_S\n",
    "            - m_arr (array): Masses of the Sun, Jupiter, and a single asteroid. \n",
    "                - The array needs to have the form: [M_S, M_J, M_a].\n",
    "                  The algorithm assumes that the mass information is located at the corresponding\n",
    "                  indices in the array.\n",
    "        Returns:\n",
    "            - dsdt (Numpy array): Array of derivative values for each of the n-asteroids in the simulation.\n",
    "                                  The array has the form (n,): \n",
    "                                  [dvx/dt_0, dvy/dt_0, dx/dt_0, dy/dt_0, ... , dvx/dt_N, dvy/dt_N, dx/dt_N, dy/dt_N]\n",
    "    '''\n",
    "    # Set the range of the for-loops to the length of the mass array\n",
    "    N = len(m_arr)\n",
    "    assert N==3, \"Mass array must be of length 3 only!\"\n",
    "    \n",
    "    # Set the size of the storage arrays to N*4 in order to accomodate\n",
    "    # vx, vy, x, y data for each of the three objects\n",
    "    M = N*4\n",
    "    \n",
    "    # Arrays to track the position computations\n",
    "    # - x-velocity - # - y-velocity - # - x-coords - # - y-coords - #\n",
    "    vx = np.zeros(M); vy = np.zeros(M); x = np.zeros(M); y = np.zeros(M)\n",
    "\n",
    "    # Arrays to track the derivative computations\n",
    "    # --- dvx/dt --- # ----- dvy/dt ----- # ----- dx/dt ----- # --- dy/dt --- #\n",
    "    dvx = np.zeros(M); dvy = np.zeros(M); dx = np.zeros(M); dy = np.zeros(M)\n",
    "    \n",
    "    # Again, this loop assumes that every four entries in the state vector\n",
    "    # correspond to a single object. This algorithm will fail if the state\n",
    "    # vector is not constructed properly.\n",
    "    for i in range(0, M, 4):\n",
    "        vx[i] = s_vec[i]\n",
    "        vy[i] = s_vec[i+1]\n",
    "        x[i]  = s_vec[i+2]\n",
    "        y[i]  = s_vec[i+3]\n",
    "\n",
    "        # Position derivates are given by the current velocity\n",
    "        dx[i] = vx[i]\n",
    "        dy[i] = vy[i]\n",
    "        \n",
    "        # Find the total force acting on an asteroid from the Sun and Jupiter.\n",
    "        ## Set initial acceleration to zero and sum over the force contributions\n",
    "        ## from all of the masses (Sun, Jupiter, Asteroid)\n",
    "        a_x = 0; a_y = 0\n",
    "        for k in range(N):\n",
    "            if i != k:\n",
    "                # Find the separation distance\n",
    "                r_sep = (x[i] - x[k])**2 + (y[i] - y[k])**2\n",
    "                # Compute the x-y components of the acceleration of the ith mass due to the kth mass\n",
    "                a_x = a_x + (G * m_arr[k] * (x[k] - x[i])) / (r_sep**(3/2))\n",
    "                a_y = a_y + (G * m_arr[k] * (y[k] - y[i])) / (r_sep**(3/2))\n",
    "        # Store the computed acceleration values\n",
    "        dvx[i] = a_x\n",
    "        dvy[i] = a_y\n",
    "    \n",
    "    # Create a single vector from all of the computed values for the ODE45 algorithm\n",
    "    dsdt = np.zeros(M)\n",
    "    \n",
    "    for i in range(0, M, 4):\n",
    "        dsdt[i]   = dvx[i]\n",
    "        dsdt[i+1] = dvy[i+1]\n",
    "        dsdt[i+2] = x[i+2] + dx[i+2]\n",
    "        dsdt[i+3] = y[i+3] + dy[i+3]\n",
    "    \n",
    "    return dsdt"
   ]
  },
  {
   "cell_type": "code",
   "execution_count": 145,
   "metadata": {},
   "outputs": [],
   "source": [
    "def make_asteroids(N,G,M_S):\n",
    "    '''\n",
    "        - This function generates randomized arrays corresponding to asteroid masses, their position components\n",
    "          in cartesian coordinates [AU], and velocity components [AU/Yr]\n",
    "        Args:\n",
    "            - N (int): number of asteroids to generate\n",
    "            - G (float): gravitational constant\n",
    "            - M_S (float): mass of the sun used to generate random asteroid velocities\n",
    "        Returns:\n",
    "            - state_vector (dict) containing:\n",
    "                - a_masses (Numpy Array): array of N masses, each randomly distributed between 10^10 and 10^20 kg\n",
    "                - a_x (Numpy Array): array of randomly distributed x-coordinates for N asteroids\n",
    "                - a_y (Numpy Array): array of randomly distributed y-coordinates for N asteroids\n",
    "                - v_x (Numpy Array): array of randomly distributed x-velocities for N asteroids\n",
    "                - v_y (Numpy Array): array of randomly distributed y-velocities for N asteroids\n",
    "    '''\n",
    "    # Initialize the arrays\n",
    "    # ----- Masses ----- ## -- x-coords -- ## -- y-coords -- ## -- x-velocity -- ## -- y-velocity -- #\n",
    "    a_masses = np.zeros(N); a_x = np.zeros(N); a_y = np.zeros(N); v_x = np.zeros(N); v_y = np.zeros(N)\n",
    "    # ---------------------------------------------------------------------------------------------- #\n",
    "    \n",
    "    print(f'Generating {N} Asteroids')\n",
    "    # Loop over N asteroids and randomly allocate coordinates and velocities\n",
    "    for i in range(N):\n",
    "        # Randomly assign an asteroid mass in the given range using a uniform distribution\n",
    "        a_masses[i] = random_float(low = 10e10, high = 10e20)\n",
    "        \n",
    "        # Randomly assign a starting position in AU from the Sun using a uniform\n",
    "        # distribution between 2 and 3.5 AU\n",
    "        r = random_float(low = 2.0, high = 3.5)\n",
    "        \n",
    "        # Generate a random starting angle between 0 and 2pi\n",
    "        theta = 2*np.pi*random_float(low = 0.0, high = 1.0)\n",
    "        \n",
    "        # Determine the velocity of the asteroid using Kepler's Third Law\n",
    "        # The period square is proportional to the cube of the semi-major axis, but for this\n",
    "        # simulation we assume a circular orbit for simplicity.\n",
    "        P = np.sqrt(r**3)\n",
    "        \n",
    "        # The velocity is the circumference of the circular orbit divided by the period\n",
    "        v = (2*np.pi*r) / P\n",
    "        \n",
    "        # Use the velocity and a trigonometric relationship to find the starting \n",
    "        # coordinates and starting velocity of the asteroid. We take the orbits\n",
    "        # to be anti-clockwise, so the starting x-velocity is in the negative direction\n",
    "        a_x[i] = r*np.cos(theta)\n",
    "        a_y[i] = r*np.sin(theta)\n",
    "        \n",
    "        v_x[i] = -v*np.cos(theta)\n",
    "        v_y[i] = v*np.sin(theta)\n",
    "    \n",
    "    return {'a_masses': a_masses, 'ax': a_x, 'ay': a_y, 'vx': v_x, 'vy': v_y}"
   ]
  },
  {
   "cell_type": "markdown",
   "metadata": {},
   "source": [
    "### Generate a collection of N asteroids"
   ]
  },
  {
   "cell_type": "code",
   "execution_count": 146,
   "metadata": {},
   "outputs": [
    {
     "name": "stdout",
     "output_type": "stream",
     "text": [
      "Generating 1 Asteroids\n"
     ]
    }
   ],
   "source": [
    "asteroids = make_asteroids(N, G, M_S)"
   ]
  },
  {
   "cell_type": "code",
   "execution_count": 147,
   "metadata": {},
   "outputs": [
    {
     "data": {
      "text/plain": [
       "{'a_masses': array([7.6868678e+20]),\n",
       " 'ax': array([-1.05006109]),\n",
       " 'ay': array([-2.50597347]),\n",
       " 'vx': array([1.47312792]),\n",
       " 'vy': array([-3.51562353])}"
      ]
     },
     "execution_count": 147,
     "metadata": {},
     "output_type": "execute_result"
    }
   ],
   "source": [
    "asteroids"
   ]
  },
  {
   "cell_type": "markdown",
   "metadata": {},
   "source": [
    "#### Set the error tolerances for the numerical integrator"
   ]
  },
  {
   "cell_type": "code",
   "execution_count": 148,
   "metadata": {},
   "outputs": [],
   "source": [
    "options = {'rtol':1e-8, 'atol':1e-12}"
   ]
  },
  {
   "cell_type": "markdown",
   "metadata": {},
   "source": [
    "#### Run the numerical integration\n",
    "[SciPy Solve_IVP Documentation](https://docs.scipy.org/doc/scipy/reference/generated/scipy.integrate.solve_ivp.html)\n",
    "\n",
    "##### Returns:\n",
    "    Bunch object with the following fields defined:\n",
    "    - [t] ndarray, shape (n_points,) \n",
    "        - Time points.\n",
    "    - [y] ndarray, shape (n, n_points)\n",
    "        - Values of the solution at t."
   ]
  },
  {
   "cell_type": "code",
   "execution_count": 149,
   "metadata": {},
   "outputs": [
    {
     "name": "stdout",
     "output_type": "stream",
     "text": [
      "Integration 0\n",
      "y0[0]: 0\n",
      "solution['y'][i][0.00000000e+00 3.60998562e-21 3.97098418e-20 4.00708404e-19\n",
      " 4.01069402e-18 4.01105502e-17 7.48284955e-17]\n",
      "\n",
      "y0[1]: -432673920000.0\n",
      "solution['y'][i][-4.3267392e+11 -4.3267392e+11 -4.3267392e+11 -4.3267392e+11\n",
      " -4.3267392e+11 -4.3267392e+11 -4.3267392e+11]\n",
      "\n",
      "y0[2]: -706069286.6803421\n",
      "solution['y'][i][-7.06069287e+08 -7.06069287e+08 -7.06069287e+08 -7.06069287e+08\n",
      " -7.06069287e+08 -7.06069287e+08 -7.06069287e+08]\n",
      "\n",
      "y0[3]: 0\n",
      "solution['y'][i][0. 0. 0. 0. 0. 0. 0.]\n",
      "\n",
      "y0[4]: 0\n",
      "solution['y'][i][ 0.00000000e+00 -3.43326992e-24 -3.77659691e-23 -3.81092961e-22\n",
      " -3.81436288e-21 -3.81470620e-20 -7.11654975e-20]\n",
      "\n",
      "y0[5]: 432673920000\n",
      "solution['y'][i][4.3267392e+11 4.3267392e+11 4.3267392e+11 4.3267392e+11 4.3267392e+11\n",
      " 4.3267392e+11 4.3267392e+11]\n",
      "\n",
      "y0[6]: 741000000000.0\n",
      "solution['y'][i][7.41e+11 7.41e+11 7.41e+11 7.41e+11 7.41e+11 7.41e+11 7.41e+11]\n",
      "\n",
      "y0[7]: 0\n",
      "solution['y'][i][0. 0. 0. 0. 0. 0. 0.]\n",
      "\n",
      "y0[8]: 1.4731279207585881\n",
      "solution['y'][i][1.47312792 1.47322213 1.47416425 1.48358546 1.57779758 2.51991868\n",
      " 3.42597516]\n",
      "\n",
      "y0[9]: -3.5156235341716093\n",
      "solution['y'][i][-3.51562353 -3.51562353 -3.51562353 -3.51562353 -3.51562353 -3.51562353\n",
      " -3.51562353]\n",
      "\n",
      "y0[10]: -1.0500610932062262\n",
      "solution['y'][i][-1.05006109 -1.05006109 -1.05006109 -1.05006109 -1.05006109 -1.05006109\n",
      " -1.05006109]\n",
      "\n",
      "y0[11]: -2.505973472889425\n",
      "solution['y'][i][-2.50597347 -2.50597347 -2.50597347 -2.50597347 -2.50597347 -2.50597347\n",
      " -2.50597347]\n",
      "\n"
     ]
    },
    {
     "data": {
      "text/plain": [
       "{'a_masses': array([7.6868678e+20]),\n",
       " 'ax': array([-1.05006109]),\n",
       " 'ay': array([-2.50597347]),\n",
       " 'vx': array([1.47312792]),\n",
       " 'vy': array([-3.51562353])}"
      ]
     },
     "execution_count": 149,
     "metadata": {},
     "output_type": "execute_result"
    }
   ],
   "source": [
    "r_init = []; r_final = []; x_coords = []; y_coords = []\n",
    "\n",
    "int_steps = 1\n",
    "for step in range(0, int_steps):\n",
    "    for i in range(0, N):\n",
    "    \n",
    "        # Periodically update progress to terminal\n",
    "        if step % 50 == 0:\n",
    "            print(f\"Integration {i}\")\n",
    "    \n",
    "        # Calculate the asteroid's initial distance from the Sun\n",
    "        r_init.append( np.sqrt( asteroids['ax'][i]**2 + asteroids['ay'][i]**2 ) )\n",
    "    \n",
    "        # Generate the initial state of the asteroid-Jupiter-Sun system\n",
    "        # We are not interested in the graviational interactions of\n",
    "        # the asteroids themselves, since this contribution is negligible\n",
    "        # compared with the contributions from Jupiter and the Sun.\n",
    "        y0 = s0 + [asteroids['vx'][i], asteroids['vy'][i], asteroids['ax'][i], asteroids['ay'][i]]\n",
    "    \n",
    "        # Include the arrays of masses corresponding to the three objects\n",
    "        masses = [M_S, M_J, asteroids['a_masses'][i]]\n",
    "    \n",
    "        # Run the numerical integration\n",
    "        ## The returned solution is a dictionary containing arrays\n",
    "        ## t: - the time over which the solution is integrated\n",
    "        ##    - steps are in orders of magnitude\n",
    "        ##    - ex: [0, 1000] -> -1000, -100, -10, 0, 10, 100, 1000 -> array of len = 7\n",
    "        ## y: - the solution of the IVP at each timestep\n",
    "        solution = IVP(D_grav, t_span, y0, method='RK45', args=(masses, G), **options)\n",
    "    \n",
    "        for i in range(solution['y'].shape[0]):\n",
    "            print(f\"y0[{i}]: {y0[i]}\\nsolution['y'][i]{solution['y'][i]}\\n\")\n",
    "            \n",
    "        # Compute the final position of the asteroid after integration\n",
    "        r_final.append(solution['y'][-1][-1]**2 + solution['y'][-1][-2]**2)\n",
    "    \n",
    "        # Append the x- and y-coordinates\n",
    "        x_coords.append(solution['y'][-2][-1])\n",
    "        y_coords.append(solution['y'][-1][-1])\n",
    "        \n",
    "x_coords = np.array(x_coords)\n",
    "y_coords = np.array(y_coords)\n",
    "z_coords = np.zeros(x_coords.shape[0],)\n",
    "asteroids"
   ]
  },
  {
   "cell_type": "markdown",
   "metadata": {},
   "source": [
    "### What does the collection of arrays solution['y'] mean?\n"
   ]
  },
  {
   "cell_type": "code",
   "execution_count": 150,
   "metadata": {},
   "outputs": [
    {
     "name": "stdout",
     "output_type": "stream",
     "text": [
      "Time solution shape: (7,)\n",
      "Y solution shape: (12, 7)\n",
      "x_max-1.0500610932062262, x_min-1.0500610932062262\n",
      "(1,)\n",
      "(1,)\n",
      "[-1.05006109]\n",
      "[-2.50597347]\n",
      "[0.]\n"
     ]
    },
    {
     "data": {
      "text/plain": [
       "{'a_masses': array([7.6868678e+20]),\n",
       " 'ax': array([-1.05006109]),\n",
       " 'ay': array([-2.50597347]),\n",
       " 'vx': array([1.47312792]),\n",
       " 'vy': array([-3.51562353])}"
      ]
     },
     "execution_count": 150,
     "metadata": {},
     "output_type": "execute_result"
    }
   ],
   "source": [
    "print(f\"Time solution shape: {solution['t'].shape}\")\n",
    "print(f\"Y solution shape: {solution['y'].shape}\")\n",
    "print(f\"x_max{x_coords.max()}, x_min{x_coords.min()}\")\n",
    "print(y_coords.shape)\n",
    "print(z_coords.shape)\n",
    "print(x_coords) \n",
    "print(y_coords) \n",
    "print(z_coords)\n",
    "asteroids"
   ]
  },
  {
   "cell_type": "code",
   "execution_count": 151,
   "metadata": {},
   "outputs": [],
   "source": [
    "orbits = []\n",
    "x_rng = x_coords.max() + 5 * x_coords.max()\n",
    "y_rng = y_coords.max() + 5 * y_coords.max()\n",
    "\n",
    "for i in range(x_coords.shape[0]):\n",
    "    fig = plt.figure()\n",
    "    ax = fig.add_subplot(1,1,1, projection='3d')\n",
    "    ax.scatter(y_coords[i], x_coords[i], z_coords[i])\n",
    "\n",
    "    ax.set_xlim(-x_rng - 1, x_rng + 1)    \n",
    "    ax.set_ylim(-y_rng - 1, y_rng + 1)\n",
    "    ax.set_zlim(-0.5, 0.5)\n",
    "    \n",
    "    # Used to return the plot as an image array\n",
    "    fig.canvas.draw()       # draw the canvas, cache the renderer\n",
    "    image = np.frombuffer(fig.canvas.tostring_rgb(), dtype='uint8')\n",
    "    image = image.reshape(fig.canvas.get_width_height()[::-1] + (3,))\n",
    "    orbits.append(image)\n",
    "#     plt.show()\n",
    "    plt.close()"
   ]
  },
  {
   "cell_type": "code",
   "execution_count": 103,
   "metadata": {},
   "outputs": [],
   "source": [
    "imageio.mimsave(f'./orbits.gif', orbits, fps=1.0)"
   ]
  },
  {
   "cell_type": "code",
   "execution_count": null,
   "metadata": {},
   "outputs": [],
   "source": []
  },
  {
   "cell_type": "code",
   "execution_count": null,
   "metadata": {},
   "outputs": [],
   "source": []
  }
 ],
 "metadata": {
  "kernelspec": {
   "display_name": "Python 3",
   "language": "python",
   "name": "python3"
  },
  "language_info": {
   "codemirror_mode": {
    "name": "ipython",
    "version": 3
   },
   "file_extension": ".py",
   "mimetype": "text/x-python",
   "name": "python",
   "nbconvert_exporter": "python",
   "pygments_lexer": "ipython3",
   "version": "3.7.6"
  }
 },
 "nbformat": 4,
 "nbformat_minor": 4
}
