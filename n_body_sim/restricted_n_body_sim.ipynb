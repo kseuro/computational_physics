{
 "cells": [
  {
   "cell_type": "markdown",
   "metadata": {},
   "source": [
    "# Restricted 3-Body Integration of Asteroid Orbits\n",
    "- Author: Kai Stewart\n",
    "- Semester: Spring 2020"
   ]
  },
  {
   "cell_type": "code",
   "execution_count": 31,
   "metadata": {},
   "outputs": [],
   "source": [
    "import time\n",
    "import random\n",
    "import numpy as np\n",
    "from scipy.integrate import RK45 as ODE45\n",
    "from scipy.integrate import solve_ivp as IVP\n",
    "import matplotlib.pyplot as plt\n",
    "from mpl_toolkits.mplot3d import Axes3D\n",
    "import matplotlib.animation as animation\n",
    "%matplotlib inline"
   ]
  },
  {
   "cell_type": "markdown",
   "metadata": {},
   "source": [
    "### Set a random number seed - either for reproducability or variability within the runs"
   ]
  },
  {
   "cell_type": "code",
   "execution_count": 32,
   "metadata": {},
   "outputs": [],
   "source": [
    "random.seed(time.time())"
   ]
  },
  {
   "cell_type": "markdown",
   "metadata": {},
   "source": [
    "### Define values of objects and constants\n",
    "- N is the number of asteroids. An increase in this value causes a linear increase in the runtime\n",
    "- G is the universal gravitational constant converted to units of: $AU^3 / (kg \\cdot Yr^2)$\n",
    "- M_S is the mass of the Sun in kg\n",
    "- AU is the value of one astronimical unit in meters -- the mean distance from the center of the sun to the center of the earth.\n",
    "- M_J is the mass of Jupiter in kg\n",
    "- R_J is the distance of Jupiter from the Sun in AU\n",
    "- V_J is the orbital velocity of Jupiter converted to AU/Yr\n",
    "- M_Ast is a 2-tuple representing the low and high end of asteroid masses in the asteroid belt"
   ]
  },
  {
   "cell_type": "markdown",
   "metadata": {},
   "source": [
    "[Jupiter Data - Hyperphysics](http://hyperphysics.phy-astr.gsu.edu/hbase/Solar/soldata2.html)"
   ]
  },
  {
   "cell_type": "code",
   "execution_count": 33,
   "metadata": {},
   "outputs": [],
   "source": [
    "N = 10\n",
    "G = 6.67e-11 * ( (365*86400)**2 / (1.5e11)**3 )\n",
    "M_S = 1.99e30\n",
    "AU = 1.5e11\n",
    "M_J = 1.898e27\n",
    "R_J = 5.203\n",
    "V_J = 13720 * 365 * 86400\n",
    "M_Ast = (10e10, 10e20)\n",
    "AUs = (2.1, 3.2)"
   ]
  },
  {
   "cell_type": "markdown",
   "metadata": {},
   "source": [
    "### Use the center-of-mass definition for the Sun-Jupiter system to compute x-y-coordinates\n",
    "- Setting the center of the sun as the center of the coordinate system, the center-of-mass follows as the product of each mass with that objects corresponding distance from the center of the coordinate system, divided by the sum of all the object masses.\n",
    "\n",
    "$\\text{CoM}_{Sun-Jupiter} = \\frac{ M_S\\cdot0 + M_J\\cdot R_J}{M_S + R_J}$"
   ]
  },
  {
   "cell_type": "code",
   "execution_count": 34,
   "metadata": {},
   "outputs": [],
   "source": [
    "# x0_S = -(M_J * R_J)/(M_S + M_J) # [AU]\n",
    "x0_S = 0 # [AU]\n",
    "y0_S = 0\n",
    "vx0_S = 0\n",
    "vy0_S = 0 # [AU/Yr]"
   ]
  },
  {
   "cell_type": "markdown",
   "metadata": {},
   "source": [
    "### Define the initial state vector of the sun and jupiter, assuming that both objects are co-planar"
   ]
  },
  {
   "cell_type": "code",
   "execution_count": 35,
   "metadata": {},
   "outputs": [],
   "source": [
    "s0 = [vx0_S, vy0_S, x0_S, y0_S, 0, V_J, R_J, 0]"
   ]
  },
  {
   "cell_type": "markdown",
   "metadata": {},
   "source": [
    "### Define the time over which to integrate"
   ]
  },
  {
   "cell_type": "code",
   "execution_count": 36,
   "metadata": {},
   "outputs": [],
   "source": [
    "t = 100; t_span = (0, t); first_step = 1.0; max_step = np.inf;"
   ]
  },
  {
   "cell_type": "markdown",
   "metadata": {},
   "source": [
    "# Function definitions"
   ]
  },
  {
   "cell_type": "markdown",
   "metadata": {},
   "source": [
    "### Function argument for the ODE solver\n",
    "\n",
    "Note that the graviational force on a mass $M_2$ due to a mass $M_1$ is:\n",
    "\n",
    "$F_{21} = \\frac{GM_1M_2}{|r_{21}|^2}r_{21}$\n",
    "\n",
    "where $r_{21}$ is the relative position vector for the two bodies and $|r_{21}|$ is:\n",
    "\n",
    "$|r_{21}| = \\sqrt{(x_1 - x_2)^2 + (y_1 + y_2)^2}$.\n",
    "\n",
    "We are only interested in the action of the Sun and Jupiter on the asteroid, so the computation reduces to object $k$ acting on object $i$. Letting $a = F/m$ yeilds:\n",
    "\n",
    "$x_i'' = \\frac{GM_k(x_k - x_i)}{|r|^3}$\n",
    "\n",
    "$y_i'' = \\frac{GM_k(x_k - x_i)}{|r|^3}$\n",
    "\n",
    "for $i = 1, 2, 3$ and $k = 1, 2, 3$. \n",
    "\n",
    "This system of ODE's we wish to solve for each asteroid, given some intial position and velocity."
   ]
  },
  {
   "cell_type": "code",
   "execution_count": 37,
   "metadata": {},
   "outputs": [],
   "source": [
    "def D_grav(t, s_vec, m_arr, G):\n",
    "    '''\n",
    "        Function that computes the derivatives of an N-Body Gravity problem. \n",
    "        Will be passed to the ODE45 algorithm as an argument.\n",
    "        Args:\n",
    "            - t (float): starting time for the numerical integrator. Assumed to begin at one\n",
    "                         and integrate forwards in time. Unless you're Doc Martin, of course.\n",
    "            - s_vec (array): system intitial state vector\n",
    "                - This array needs to have the form: [V_x0, V_y0, X_0, Y_0] repeated for each object.\n",
    "                  The algorithm assumes that every four entries within the array correspond to a single\n",
    "                  object, so the entries need to align accordingly.\n",
    "                - Example: 0: vx0_S, 1: vy0_S, 2: x0_S, 3: y0_S\n",
    "            - m_arr (array): Masses of the Sun, Jupiter, and a single asteroid. \n",
    "                - The array needs to have the form: [M_S, M_J, M_a].\n",
    "                  The algorithm assumes that the mass information is located at the corresponding\n",
    "                  indices in the array.\n",
    "        Returns:\n",
    "            - dsdt (Numpy array): Array of derivative values for each of the n-asteroids in the simulation.\n",
    "                                  The array has the form (N*4,): \n",
    "                                  [dvx/dt_0, dvy/dt_0, dx/dt_0, dy/dt_0, ... , dvx/dt_N, dvy/dt_N, dx/dt_N, dy/dt_N]\n",
    "    '''\n",
    "    verbose = False\n",
    "    labels = ['sun', 'jupiter', 'asteroid']\n",
    "    if verbose:\n",
    "        print(f\"t:     {t}\")\n",
    "        print(f\"s_vec: {s_vec}\")\n",
    "        print(f\"m_arr: {m_arr}\")\n",
    "        print(f\"G:     {G}\")\n",
    "\n",
    "    # Set the range of the for-loops to the length of the mass array\n",
    "    N = len(m_arr)\n",
    "    assert N==3, \"Mass array must be of length 3 only!\"\n",
    "    \n",
    "    # Set the size of the final storage array to N*4 in order to accomodate\n",
    "    # vx, vy, x, y data for each of the three objects\n",
    "    M = N*4\n",
    "    \n",
    "    # Arrays to track the position computations\n",
    "    # - x-velocity - # - y-velocity - # - x-coords - # - y-coords - #\n",
    "    vx = np.zeros(N); vy = np.zeros(N); x = np.zeros(N); y = np.zeros(N)\n",
    "\n",
    "    # Arrays to track the derivative computations\n",
    "    # --- dvx/dt --- # ----- dvy/dt ----- # ----- dx/dt ----- # --- dy/dt --- #\n",
    "    dvx = np.zeros(N); dvy = np.zeros(N); dx = np.zeros(N); dy = np.zeros(N)\n",
    "    \n",
    "    # Again, this loop assumes that every four entries in the state vector\n",
    "    # correspond to a single object. This algorithm will fail if the state\n",
    "    # vector is not constructed properly.\n",
    "    idx = 0; place = 0\n",
    "    for i in range(0, N):\n",
    "        if verbose:\n",
    "            print(f\"{labels[idx]}\")\n",
    "            print(f\"s_vec[{place}]:\",   s_vec[place])\n",
    "            print(f\"s_vec[{place+1}]:\", s_vec[place+1])\n",
    "            print(f\"s_vec[{place+2}]:\", s_vec[place+2])\n",
    "            print(f\"s_vec[{place+3}]:\", s_vec[place+3])\n",
    "        vx[i] = s_vec[place]\n",
    "        vy[i] = s_vec[place+1]\n",
    "        x[i]  = s_vec[place+2]\n",
    "        y[i]  = s_vec[place+3]\n",
    "        idx += 1\n",
    "        place += 4\n",
    "        \n",
    "    # Find the total force acting on an asteroid from the Sun and Jupiter.\n",
    "    for i in range(0, N):\n",
    "        # Position derivates are given by the current velocity\n",
    "        dx[i] = vx[i]\n",
    "        dy[i] = vy[i]\n",
    "        if verbose:\n",
    "            print(f\"{labels[i]}\")\n",
    "            print(f\"\\nt: {t}\")\n",
    "            print(f\"dx[i]: {dx[i]}\")\n",
    "            print(f\"dy[i]: {dy[i]}\\n\")\n",
    "        ## Set initial acceleration to zero and sum over the force contributions\n",
    "        ## from all of the masses (Sun, Jupiter, Asteroid)\n",
    "        a_x = 0; a_y = 0\n",
    "        for k in range(0, N):\n",
    "            if i != k:\n",
    "                # Find the separation distance\n",
    "                r_sep = (x[i] - x[k])**2 + (y[i] - y[k])**2\n",
    "                if verbose:\n",
    "                    print(f\"Accel. computation for {labels[i]},{labels[k]}\")\n",
    "                    print(f\"G: {G}\")\n",
    "                    print(f\"r_sep              : {r_sep}\")\n",
    "                    print(f\"r_sep**(3/2)       : {r_sep**(3/2)}\")\n",
    "                    print(f\"m_arr[{labels[k]}] : {m_arr[k]}\")\n",
    "                    print(f\"x[{labels[k]}]:      {x[k]}\")\n",
    "                    print(f\"x[{labels[i]}]:      {x[i]}\")\n",
    "                    print(f\"y[{labels[k]}]:      {y[k]}\")\n",
    "                    print(f\"y[{labels[i]}]:      {y[i]}\")\n",
    "                \n",
    "                # Compute the x-y components of the acceleration of the ith mass due to the kth mass\n",
    "                a_x = a_x + ((G * m_arr[k] * (x[k] - x[i])) / r_sep**(3/2))\n",
    "                a_y = a_y + ((G * m_arr[k] * (y[k] - y[i])) / r_sep**(3/2))\n",
    "                if verbose:\n",
    "                    print(f\"a_x: {a_x}\")\n",
    "                    print(f\"a_y: {a_y}\")\n",
    "            else:\n",
    "                if verbose:\n",
    "                    print(f\"No Accel. computation for {labels[i]},{labels[k]}\")\n",
    "        # Store the computed acceleration values\n",
    "        dvx[i] = a_x\n",
    "        dvy[i] = a_y\n",
    "\n",
    "    # Create a single vector from all of the computed values\n",
    "    dsdt = np.zeros(M)\n",
    "    \n",
    "    idx = 0; place = 0\n",
    "    for i in range(0, N):\n",
    "        if verbose:\n",
    "            print(f\"{labels[idx]}\")\n",
    "            print(f\"dvx[{place}]:  \", dvx[i])\n",
    "            print(f\"dvy[{place+1}]:\", dvy[i])\n",
    "            print(f\"dx[{place+2}]: \", dx[i])\n",
    "            print(f\"dy[{place+3}]: \", dy[i])\n",
    "        dsdt[place]   = dvx[i]\n",
    "        dsdt[place+1] = dvy[i]\n",
    "        dsdt[place+2] = dx[i]\n",
    "        dsdt[place+3] = dy[i]\n",
    "        idx += 1\n",
    "        place += 4\n",
    "    \n",
    "    return dsdt"
   ]
  },
  {
   "cell_type": "markdown",
   "metadata": {},
   "source": [
    "### Random floating point number generator"
   ]
  },
  {
   "cell_type": "code",
   "execution_count": 38,
   "metadata": {},
   "outputs": [],
   "source": [
    "def random_float(low, high):\n",
    "    '''\n",
    "        Function that returns a random floating point number in the range [low, high] inclusive.\n",
    "        Could use Numpy to do this, but it's more interesting to write my own function.\n",
    "        Args:\n",
    "            - low (float): lower bound of desired random float.\n",
    "            - high (float): upper bound of desired random float.\n",
    "        Returns:\n",
    "            - random floating point number\n",
    "    '''\n",
    "    return random.random()*(high-low) + low"
   ]
  },
  {
   "cell_type": "markdown",
   "metadata": {},
   "source": [
    "### Asteroid Generating Function"
   ]
  },
  {
   "cell_type": "code",
   "execution_count": 39,
   "metadata": {},
   "outputs": [],
   "source": [
    "def make_asteroids(N, G, M_S, M_Ast, AUs):\n",
    "    '''\n",
    "        - This function generates randomized arrays corresponding to asteroid masses, their position components\n",
    "          in cartesian coordinates [AU], and velocity components [AU/Yr]\n",
    "        Args:\n",
    "            - N (int): number of asteroids to generate\n",
    "            - G (float): gravitational constant\n",
    "            - M_S (float): mass of the sun used to generate random asteroid velocities\n",
    "            - M_Ast (tuple): 2-tuple of floats representing the low and high end of the masses\n",
    "                             of asteroids in the asteroid belt\n",
    "            - AUs (tuple): 2-tuple of astronomical unit used to compute starting positions\n",
    "        Returns:\n",
    "            - state_vector (dict) containing:\n",
    "                - a_masses (Numpy Array): array of N masses, each randomly distributed between 10^10 and 10^20 kg\n",
    "                - a_x (Numpy Array): array of randomly distributed x-coordinates for N asteroids\n",
    "                - a_y (Numpy Array): array of randomly distributed y-coordinates for N asteroids\n",
    "                - v_x (Numpy Array): array of randomly distributed x-velocities for N asteroids\n",
    "                - v_y (Numpy Array): array of randomly distributed y-velocities for N asteroids\n",
    "    '''\n",
    "    # Initialize the arrays\n",
    "    # ----- Masses ----- ## -- x-coords -- ## -- y-coords -- ## -- x-velocity -- ## -- y-velocity -- #\n",
    "    a_masses = np.zeros(N); a_x = np.zeros(N); a_y = np.zeros(N); v_x = np.zeros(N); v_y = np.zeros(N)\n",
    "    # ---------------------------------------------------------------------------------------------- #\n",
    "    \n",
    "    print(f'Generating {N} Asteroid(s)')\n",
    "    # Loop over N asteroids and randomly allocate coordinates and velocities\n",
    "    for i in range(N):\n",
    "        # Randomly assign an asteroid mass in the given range using a uniform distribution\n",
    "        a_masses[i] = random_float(low = M_Ast[0], high = M_Ast[1])\n",
    "        \n",
    "        # Randomly assign a starting position in AU from the Sun using a uniform distribution\n",
    "        r = random_float(low = AUs[0], high = AUs[1])\n",
    "        \n",
    "        # Generate a random starting angle between 0 and 2pi\n",
    "        theta = 2*np.pi*random_float(low = 0.0, high = 1.0)\n",
    "        \n",
    "        # Determine the velocity of the asteroid using Kepler's Third Law\n",
    "        # The period square is proportional to the cube of the semi-major axis, but for this\n",
    "        # simulation we assume a circular orbit for simplicity.\n",
    "        P = np.sqrt(r**3)\n",
    "        \n",
    "        # The velocity is the circumference of the circular orbit divided by the period\n",
    "        v = (2*np.pi*r) / P\n",
    "        \n",
    "        # Use the velocity and a trigonometric relationship to find the starting \n",
    "        # coordinates and starting velocity of the asteroid. We take the orbits\n",
    "        # to be anti-clockwise, so the starting x-velocity is in the negative direction\n",
    "        a_x[i] = r*np.cos(theta)\n",
    "        a_y[i] = r*np.sin(theta)\n",
    "        \n",
    "        v_x[i] = -v*np.sin(theta)\n",
    "        v_y[i] = v*np.cos(theta)\n",
    "    \n",
    "    return {'a_masses': a_masses, 'ax': a_x, 'ay': a_y, 'vx': v_x, 'vy': v_y}"
   ]
  },
  {
   "cell_type": "markdown",
   "metadata": {},
   "source": [
    "### Generate a collection of N asteroids"
   ]
  },
  {
   "cell_type": "code",
   "execution_count": 40,
   "metadata": {},
   "outputs": [
    {
     "name": "stdout",
     "output_type": "stream",
     "text": [
      "Generating 10 Asteroid(s)\n"
     ]
    }
   ],
   "source": [
    "asteroids = make_asteroids(N, G, M_S, M_Ast, AUs)"
   ]
  },
  {
   "cell_type": "markdown",
   "metadata": {},
   "source": [
    "#### Set the error tolerances for the numerical integrator"
   ]
  },
  {
   "cell_type": "code",
   "execution_count": 41,
   "metadata": {},
   "outputs": [],
   "source": [
    "options = {'rtol':1e-8, 'atol':1e-12, 'max_step': np.inf}"
   ]
  },
  {
   "cell_type": "markdown",
   "metadata": {},
   "source": [
    "#### Prepare lists for storing results"
   ]
  },
  {
   "cell_type": "code",
   "execution_count": 42,
   "metadata": {},
   "outputs": [],
   "source": [
    "r_init = []; r_final = []; x_coords = []; y_coords = []; #x_jup = []; y_jup = []"
   ]
  },
  {
   "cell_type": "markdown",
   "metadata": {},
   "source": [
    "## Run the numerical integration using Runge-Kutta Method\n",
    "[SciPy Solve_IVP Documentation](https://docs.scipy.org/doc/scipy/reference/generated/scipy.integrate.solve_ivp.html)\n",
    "\n",
    "[Runge-Kutta Methods](https://en.wikipedia.org/wiki/Runge–Kutta_methods)"
   ]
  },
  {
   "cell_type": "code",
   "execution_count": 43,
   "metadata": {},
   "outputs": [
    {
     "name": "stdout",
     "output_type": "stream",
     "text": [
      "Integration round: 0\n",
      "Asteroid: 0\n"
     ]
    }
   ],
   "source": [
    "int_steps = 1\n",
    "for j in range(0, int_steps):\n",
    "    print(f\"Integration round: {j}\")\n",
    "    for i in range(0, N):\n",
    "        # Periodically update progress to terminal\n",
    "        if N >= 1000 and i % 1000 == 0:\n",
    "            print(f\"Asteroid: {i}\")\n",
    "        elif N <= 500 and i % 100 == 0:\n",
    "            print(f\"Asteroid: {i}\")\n",
    "        # Calculate the asteroid's initial distance from the Sun\n",
    "        r_init.append(np.sqrt(asteroids['ax'][i]**2 + asteroids['ay'][i]**2 ))\n",
    "        \n",
    "        # Generate the initial state of the asteroid-Jupiter-Sun system\n",
    "        # We are not interested in the graviational interactions of\n",
    "        # the asteroids themselves, since this contribution is negligible\n",
    "        # compared with the contributions from Jupiter and the Sun.\n",
    "        y0 = s0 + [asteroids['vx'][i], asteroids['vy'][i], asteroids['ax'][i], asteroids['ay'][i]]\n",
    "        \n",
    "        # Include the arrays of masses corresponding to the three objects\n",
    "        masses = [M_S, M_J, asteroids['a_masses'][i]]\n",
    "        \n",
    "        # Run the numerical integration\n",
    "        ## The returned solution is a dictionary containing arrays\n",
    "        ## t: - the time over which the solution is integrated\n",
    "        ## y: - the solution of the IVP at each timestep\n",
    "        solution = IVP(D_grav, t_span, y0, method='RK45', args=(masses, G), **options)\n",
    "            \n",
    "        # Compute the final position of the asteroid after integration\n",
    "        r_final.append(np.sqrt(solution['y'][-1][-1]**2 + solution['y'][-1][-2]**2))\n",
    "        \n",
    "        # Get the x- and y-coordinates for the asteroids\n",
    "        x_coords.append(solution['y'][-2])\n",
    "        y_coords.append(solution['y'][-1])\n",
    "        \n",
    "    # Get the x- and y-coordinates for Jupiter\n",
    "#     x_jup.append(solution['y'][6])\n",
    "#     y_jup.append(solution['y'][7])"
   ]
  },
  {
   "cell_type": "markdown",
   "metadata": {},
   "source": [
    "### Convert collection of position information to numpy arrays"
   ]
  },
  {
   "cell_type": "code",
   "execution_count": 44,
   "metadata": {},
   "outputs": [],
   "source": [
    "x_coords = np.asarray(x_coords)\n",
    "y_coords = np.asarray(y_coords)"
   ]
  },
  {
   "cell_type": "code",
   "execution_count": 45,
   "metadata": {},
   "outputs": [],
   "source": [
    "# Find the shortest data array\n",
    "min_x = min([x_coords[k].shape[0] for k in range(N)])"
   ]
  },
  {
   "cell_type": "markdown",
   "metadata": {},
   "source": [
    "### Write the computed coordinates to text files"
   ]
  },
  {
   "cell_type": "markdown",
   "metadata": {},
   "source": [
    "#### Asteroid Data"
   ]
  },
  {
   "cell_type": "code",
   "execution_count": 46,
   "metadata": {},
   "outputs": [],
   "source": [
    "z_coords = np.zeros((min_x))\n",
    "for i in range(0, N):\n",
    "    data = np.vstack((x_coords[i][0:min_x], y_coords[i][0:min_x], z_coords))\n",
    "    np.savetxt(f\"./data/asteroids/asteroid{i}.txt\", data)"
   ]
  },
  {
   "cell_type": "markdown",
   "metadata": {},
   "source": [
    "#### Sun Data - Sun is centered for entire animation"
   ]
  },
  {
   "cell_type": "code",
   "execution_count": 47,
   "metadata": {},
   "outputs": [],
   "source": [
    "# data = np.vstack((np.zeros((min_x)), np.zeros((min_x)), np.zeros((min_x))))\n",
    "# np.savetxt(f\"./data/sun.txt\", data)"
   ]
  },
  {
   "cell_type": "markdown",
   "metadata": {},
   "source": [
    "#### Jupiter Data"
   ]
  },
  {
   "cell_type": "code",
   "execution_count": 48,
   "metadata": {},
   "outputs": [],
   "source": [
    "n = min_x\n",
    "x_jup = [np.cos(2*np.pi/n*x)*R_J for x in range(0, n+1)]\n",
    "y_jup = [np.sin(2*np.pi/n*x)*R_J for x in range(0, n+1)]"
   ]
  },
  {
   "cell_type": "code",
   "execution_count": 49,
   "metadata": {},
   "outputs": [],
   "source": [
    "data = np.vstack((x_jup[0:min_x], y_jup[0:min_x], z_coords))\n",
    "np.savetxt(f\"./data/jupiter/jupiter{0}.txt\", data)"
   ]
  },
  {
   "cell_type": "code",
   "execution_count": 50,
   "metadata": {},
   "outputs": [],
   "source": [
    "# del x_coords\n",
    "# del y_coords\n",
    "# del x_jup\n",
    "# del y_jup"
   ]
  },
  {
   "cell_type": "markdown",
   "metadata": {},
   "source": [
    "[Python n-Body Animation Function](https://github.com/Adnan-Ali-Ahmad/Python-animation/blob/master/3D_animation.py)"
   ]
  },
  {
   "cell_type": "code",
   "execution_count": 51,
   "metadata": {},
   "outputs": [],
   "source": [
    "# flat_orbits = []\n",
    "# for x_vec, y_vec in zip(x_coords, y_coords):\n",
    "#     for i , (x, y) in enumerate(zip(x_vec, y_vec)):\n",
    "#         fig, ax = plt.subplots()\n",
    "#         ax.scatter(x, y)\n",
    "#         ax.scatter(0, 0, c = 'k', marker = '*', s = 500)\n",
    "#         ax.set_xlim(-x_rng, x_rng)    \n",
    "#         ax.set_ylim(-y_rng, y_rng)\n",
    "    \n",
    "#         # Used to return the plot as an image array\n",
    "#         fig.canvas.draw()       # draw the canvas, cache the renderer\n",
    "#         image = np.frombuffer(fig.canvas.tostring_rgb(), dtype='uint8')\n",
    "#         image = image.reshape(fig.canvas.get_width_height()[::-1] + (3,))\n",
    "#         flat_orbits.append(image)\n",
    "#         if i % 50 == 0:\n",
    "#             plt.show()\n",
    "#         plt.close()"
   ]
  },
  {
   "cell_type": "code",
   "execution_count": 52,
   "metadata": {},
   "outputs": [],
   "source": [
    "# imageio.mimsave(f'./flat_orbits.gif', flat_orbits, fps=15.0)"
   ]
  },
  {
   "cell_type": "code",
   "execution_count": 53,
   "metadata": {},
   "outputs": [],
   "source": [
    "# del flat_orbits\n",
    "# del fig"
   ]
  },
  {
   "cell_type": "markdown",
   "metadata": {},
   "source": [
    "## Plot histogram of asteroid distributions"
   ]
  },
  {
   "cell_type": "markdown",
   "metadata": {},
   "source": [
    "#### Initial Distributions"
   ]
  },
  {
   "cell_type": "code",
   "execution_count": 54,
   "metadata": {},
   "outputs": [
    {
     "data": {
      "image/png": "[encoded data removed]",
      "text/plain": [
       "<Figure size 432x288 with 1 Axes>"
      ]
     },
     "metadata": {
      "needs_background": "light"
     },
     "output_type": "display_data"
    }
   ],
   "source": [
    "plt.rcParams['axes.facecolor']='#000000'\n",
    "fig, ax = plt.subplots()\n",
    "plt.title(f\"Initital Distribution of {N} Asteroids\\n between [{AUs[0]}, {AUs[1]}] AU\")\n",
    "ax.hist(r_init)\n",
    "ax.set_xlabel('[AU]')\n",
    "ax.set_ylabel('Counts')\n",
    "plt.show()\n",
    "plt.savefig(f\"Initital_Distribution.png\", dpi = 300)\n",
    "plt.close()"
   ]
  },
  {
   "cell_type": "markdown",
   "metadata": {},
   "source": [
    "#### Final Distributions"
   ]
  },
  {
   "cell_type": "code",
   "execution_count": 55,
   "metadata": {},
   "outputs": [
    {
     "data": {
      "image/png": "[encoded data removed]",
      "text/plain": [
       "<Figure size 432x288 with 1 Axes>"
      ]
     },
     "metadata": {
      "needs_background": "light"
     },
     "output_type": "display_data"
    }
   ],
   "source": [
    "fig, ax = plt.subplots()\n",
    "plt.title(f\"Final Distribution of {N} Asteroids\\n between [{AUs[0]}, {AUs[1]}] AU\")\n",
    "ax.hist(r_final)\n",
    "ax.set_xlabel('[AU]')\n",
    "ax.set_ylabel('Counts')\n",
    "plt.show()\n",
    "plt.close()"
   ]
  },
  {
   "cell_type": "markdown",
   "metadata": {},
   "source": [
    "# N-Body Animation Function"
   ]
  },
  {
   "cell_type": "code",
   "execution_count": 65,
   "metadata": {},
   "outputs": [],
   "source": [
    "def update_anim(i, ast_data, dots) :\n",
    "    time = i\n",
    "    ax.set_xlabel(f'X [AU]\\nSteps:{i} years', color = '#FFFFFF')\n",
    "    ax.set_ylabel(f'Y [AU]\\nSteps:{i} years', color = '#FFFFFF')\n",
    "    ax.xaxis.set_visible(False)\n",
    "    ax.yaxis.set_visible(False)\n",
    "    ax.set_frame_on(False)\n",
    "    ax.w_xaxis.set_pane_color((0.0, 0.0, 0.0))\n",
    "    for dot, data in zip(dots, ast_data) :\n",
    "            dot.set_data((data[0][i], data[1][i]))\n",
    "            dot.set_3d_properties(data[2][i])\n",
    "    return dots"
   ]
  },
  {
   "cell_type": "code",
   "execution_count": 57,
   "metadata": {},
   "outputs": [],
   "source": [
    "ast_data = []\n",
    "\n",
    "# Read asteroid data\n",
    "for asteroid in range(0, N):\n",
    "    data = np.loadtxt(f\"./data/asteroids/asteroid{asteroid}.txt\")\n",
    "    ast_data.append([data[0], data[1], data[2]])\n",
    "\n",
    "# Convert lists to single numpy array\n",
    "ast_data = np.array(ast_data) # Shape: [N, 3]"
   ]
  },
  {
   "cell_type": "code",
   "execution_count": 58,
   "metadata": {},
   "outputs": [],
   "source": [
    "# Generate Sun Data\n",
    "sun_data = np.copy(ast_data)\n",
    "sun_data.fill(0)"
   ]
  },
  {
   "cell_type": "code",
   "execution_count": 59,
   "metadata": {},
   "outputs": [],
   "source": [
    "jup_data = []\n",
    "\n",
    "# Read jupiter data\n",
    "data = np.loadtxt(f\"./data/jupiter/jupiter0.txt\")\n",
    "jup_data.append([data[0], data[1], data[2]])\n",
    "\n",
    "# Convert lists to single numpy array\n",
    "jup_data = np.array(jup_data) # Shape: [N, 3]"
   ]
  },
  {
   "cell_type": "code",
   "execution_count": 60,
   "metadata": {},
   "outputs": [
    {
     "data": {
      "image/png": "[encoded data removed]",
      "text/plain": [
       "<Figure size 432x288 with 1 Axes>"
      ]
     },
     "metadata": {
      "needs_background": "light"
     },
     "output_type": "display_data"
    }
   ],
   "source": [
    "plt.rcParams['axes.facecolor']='#000000'\n",
    "fig  = plt.figure()\n",
    "ax   = Axes3D(fig)\n",
    "\n",
    "# Plot asteroid data\n",
    "dots = [ax.plot(dat[0], dat[1], dat[2], 'o', markersize=2, color='blue', alpha = 0.75)[0] for i, dat in enumerate(ast_data)]\n",
    "\n",
    "# Plot Jupiter data\n",
    "jups = [ax.plot(dat[0], dat[1], dat[2], 'o', markersize=10, color='orange')[0] for i, dat in enumerate(jup_data)]\n",
    "\n",
    "# Plot Sun data\n",
    "suns = [ax.plot(dat[0], dat[1], dat[2], 'o', markersize=30, color='yellow', alpha = 0.50)[0] for i, dat in enumerate(sun_data)]"
   ]
  },
  {
   "cell_type": "code",
   "execution_count": 61,
   "metadata": {},
   "outputs": [],
   "source": [
    "# Put the solar system back together\n",
    "ast_data = np.concatenate((ast_data, sun_data, jup_data), axis=0)\n",
    "dots.extend(suns)\n",
    "dots.extend(jups)"
   ]
  },
  {
   "cell_type": "code",
   "execution_count": 62,
   "metadata": {},
   "outputs": [],
   "source": [
    "# Set up formatting for the movie files\n",
    "Writer = animation.writers['ffmpeg']\n",
    "writer = Writer(fps=24, metadata=dict(artist='Me'), bitrate=1800)"
   ]
  },
  {
   "cell_type": "markdown",
   "metadata": {},
   "source": [
    "### Write and save the animation"
   ]
  },
  {
   "cell_type": "code",
   "execution_count": 66,
   "metadata": {},
   "outputs": [],
   "source": [
    "anim = animation.FuncAnimation(fig, update_anim, ast_data[0][0].size, fargs=(ast_data, dots), interval=1, blit=False)"
   ]
  },
  {
   "cell_type": "code",
   "execution_count": null,
   "metadata": {},
   "outputs": [],
   "source": [
    "anim.save(f\"restricted_{N}-Body.mp4\", writer=writer, savefig_kwargs={'transparent': True, 'facecolor': '#000000'})"
   ]
  },
  {
   "cell_type": "code",
   "execution_count": null,
   "metadata": {},
   "outputs": [],
   "source": []
  }
 ],
 "metadata": {
  "kernelspec": {
   "display_name": "Python 3",
   "language": "python",
   "name": "python3"
  },
  "language_info": {
   "codemirror_mode": {
    "name": "ipython",
    "version": 3
   },
   "file_extension": ".py",
   "mimetype": "text/x-python",
   "name": "python",
   "nbconvert_exporter": "python",
   "pygments_lexer": "ipython3",
   "version": "3.7.6"
  }
 },
 "nbformat": 4,
 "nbformat_minor": 4
}
