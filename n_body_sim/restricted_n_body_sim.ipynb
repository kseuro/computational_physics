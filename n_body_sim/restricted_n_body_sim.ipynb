{
 "cells": [
  {
   "cell_type": "markdown",
   "metadata": {},
   "source": [
    "# Restricted 3-Body Integration of Asteroid Orbits\n",
    "- Author: Kai Stewart\n",
    "- Semester: Spring 2020"
   ]
  },
  {
   "cell_type": "code",
   "execution_count": 1,
   "metadata": {},
   "outputs": [],
   "source": [
    "import time\n",
    "import random\n",
    "import numpy as np\n",
    "from scipy.integrate import RK45 as ODE45\n",
    "from scipy.integrate import solve_ivp as IVP\n",
    "import matplotlib.pyplot as plt\n",
    "%matplotlib inline"
   ]
  },
  {
   "cell_type": "markdown",
   "metadata": {},
   "source": [
    "### Set a random number seed - either for reproducability or variability within the runs"
   ]
  },
  {
   "cell_type": "code",
   "execution_count": 2,
   "metadata": {},
   "outputs": [],
   "source": [
    "random.seed(time.time())"
   ]
  },
  {
   "cell_type": "markdown",
   "metadata": {},
   "source": [
    "### Define values of objects and constants\n",
    "- N is the number of asteroids. An increase in this value causes a linear increase in the runtime\n",
    "- G is the universal gravitational constant converted to units of: $AU^3 / (kg \\cdot Yr^2)$\n",
    "- M_S is the mass of the Sun in kg\n",
    "- AU is the value of one astronimical unit in meters -- the mean distance from the center of the sun to the center of the earth.\n",
    "- M_J is the mass of Jupiter in kg\n",
    "- R_J is the distance of Jupiter from the Sun in AU\n",
    "- V_J is the orbital velocity of Jupiter converted to AU/Yr"
   ]
  },
  {
   "cell_type": "code",
   "execution_count": 3,
   "metadata": {},
   "outputs": [],
   "source": [
    "N = 1\n",
    "G = 6.67e-11 * ( (365*86400)**2 / (1.5e11)**3 )\n",
    "M_S = 1.99e30\n",
    "AU = 1.5e11\n",
    "M_J = 1.898e27\n",
    "R_J = 7.41e11 \n",
    "V_J = 13720 * 365 * 86400"
   ]
  },
  {
   "cell_type": "markdown",
   "metadata": {},
   "source": [
    "### Use the center-of-mass definition for the Sun-Jupiter system to compute x-y-coordinates\n",
    "- Setting the center of the sun as the center of the coordinate system, the center-of-mass follows as the product of each mass with that objects corresponding distance from the center of the coordinate system, divided by the sum of all the object masses.\n",
    "\n",
    "$\\text{CoM}_{Sun-Jupiter} = \\frac{ M_S\\cdot0 + M_J\\cdot R_J}{M_S + R_J}$"
   ]
  },
  {
   "cell_type": "code",
   "execution_count": 4,
   "metadata": {},
   "outputs": [],
   "source": [
    "x0_S = -(M_J * R_J)/(M_S + M_J) # [AU]\n",
    "y0_S = 0\n",
    "vx0_S = 0\n",
    "vy0_S = -(1/M_S)*(M_S * V_J) #[AU/Yr]"
   ]
  },
  {
   "cell_type": "markdown",
   "metadata": {},
   "source": [
    "### Define the initial state vector of the sun and jupiter, assuming that both objects are co-planar"
   ]
  },
  {
   "cell_type": "code",
   "execution_count": 5,
   "metadata": {},
   "outputs": [],
   "source": [
    "s0 = [vx0_S, vy0_S, x0_S, y0_S, 0, V_J, R_J, 0]"
   ]
  },
  {
   "cell_type": "markdown",
   "metadata": {},
   "source": [
    "### Set the number of years (range) over which to integrate"
   ]
  },
  {
   "cell_type": "code",
   "execution_count": 6,
   "metadata": {},
   "outputs": [],
   "source": [
    "t = 1000; t_span = [0, t]"
   ]
  },
  {
   "cell_type": "markdown",
   "metadata": {},
   "source": [
    "### Function definitions"
   ]
  },
  {
   "cell_type": "code",
   "execution_count": 7,
   "metadata": {},
   "outputs": [],
   "source": [
    "def random_float(low, high):\n",
    "    '''\n",
    "        Function that returns a random floating point number in the range [low, high] inclusive.\n",
    "        Could use Numpy to do this, but it's more interesting to write my own function.\n",
    "        Args:\n",
    "            - low (float): lower bound of desired random float.\n",
    "            - high (float): upper bound of desired random float.\n",
    "        Returns:\n",
    "            - random floating point number\n",
    "    '''\n",
    "    return random.random()*(high-low) + low"
   ]
  },
  {
   "cell_type": "code",
   "execution_count": 8,
   "metadata": {},
   "outputs": [],
   "source": [
    "def D_grav(t, s_vec, m_arr, G):\n",
    "    '''\n",
    "        Function that computes the derivatives of an N-Body Gravity problem. \n",
    "        Will be passed to the ODE45 algorithm as an argument.\n",
    "        Args:\n",
    "            - t (float): starting time for the numerical integrator. Assumed to begin at one\n",
    "                         and integrate forwards in time. Unless you're Doc Martin, of course.\n",
    "            - s_vec (array): system intitial state vector\n",
    "                - This array needs to have the form: [V_x0, V_y0, X_0, Y_0] repeated for each object.\n",
    "                  The algorithm assumes that every four entries within the array correspond to a single\n",
    "                  object, so the entries need to align accordingly.\n",
    "            - m_arr (array): Masses of the Sun, Jupiter, and a single asteroid. \n",
    "                - The array needs to have the form: [M_S, M_J, M_a].\n",
    "                  The algorithm assumes that the mass information is located at the corresponding\n",
    "                  indices in the array.\n",
    "        Returns:\n",
    "            - dsdt (Numpy array): Array of derivative values for each of the n-asteroids in the simulation.\n",
    "                                  The array has the form (n,): \n",
    "                                  [dvx/dt_0, dvy/dt_0, dx/dt_0, dy/dt_0, ... , dvx/dt_N, dvy/dt_N, dx/dt_N, dy/dt_N]\n",
    "    '''\n",
    "    # Set the range of the for-loops to the length of the mass array\n",
    "    N = len(m_arr)\n",
    "    assert N==3, \"Mass array must be of length 3 only!\"\n",
    "    \n",
    "    # Set the size of the storage arrays to N*4 in order to accomodate\n",
    "    # vx, vy, x, y data for each of the three objects\n",
    "    M = N*4\n",
    "    \n",
    "    # Arrays to track the position computations\n",
    "    # - x-velocity - # - y-velocity - # - x-coords - # - y-coords - #\n",
    "    vx = np.zeros(M); vy = np.zeros(M); x = np.zeros(M); y = np.zeros(M)\n",
    "\n",
    "    # Arrays to track the derivative computations\n",
    "    # --- dvx/dt --- # ----- dvy/dt ----- # ----- dx/dt ----- # --- dy/dt --- #\n",
    "    dvx = np.zeros(M); dvy = np.zeros(M); dx = np.zeros(M); dy = np.zeros(M)\n",
    "    \n",
    "    # Again, this loop assumes that every four entries in the state vector\n",
    "    # correspond to a single object. This algorithm will fail if the state\n",
    "    # vector is not constructed properly.\n",
    "    for i in range(0, N*4, 4):\n",
    "        vx[i] = s_vec[i]\n",
    "        vy[i] = s_vec[i+1]\n",
    "        x[i]  = s_vec[i+2]\n",
    "        y[i]  = s_vec[i+3]\n",
    "\n",
    "        # Position derivates are given by the current velocity\n",
    "        dx[i] = vx[i]\n",
    "        dy[i] = vy[i]\n",
    "        \n",
    "        # Find the total force acting on an asteroid from the Sun and Jupiter.\n",
    "        ## Set initial acceleration to zero and sum over the force contributions\n",
    "        ## from all of the masses (Sun, Jupiter, Asteroid)\n",
    "        a_x = 0; a_y = 0\n",
    "        for k in range(N):\n",
    "            if i != k:\n",
    "                # Find the separation distance\n",
    "                r_sep = (x[i] - x[k])**2 + (y[i] - y[k])**2\n",
    "                # Compute the x-y components of the acceleration of the ith mass due to the kth mass\n",
    "                a_x = a_x + (G * m_arr[k] * (x[k] - x[i])) / (r_sep**(3/2))\n",
    "                a_y = a_y + (G * m_arr[k] * (y[k] - y[i])) / (r_sep**(3/2))\n",
    "        # Store the computed acceleration values\n",
    "        dvx[i] = a_x\n",
    "        dvy[i] = a_y\n",
    "    \n",
    "    # Create a single vector from all of the computed values for the ODE45 algorithm\n",
    "    dsdt = np.zeros(M)\n",
    "\n",
    "    for i in range(0, N, 4):\n",
    "        dsdt[i]   = dvx[i]\n",
    "        dsdt[i+1] = dvy[i+1]\n",
    "        dsdt[i+2] = x[i+2]\n",
    "        dsdt[i+3] = y[i+3]\n",
    "    \n",
    "    return dsdt"
   ]
  },
  {
   "cell_type": "code",
   "execution_count": 9,
   "metadata": {},
   "outputs": [],
   "source": [
    "def make_asteroids(N,G,M_S):\n",
    "    '''\n",
    "        - This function generates randomized arrays corresponding to asteroid masses, their position components\n",
    "          in cartesian coordinates [AU], and velocity components [AU/Yr]\n",
    "        Args:\n",
    "            - N (int): number of asteroids to generate\n",
    "            - G (float): gravitational constant\n",
    "            - M_S (float): mass of the sun used to generate random asteroid velocities\n",
    "        Returns:\n",
    "            - state_vector (dict) containing:\n",
    "                - a_masses (Numpy Array): array of N masses, each randomly distributed between 10^10 and 10^20 kg\n",
    "                - a_x (Numpy Array): array of randomly distributed x-coordinates for N asteroids\n",
    "                - a_y (Numpy Array): array of randomly distributed y-coordinates for N asteroids\n",
    "                - v_x (Numpy Array): array of randomly distributed x-velocities for N asteroids\n",
    "                - v_y (Numpy Array): array of randomly distributed y-velocities for N asteroids\n",
    "    '''\n",
    "    # Initialize the arrays\n",
    "    # ----- Masses ----- ## -- x-coords -- ## -- y-coords -- ## -- x-velocity -- ## -- y-velocity -- #\n",
    "    a_masses = np.zeros(N); a_x = np.zeros(N); a_y = np.zeros(N); v_x = np.zeros(N); v_y = np.zeros(N)\n",
    "    # ---------------------------------------------------------------------------------------------- #\n",
    "    \n",
    "    # Loop over N asteroids and randomly allocate coordinates and velocities\n",
    "    for i in range(N):\n",
    "        # Randomly assign an asteroid mass in the given range using a uniform distribution\n",
    "        a_masses[i] = random_float(low = 10e10, high = 10e20)\n",
    "        \n",
    "        # Randomly assign a starting position in AU from the Sun using a uniform\n",
    "        # distribution between 2 and 3.5 AU\n",
    "        r = random_float(low = 2.0, high = 3.5)\n",
    "        \n",
    "        # Generate a random starting angle between 0 and 2pi\n",
    "        theta = 2*np.pi*random_float(low = 0.0, high = 1.0)\n",
    "        \n",
    "        # Determine the velocity of the asteroid using Kepler's Third Law\n",
    "        # The period square is proportional to the cube of the semi-major axis, but for this\n",
    "        # simulation we assume a circular orbit for simplicity.\n",
    "        P = np.sqrt(r**3)\n",
    "        \n",
    "        # The velocity is the circumference of the circular orbit divided by the period\n",
    "        v = (2*np.pi*r) / P\n",
    "        \n",
    "        # Use the velocity and a trigonometric relationship to find the starting \n",
    "        # coordinates and starting velocity of the asteroid. We take the orbits\n",
    "        # to be anti-clockwise, so the starting x-velocity is in the negative direction\n",
    "        a_x[i] = r*np.cos(theta)\n",
    "        a_y[i] = r*np.sin(theta)\n",
    "        \n",
    "        v_x[i] = -v*np.cos(theta)\n",
    "        v_y[i] = v*np.sin(theta)\n",
    "    \n",
    "    return {'a_masses': a_masses, 'ax': a_x, 'ay': a_y, 'vx': v_x, 'vy': v_y}"
   ]
  },
  {
   "cell_type": "markdown",
   "metadata": {},
   "source": [
    "### Generate a collection of N asteroids"
   ]
  },
  {
   "cell_type": "code",
   "execution_count": 10,
   "metadata": {},
   "outputs": [],
   "source": [
    "asteroids = make_asteroids(N, G, M_S)"
   ]
  },
  {
   "cell_type": "markdown",
   "metadata": {},
   "source": [
    "#### Set the error tolerances for the numerical integrator"
   ]
  },
  {
   "cell_type": "code",
   "execution_count": 11,
   "metadata": {},
   "outputs": [],
   "source": [
    "options = {'rtol':1e-8, 'atol':1e-12}"
   ]
  },
  {
   "cell_type": "markdown",
   "metadata": {},
   "source": [
    "#### Run the numerical integration\n",
    "[SciPy Solve_IVP Documentation](https://docs.scipy.org/doc/scipy/reference/generated/scipy.integrate.solve_ivp.html)"
   ]
  },
  {
   "cell_type": "code",
   "execution_count": 12,
   "metadata": {},
   "outputs": [
    {
     "name": "stdout",
     "output_type": "stream",
     "text": [
      "Asteroid 0\n"
     ]
    }
   ],
   "source": [
    "r_init = []; r_final = []\n",
    "for i in range(0, N):\n",
    "    \n",
    "    # Periodically update progress to terminal\n",
    "    if i % 500 == 0:\n",
    "        print(f\"Asteroid {i}\")\n",
    "    \n",
    "    # Calculate the asteroids initial distance from the Sun\n",
    "    r_init.append( np.sqrt( asteroids['ax'][i]**2 + asteroids['ay'][i]**2 ) )\n",
    "    \n",
    "    # Generate the initial state of the asteroid-Jupiter-Sun system\n",
    "    # We are not interested in the graviational interactions of\n",
    "    # the asteroids themselves, since this contribution is negligible\n",
    "    # compared with the contributions from Jupiter and the Sun.\n",
    "    y0 = s0 + [asteroids['vx'][i], asteroids['vy'][i], asteroids['ax'][i], asteroids['ay'][i]]\n",
    "    \n",
    "    # Include the arrays of masses corresponding to the three objects\n",
    "    masses = [M_S, M_J, asteroids['a_masses'][i]]\n",
    "    \n",
    "    # Run the numerical integration\n",
    "    solution = IVP(D_grav, t_span, y0, method='RK45', args=(masses, G), **options)\n",
    "    \n",
    "    # Compute the final position of the asteroid after integration\n",
    "#     r = np.sqrt(s_solution[-1] + s_solution[-2])\n",
    "#     r_final.append(r)"
   ]
  },
  {
   "cell_type": "markdown",
   "metadata": {},
   "source": [
    "### What does the collection of arrays solution['y'] mean?\n"
   ]
  },
  {
   "cell_type": "code",
   "execution_count": 13,
   "metadata": {},
   "outputs": [
    {
     "data": {
      "text/plain": [
       "array([[ 0.00000000e+00,  7.48284908e-24,  8.23113398e-23,\n",
       "         8.30596247e-22,  8.31344532e-21,  8.31419361e-20,\n",
       "         8.31426844e-19,  8.31427592e-18,  7.48284908e-17],\n",
       "       [-4.32673920e+11, -4.32673920e+11, -4.32673920e+11,\n",
       "        -4.32673920e+11, -4.32673920e+11, -4.32673920e+11,\n",
       "        -4.32673920e+11, -4.32673920e+11, -4.32673920e+11],\n",
       "       [-7.06069287e+08, -7.06069287e+08, -7.06069287e+08,\n",
       "        -7.06069287e+08, -7.06069287e+08, -7.06069287e+08,\n",
       "        -7.06069287e+08, -7.06069287e+08, -7.06069287e+08],\n",
       "       [ 0.00000000e+00,  0.00000000e+00,  0.00000000e+00,\n",
       "         0.00000000e+00,  0.00000000e+00,  0.00000000e+00,\n",
       "         0.00000000e+00,  0.00000000e+00,  0.00000000e+00],\n",
       "       [ 0.00000000e+00,  0.00000000e+00,  0.00000000e+00,\n",
       "         0.00000000e+00,  0.00000000e+00,  0.00000000e+00,\n",
       "         0.00000000e+00,  0.00000000e+00,  0.00000000e+00],\n",
       "       [ 4.32673920e+11,  4.32673920e+11,  4.32673920e+11,\n",
       "         4.32673920e+11,  4.32673920e+11,  4.32673920e+11,\n",
       "         4.32673920e+11,  4.32673920e+11,  4.32673920e+11],\n",
       "       [ 7.41000000e+11,  7.41000000e+11,  7.41000000e+11,\n",
       "         7.41000000e+11,  7.41000000e+11,  7.41000000e+11,\n",
       "         7.41000000e+11,  7.41000000e+11,  7.41000000e+11],\n",
       "       [ 0.00000000e+00,  0.00000000e+00,  0.00000000e+00,\n",
       "         0.00000000e+00,  0.00000000e+00,  0.00000000e+00,\n",
       "         0.00000000e+00,  0.00000000e+00,  0.00000000e+00],\n",
       "       [-1.54612301e+00, -1.54612301e+00, -1.54612301e+00,\n",
       "        -1.54612301e+00, -1.54612301e+00, -1.54612301e+00,\n",
       "        -1.54612301e+00, -1.54612301e+00, -1.54612301e+00],\n",
       "       [ 3.43172763e+00,  3.43172763e+00,  3.43172763e+00,\n",
       "         3.43172763e+00,  3.43172763e+00,  3.43172763e+00,\n",
       "         3.43172763e+00,  3.43172763e+00,  3.43172763e+00],\n",
       "       [ 1.14465709e+00,  1.14465709e+00,  1.14465709e+00,\n",
       "         1.14465709e+00,  1.14465709e+00,  1.14465709e+00,\n",
       "         1.14465709e+00,  1.14465709e+00,  1.14465709e+00],\n",
       "       [ 2.54064608e+00,  2.54064608e+00,  2.54064608e+00,\n",
       "         2.54064608e+00,  2.54064608e+00,  2.54064608e+00,\n",
       "         2.54064608e+00,  2.54064608e+00,  2.54064608e+00]])"
      ]
     },
     "execution_count": 13,
     "metadata": {},
     "output_type": "execute_result"
    }
   ],
   "source": [
    "solution['y']"
   ]
  },
  {
   "cell_type": "code",
   "execution_count": 14,
   "metadata": {},
   "outputs": [
    {
     "data": {
      "text/plain": [
       "array([0.000000e+00, 1.000000e-04, 1.100000e-03, 1.110000e-02,\n",
       "       1.111000e-01, 1.111100e+00, 1.111110e+01, 1.111111e+02,\n",
       "       1.000000e+03])"
      ]
     },
     "execution_count": 14,
     "metadata": {},
     "output_type": "execute_result"
    }
   ],
   "source": [
    "solution['t']"
   ]
  },
  {
   "cell_type": "code",
   "execution_count": 15,
   "metadata": {},
   "outputs": [
    {
     "ename": "ValueError",
     "evalue": "x and y must have same first dimension, but have shapes (9,) and (12, 9)",
     "output_type": "error",
     "traceback": [
      "\u001b[0;31m---------------------------------------------------------------------------\u001b[0m",
      "\u001b[0;31mValueError\u001b[0m                                Traceback (most recent call last)",
      "\u001b[0;32m<ipython-input-15-309b0b480730>\u001b[0m in \u001b[0;36m<module>\u001b[0;34m\u001b[0m\n\u001b[0;32m----> 1\u001b[0;31m \u001b[0mplt\u001b[0m\u001b[0;34m.\u001b[0m\u001b[0mplot\u001b[0m\u001b[0;34m(\u001b[0m\u001b[0msolution\u001b[0m\u001b[0;34m[\u001b[0m\u001b[0;34m't'\u001b[0m\u001b[0;34m]\u001b[0m\u001b[0;34m,\u001b[0m \u001b[0msolution\u001b[0m\u001b[0;34m[\u001b[0m\u001b[0;34m'y'\u001b[0m\u001b[0;34m]\u001b[0m\u001b[0;34m)\u001b[0m\u001b[0;34m\u001b[0m\u001b[0;34m\u001b[0m\u001b[0m\n\u001b[0m",
      "\u001b[0;32m/usr/local/lib/python3.7/site-packages/matplotlib/pyplot.py\u001b[0m in \u001b[0;36mplot\u001b[0;34m(scalex, scaley, data, *args, **kwargs)\u001b[0m\n\u001b[1;32m   2793\u001b[0m     return gca().plot(\n\u001b[1;32m   2794\u001b[0m         *args, scalex=scalex, scaley=scaley, **({\"data\": data} if data\n\u001b[0;32m-> 2795\u001b[0;31m         is not None else {}), **kwargs)\n\u001b[0m\u001b[1;32m   2796\u001b[0m \u001b[0;34m\u001b[0m\u001b[0m\n\u001b[1;32m   2797\u001b[0m \u001b[0;34m\u001b[0m\u001b[0m\n",
      "\u001b[0;32m/usr/local/lib/python3.7/site-packages/matplotlib/axes/_axes.py\u001b[0m in \u001b[0;36mplot\u001b[0;34m(self, scalex, scaley, data, *args, **kwargs)\u001b[0m\n\u001b[1;32m   1664\u001b[0m         \"\"\"\n\u001b[1;32m   1665\u001b[0m         \u001b[0mkwargs\u001b[0m \u001b[0;34m=\u001b[0m \u001b[0mcbook\u001b[0m\u001b[0;34m.\u001b[0m\u001b[0mnormalize_kwargs\u001b[0m\u001b[0;34m(\u001b[0m\u001b[0mkwargs\u001b[0m\u001b[0;34m,\u001b[0m \u001b[0mmlines\u001b[0m\u001b[0;34m.\u001b[0m\u001b[0mLine2D\u001b[0m\u001b[0;34m.\u001b[0m\u001b[0m_alias_map\u001b[0m\u001b[0;34m)\u001b[0m\u001b[0;34m\u001b[0m\u001b[0;34m\u001b[0m\u001b[0m\n\u001b[0;32m-> 1666\u001b[0;31m         \u001b[0mlines\u001b[0m \u001b[0;34m=\u001b[0m \u001b[0;34m[\u001b[0m\u001b[0;34m*\u001b[0m\u001b[0mself\u001b[0m\u001b[0;34m.\u001b[0m\u001b[0m_get_lines\u001b[0m\u001b[0;34m(\u001b[0m\u001b[0;34m*\u001b[0m\u001b[0margs\u001b[0m\u001b[0;34m,\u001b[0m \u001b[0mdata\u001b[0m\u001b[0;34m=\u001b[0m\u001b[0mdata\u001b[0m\u001b[0;34m,\u001b[0m \u001b[0;34m**\u001b[0m\u001b[0mkwargs\u001b[0m\u001b[0;34m)\u001b[0m\u001b[0;34m]\u001b[0m\u001b[0;34m\u001b[0m\u001b[0;34m\u001b[0m\u001b[0m\n\u001b[0m\u001b[1;32m   1667\u001b[0m         \u001b[0;32mfor\u001b[0m \u001b[0mline\u001b[0m \u001b[0;32min\u001b[0m \u001b[0mlines\u001b[0m\u001b[0;34m:\u001b[0m\u001b[0;34m\u001b[0m\u001b[0;34m\u001b[0m\u001b[0m\n\u001b[1;32m   1668\u001b[0m             \u001b[0mself\u001b[0m\u001b[0;34m.\u001b[0m\u001b[0madd_line\u001b[0m\u001b[0;34m(\u001b[0m\u001b[0mline\u001b[0m\u001b[0;34m)\u001b[0m\u001b[0;34m\u001b[0m\u001b[0;34m\u001b[0m\u001b[0m\n",
      "\u001b[0;32m/usr/local/lib/python3.7/site-packages/matplotlib/axes/_base.py\u001b[0m in \u001b[0;36m__call__\u001b[0;34m(self, *args, **kwargs)\u001b[0m\n\u001b[1;32m    223\u001b[0m                 \u001b[0mthis\u001b[0m \u001b[0;34m+=\u001b[0m \u001b[0margs\u001b[0m\u001b[0;34m[\u001b[0m\u001b[0;36m0\u001b[0m\u001b[0;34m]\u001b[0m\u001b[0;34m,\u001b[0m\u001b[0;34m\u001b[0m\u001b[0;34m\u001b[0m\u001b[0m\n\u001b[1;32m    224\u001b[0m                 \u001b[0margs\u001b[0m \u001b[0;34m=\u001b[0m \u001b[0margs\u001b[0m\u001b[0;34m[\u001b[0m\u001b[0;36m1\u001b[0m\u001b[0;34m:\u001b[0m\u001b[0;34m]\u001b[0m\u001b[0;34m\u001b[0m\u001b[0;34m\u001b[0m\u001b[0m\n\u001b[0;32m--> 225\u001b[0;31m             \u001b[0;32myield\u001b[0m \u001b[0;32mfrom\u001b[0m \u001b[0mself\u001b[0m\u001b[0;34m.\u001b[0m\u001b[0m_plot_args\u001b[0m\u001b[0;34m(\u001b[0m\u001b[0mthis\u001b[0m\u001b[0;34m,\u001b[0m \u001b[0mkwargs\u001b[0m\u001b[0;34m)\u001b[0m\u001b[0;34m\u001b[0m\u001b[0;34m\u001b[0m\u001b[0m\n\u001b[0m\u001b[1;32m    226\u001b[0m \u001b[0;34m\u001b[0m\u001b[0m\n\u001b[1;32m    227\u001b[0m     \u001b[0;32mdef\u001b[0m \u001b[0mget_next_color\u001b[0m\u001b[0;34m(\u001b[0m\u001b[0mself\u001b[0m\u001b[0;34m)\u001b[0m\u001b[0;34m:\u001b[0m\u001b[0;34m\u001b[0m\u001b[0;34m\u001b[0m\u001b[0m\n",
      "\u001b[0;32m/usr/local/lib/python3.7/site-packages/matplotlib/axes/_base.py\u001b[0m in \u001b[0;36m_plot_args\u001b[0;34m(self, tup, kwargs)\u001b[0m\n\u001b[1;32m    389\u001b[0m             \u001b[0mx\u001b[0m\u001b[0;34m,\u001b[0m \u001b[0my\u001b[0m \u001b[0;34m=\u001b[0m \u001b[0mindex_of\u001b[0m\u001b[0;34m(\u001b[0m\u001b[0mtup\u001b[0m\u001b[0;34m[\u001b[0m\u001b[0;34m-\u001b[0m\u001b[0;36m1\u001b[0m\u001b[0;34m]\u001b[0m\u001b[0;34m)\u001b[0m\u001b[0;34m\u001b[0m\u001b[0;34m\u001b[0m\u001b[0m\n\u001b[1;32m    390\u001b[0m \u001b[0;34m\u001b[0m\u001b[0m\n\u001b[0;32m--> 391\u001b[0;31m         \u001b[0mx\u001b[0m\u001b[0;34m,\u001b[0m \u001b[0my\u001b[0m \u001b[0;34m=\u001b[0m \u001b[0mself\u001b[0m\u001b[0;34m.\u001b[0m\u001b[0m_xy_from_xy\u001b[0m\u001b[0;34m(\u001b[0m\u001b[0mx\u001b[0m\u001b[0;34m,\u001b[0m \u001b[0my\u001b[0m\u001b[0;34m)\u001b[0m\u001b[0;34m\u001b[0m\u001b[0;34m\u001b[0m\u001b[0m\n\u001b[0m\u001b[1;32m    392\u001b[0m \u001b[0;34m\u001b[0m\u001b[0m\n\u001b[1;32m    393\u001b[0m         \u001b[0;32mif\u001b[0m \u001b[0mself\u001b[0m\u001b[0;34m.\u001b[0m\u001b[0mcommand\u001b[0m \u001b[0;34m==\u001b[0m \u001b[0;34m'plot'\u001b[0m\u001b[0;34m:\u001b[0m\u001b[0;34m\u001b[0m\u001b[0;34m\u001b[0m\u001b[0m\n",
      "\u001b[0;32m/usr/local/lib/python3.7/site-packages/matplotlib/axes/_base.py\u001b[0m in \u001b[0;36m_xy_from_xy\u001b[0;34m(self, x, y)\u001b[0m\n\u001b[1;32m    268\u001b[0m         \u001b[0;32mif\u001b[0m \u001b[0mx\u001b[0m\u001b[0;34m.\u001b[0m\u001b[0mshape\u001b[0m\u001b[0;34m[\u001b[0m\u001b[0;36m0\u001b[0m\u001b[0;34m]\u001b[0m \u001b[0;34m!=\u001b[0m \u001b[0my\u001b[0m\u001b[0;34m.\u001b[0m\u001b[0mshape\u001b[0m\u001b[0;34m[\u001b[0m\u001b[0;36m0\u001b[0m\u001b[0;34m]\u001b[0m\u001b[0;34m:\u001b[0m\u001b[0;34m\u001b[0m\u001b[0;34m\u001b[0m\u001b[0m\n\u001b[1;32m    269\u001b[0m             raise ValueError(\"x and y must have same first dimension, but \"\n\u001b[0;32m--> 270\u001b[0;31m                              \"have shapes {} and {}\".format(x.shape, y.shape))\n\u001b[0m\u001b[1;32m    271\u001b[0m         \u001b[0;32mif\u001b[0m \u001b[0mx\u001b[0m\u001b[0;34m.\u001b[0m\u001b[0mndim\u001b[0m \u001b[0;34m>\u001b[0m \u001b[0;36m2\u001b[0m \u001b[0;32mor\u001b[0m \u001b[0my\u001b[0m\u001b[0;34m.\u001b[0m\u001b[0mndim\u001b[0m \u001b[0;34m>\u001b[0m \u001b[0;36m2\u001b[0m\u001b[0;34m:\u001b[0m\u001b[0;34m\u001b[0m\u001b[0;34m\u001b[0m\u001b[0m\n\u001b[1;32m    272\u001b[0m             raise ValueError(\"x and y can be no greater than 2-D, but have \"\n",
      "\u001b[0;31mValueError\u001b[0m: x and y must have same first dimension, but have shapes (9,) and (12, 9)"
     ]
    },
    {
     "data": {
      "image/png": "[encoded data removed]",
      "text/plain": [
       "<Figure size 432x288 with 1 Axes>"
      ]
     },
     "metadata": {
      "needs_background": "light"
     },
     "output_type": "display_data"
    }
   ],
   "source": [
    "plt.plot(solution['t'], solution['y'])"
   ]
  },
  {
   "cell_type": "code",
   "execution_count": null,
   "metadata": {},
   "outputs": [],
   "source": []
  }
 ],
 "metadata": {
  "kernelspec": {
   "display_name": "Python 3",
   "language": "python",
   "name": "python3"
  },
  "language_info": {
   "codemirror_mode": {
    "name": "ipython",
    "version": 3
   },
   "file_extension": ".py",
   "mimetype": "text/x-python",
   "name": "python",
   "nbconvert_exporter": "python",
   "pygments_lexer": "ipython3",
   "version": "3.7.6"
  }
 },
 "nbformat": 4,
 "nbformat_minor": 4
}
