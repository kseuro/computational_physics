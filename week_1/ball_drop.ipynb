{
 "cells": [
  {
   "cell_type": "markdown",
   "metadata": {},
   "source": [
    "# Dropping a ball\n",
    "Written by Tim Atherton for Computational Physics\n",
    "    - Modified by: Kai Stewart, Felix Hu\n",
    "January 16, 2020\n",
    "\n",
    "This program aims to simulate the motion of a ball dropped from an initial height of $y0$ under gravity $g$ using the Euler discretization."
   ]
  },
  {
   "cell_type": "markdown",
   "metadata": {},
   "source": [
    "## Import libraries for plotting and numerical work"
   ]
  },
  {
   "cell_type": "code",
   "execution_count": 2,
   "metadata": {},
   "outputs": [
    {
     "name": "stdout",
     "output_type": "stream",
     "text": [
      "3.6.10 |Anaconda, Inc.| (default, Jan  7 2020, 15:01:53) \n",
      "[GCC 4.2.1 Compatible Clang 4.0.1 (tags/RELEASE_401/final)]\n"
     ]
    }
   ],
   "source": [
    "import sys\n",
    "print(sys.version)"
   ]
  },
  {
   "cell_type": "code",
   "execution_count": 3,
   "metadata": {},
   "outputs": [],
   "source": [
    "import matplotlib.pyplot as plt\n",
    "import numpy as np\n",
    "import pandas as pd"
   ]
  },
  {
   "cell_type": "markdown",
   "metadata": {},
   "source": [
    "## Set up general parameters for the calculation\n",
    "- Gravitational acceleration constant: $10 \\frac{m}{s^2}$\n",
    "\n",
    "- Initial height: $y_0$ in $m$\n",
    "- Initial velocity: $v_0$ in $\\frac{m}{s}$\n",
    "- Initial time: $t_0$ in $s$\n",
    "- Time resolution: $dt$ in $0.1s$\n",
    "- Total simulation time: $t_f$ in $s$"
   ]
  },
  {
   "cell_type": "code",
   "execution_count": 78,
   "metadata": {},
   "outputs": [],
   "source": [
    "g = 10 ; y0 = 1.0 ; v0 = 0 ; t0 = 0 ; dt = 0.05 ; tf = 1.9 "
   ]
  },
  {
   "cell_type": "markdown",
   "metadata": {},
   "source": [
    "## Set number of steps to take in the trajectory calculation"
   ]
  },
  {
   "cell_type": "code",
   "execution_count": 79,
   "metadata": {},
   "outputs": [
    {
     "name": "stdout",
     "output_type": "stream",
     "text": [
      "38\n"
     ]
    }
   ],
   "source": [
    "nsteps = int(tf/dt)+1\n",
    "print(nsteps)"
   ]
  },
  {
   "cell_type": "markdown",
   "metadata": {},
   "source": [
    "## Set the properties of the ball under investigations\n",
    "- The properties $S_b$ of the individual balls is a collection of elements pertaining to the various physical properties of the ball in the test set.\n",
    "- Property list:\n",
    "    - Ball mass: $m$ in grams\n",
    "    - Ball diameter: $d$ in mm\n",
    "    - Ball radius: $r$ in mm\n",
    "    - Ball surface area: $s_a = 4\\pi r^2$ in mm$^2$ \n",
    "    - Ball material: $b_{mat}:$ $\\{$'plastic':0, 'rubber':1, 'foam':2$\\}$\n",
    "    - Porosity: $p:$ $\\{ 0.0, ..., 1.0 \\}$\n",
    "- Red Foam Ball\n",
    "    - $S_r:$ $\\{$ $m:$ 0.40,  $d:$ (29, 33), $r:$ (14.5, 16.5), $s_a:$ 3019.07, $b_{mat}:$, $p:$, $\\}$\n",
    "    - Note: The surface area of the red ball is computed using $r = \\frac{1}{2}r_1r_2$\n",
    "- Black Rubber Ball\n",
    "    - $S_b:$ $\\{$ $m:$ 24.55, $d:$ 39.8, $r:$ 19.9, $s_a:$ 4976.4, $b_{mat}:$, $p:$, $\\}$\n",
    "- White Plastic Ball\n",
    "    - $S_w:$ $\\{$ $m:$ 2.80, $d:$ 40.2, $r:$ 20.1, $s_a:$ 5076.94, $b_{mat}:$, $p:$, $\\}$"
   ]
  },
  {
   "cell_type": "code",
   "execution_count": 80,
   "metadata": {},
   "outputs": [],
   "source": [
    "Sr = {'color': 'Red',   'm': 0.40,  'd': 0.0, 'r': 15.5, 's_a': 3019.07, 'b_mat': None, 'p': 0.0, 'drag': 0.50}\n",
    "Sb = {'color': 'Black', 'm': 24.55, 'd': 0.0, 'r': 19.9, 's_a': 4976.40, 'b_mat': None, 'p': 0.0, 'drag': 0.47}\n",
    "Sw = {'color': 'White', 'm': 2.80,  'd': 0.0, 'r': 20.1, 's_a': 5076.94, 'b_mat': None, 'p': 0.0, 'drag': 0.47}"
   ]
  },
  {
   "cell_type": "markdown",
   "metadata": {},
   "source": [
    "### Load Tracker output data for the three balls"
   ]
  },
  {
   "cell_type": "markdown",
   "metadata": {},
   "source": [
    "##### Red Ball"
   ]
  },
  {
   "cell_type": "code",
   "execution_count": 128,
   "metadata": {},
   "outputs": [],
   "source": [
    "red_ball = pd.read_csv('red_ball.txt', delimiter=\"\\t\")"
   ]
  },
  {
   "cell_type": "code",
   "execution_count": 129,
   "metadata": {},
   "outputs": [],
   "source": [
    "red_t = red_ball['t']; red_x = red_ball['x']; red_y = red_ball['y']"
   ]
  },
  {
   "cell_type": "markdown",
   "metadata": {},
   "source": [
    "##### Black Ball"
   ]
  },
  {
   "cell_type": "code",
   "execution_count": 83,
   "metadata": {},
   "outputs": [],
   "source": [
    "black_ball = pd.read_csv('black_ball.txt', delimiter=\"\\t\")"
   ]
  },
  {
   "cell_type": "code",
   "execution_count": 84,
   "metadata": {},
   "outputs": [],
   "source": [
    "black_t = black_ball['t']; black_x = black_ball['x']; black_y = black_ball['y']"
   ]
  },
  {
   "cell_type": "markdown",
   "metadata": {},
   "source": [
    "##### White Ball"
   ]
  },
  {
   "cell_type": "code",
   "execution_count": 85,
   "metadata": {},
   "outputs": [],
   "source": [
    "white_ball = pd.read_csv('white_ball.txt', delimiter=\"\\t\")"
   ]
  },
  {
   "cell_type": "code",
   "execution_count": 86,
   "metadata": {},
   "outputs": [],
   "source": [
    "white_t = white_ball['t']; white_x = white_ball['x']; white_y = white_ball['y']"
   ]
  },
  {
   "cell_type": "markdown",
   "metadata": {},
   "source": [
    "#### Function Contract: coefficient of drag, surface area of object, velocity of object, mass of object\n",
    "- [Documentation](https://www.nuclear-power.net/nuclear-engineering/fluid-dynamics/what-is-drag-air-and-fluid-resistance/drag-force-drag-equation/)\n",
    "- Units: m = grams, area = mm$^2$, velocity = m/s, coefficient = unitless\n",
    "- Calculates the drag acceleration of an object with the given properties"
   ]
  },
  {
   "cell_type": "code",
   "execution_count": 87,
   "metadata": {},
   "outputs": [],
   "source": [
    "def drag_accel(coefficient, area, flow_v, m):\n",
    "    return (coefficient * (area * 0.000001) * ((1.225 * (flow_v**2))/2)) / (m * 0.001)"
   ]
  },
  {
   "cell_type": "markdown",
   "metadata": {},
   "source": [
    "## Main loop, where we successively update velocity and time according to the Euler rule"
   ]
  },
  {
   "cell_type": "code",
   "execution_count": 110,
   "metadata": {},
   "outputs": [],
   "source": [
    "t = np.linspace(t0,tf,nsteps); v = np.zeros([nsteps]); y = np.zeros([nsteps])"
   ]
  },
  {
   "cell_type": "code",
   "execution_count": 111,
   "metadata": {},
   "outputs": [],
   "source": [
    "y[0] = white_y[0]; v[0] = v0"
   ]
  },
  {
   "cell_type": "code",
   "execution_count": 112,
   "metadata": {},
   "outputs": [],
   "source": [
    "for i in range(1, nsteps):\n",
    "    v[i] = v[i-1] + (dt * (-g + drag_accel(Sr['drag'], Sr['s_a'], v[i-1], Sr['m'])))\n",
    "    y[i] = y[i-1] + v[i] * dt\n",
    "    if y[i] < 0:\n",
    "        break"
   ]
  },
  {
   "cell_type": "code",
   "execution_count": 113,
   "metadata": {},
   "outputs": [
    {
     "data": {
      "text/plain": [
       "array([ 0.        , -0.5       , -0.97110656, -1.36211495, -1.64768432,\n",
       "       -1.83391729, -1.94521349, -2.00789903, -2.04194504, -2.06005562,\n",
       "       -2.06958027, -2.07455902, -2.07715318, -2.07850258,  0.        ,\n",
       "        0.        ,  0.        ,  0.        ,  0.        ,  0.        ,\n",
       "        0.        ,  0.        ,  0.        ,  0.        ,  0.        ,\n",
       "        0.        ,  0.        ,  0.        ,  0.        ,  0.        ,\n",
       "        0.        ,  0.        ,  0.        ,  0.        ,  0.        ,\n",
       "        0.        ,  0.        ,  0.        ])"
      ]
     },
     "execution_count": 113,
     "metadata": {},
     "output_type": "execute_result"
    }
   ],
   "source": [
    "v"
   ]
  },
  {
   "cell_type": "code",
   "execution_count": 114,
   "metadata": {},
   "outputs": [
    {
     "data": {
      "text/plain": [
       "array([ 1.03717573,  1.01217573,  0.9636204 ,  0.89551465,  0.81313044,\n",
       "        0.72143457,  0.6241739 ,  0.52377895,  0.4216817 ,  0.31867891,\n",
       "        0.2151999 ,  0.11147195,  0.00761429, -0.09631084,  0.        ,\n",
       "        0.        ,  0.        ,  0.        ,  0.        ,  0.        ,\n",
       "        0.        ,  0.        ,  0.        ,  0.        ,  0.        ,\n",
       "        0.        ,  0.        ,  0.        ,  0.        ,  0.        ,\n",
       "        0.        ,  0.        ,  0.        ,  0.        ,  0.        ,\n",
       "        0.        ,  0.        ,  0.        ])"
      ]
     },
     "execution_count": 114,
     "metadata": {},
     "output_type": "execute_result"
    }
   ],
   "source": [
    "y"
   ]
  },
  {
   "cell_type": "code",
   "execution_count": 115,
   "metadata": {},
   "outputs": [
    {
     "data": {
      "text/plain": [
       "array([1.03717573, 1.01217573, 0.9636204 , 0.89551465, 0.81313044,\n",
       "       0.72143457, 0.6241739 , 0.52377895, 0.4216817 , 0.31867891,\n",
       "       0.2151999 , 0.11147195, 0.00761429])"
      ]
     },
     "execution_count": 115,
     "metadata": {},
     "output_type": "execute_result"
    }
   ],
   "source": [
    "y = y[y != 0.]\n",
    "y = y[y > 0.]\n",
    "y"
   ]
  },
  {
   "cell_type": "code",
   "execution_count": 116,
   "metadata": {},
   "outputs": [],
   "source": [
    "t = t[0:len(y)]"
   ]
  },
  {
   "cell_type": "code",
   "execution_count": 130,
   "metadata": {},
   "outputs": [],
   "source": [
    "red_y = red_y.values[0: len(red_y.values) - 2]"
   ]
  },
  {
   "cell_type": "code",
   "execution_count": 131,
   "metadata": {},
   "outputs": [
    {
     "data": {
      "text/plain": [
       "array([1.0250979 , 1.02465797, 1.02104535, 1.0022542 , 0.98043427,\n",
       "       0.94131901, 0.90099481, 0.84867565, 0.78648862, 0.71782725,\n",
       "       0.64244002, 0.56176491, 0.4753989 , 0.39465721, 0.28364497,\n",
       "       0.20984632, 0.10398314])"
      ]
     },
     "execution_count": 131,
     "metadata": {},
     "output_type": "execute_result"
    }
   ],
   "source": [
    "red_y"
   ]
  },
  {
   "cell_type": "code",
   "execution_count": 132,
   "metadata": {},
   "outputs": [],
   "source": [
    "red_t = red_t.values[0:len(red_y)]"
   ]
  },
  {
   "cell_type": "code",
   "execution_count": 133,
   "metadata": {},
   "outputs": [
    {
     "data": {
      "text/plain": [
       "array([0.        , 0.03333333, 0.06666667, 0.1       , 0.13333333,\n",
       "       0.16666667, 0.2       , 0.23333333, 0.26666667, 0.3       ,\n",
       "       0.33333333, 0.36666667, 0.4       , 0.43333333, 0.46666667,\n",
       "       0.5       , 0.53333333])"
      ]
     },
     "execution_count": 133,
     "metadata": {},
     "output_type": "execute_result"
    }
   ],
   "source": [
    "red_t"
   ]
  },
  {
   "cell_type": "markdown",
   "metadata": {},
   "source": [
    "## Compare the simulation to tracker plots"
   ]
  },
  {
   "cell_type": "code",
   "execution_count": 134,
   "metadata": {},
   "outputs": [
    {
     "data": {
      "image/png": "[encoded data removed]",
      "text/plain": [
       "<Figure size 432x288 with 2 Axes>"
      ]
     },
     "metadata": {
      "needs_background": "light"
     },
     "output_type": "display_data"
    }
   ],
   "source": [
    "%matplotlib inline\n",
    "fig, axes = plt.subplots(1,2, sharey=True)\n",
    "plt.suptitle('Comparison of Simulation Data to Tracker Software Data')\n",
    "\n",
    "axes[0].plot(t[0:len(y)],y, color='k')\n",
    "axes[0].set_title(\"Simulation\")\n",
    "axes[0].set_xlabel('Time [s]')\n",
    "axes[0].scatter(0.0, y[0], label='({}, {})'.format(round(t[0], 2), round(y[0], 2) ), color='g')\n",
    "axes[0].scatter(t[-1], y[-1], label='({}, {})'.format(round(t[-1], 2), round(y[-1], 2)), color='r')\n",
    "\n",
    "# axes[1].plot(red_t.values[3:], red_y.values[3:])\n",
    "# axes[1].set_title('{} Ball'.format(Sr['color']))\n",
    "# axes[1].set_xlabel('Time [s]')\n",
    "\n",
    "# axes[1].plot(black_t.values, black_y.values)\n",
    "# axes[1].set_title('{} Ball'.format(Sb['color']))\n",
    "# axes[1].set_xlabel('Time [s]')\n",
    "\n",
    "axes[1].plot(red_t, red_y, color='b')\n",
    "axes[1].set_title('{} Ball'.format(Sr['color']))\n",
    "axes[1].set_xlabel('Time [s]')\n",
    "\n",
    "label = '({}, {})'.format(round(red_t[0], 2), round(red_y[0], 2) )\n",
    "axes[1].scatter(red_t[0], red_y[0], label=label, color='g')\n",
    "\n",
    "label = '({}, {})'.format(round(red_t[-1], 2), round(red_y[-1], 2))\n",
    "axes[1].scatter(red_t[-1], red_y[-1], label=label, color='r')\n",
    "\n",
    "# Legends\n",
    "axes[0].legend()\n",
    "axes[1].legend()\n",
    "\n",
    "plt.savefig('ball_drop_{}.png'.format(Sr['color']), dpi=300)"
   ]
  },
  {
   "cell_type": "code",
   "execution_count": null,
   "metadata": {},
   "outputs": [],
   "source": [
    "%matplotlib inline\n",
    "fig, axes = plt.subplots(1,4, sharey=True)\n",
    "plt.suptitle('Comparison of Simulation Data to Tracker Software Data')\n",
    "\n",
    "axes[0].plot(t[0:7],y[0:7])\n",
    "axes[0].set_title(\"Simulation\")\n",
    "axes[0].set_xlabel('Time [s]')\n",
    "\n",
    "axes[1].plot(red_t, red_y)\n",
    "axes[1].set_title('{} Ball'.format(Sr['color']))\n",
    "axes[1].set_xlabel('Time [s]')\n",
    "\n",
    "axes[2].plot(black_t, black_y)\n",
    "axes[2].set_title('{} Ball'.format(Sb['color']))\n",
    "axes[2].set_xlabel('Time [s]')\n",
    "\n",
    "axes[3].plot(white_t[0:len(white_y)], white_y)\n",
    "axes[3].set_title('{} Ball'.format(Sw['color']))\n",
    "axes[3].set_xlabel('Time [s]')\n",
    "\n",
    "plt.savefig('ball_drop.png', dpi=300)"
   ]
  },
  {
   "cell_type": "code",
   "execution_count": null,
   "metadata": {},
   "outputs": [],
   "source": [
    "%matplotlib inline\n",
    "plt.plot(t,v)\n",
    "plt.title('Velocity of the {} ball without drag'.format(S['color']))\n",
    "plt.xlabel('Time [s]')\n",
    "plt.ylabel('Velocity [m/s]')"
   ]
  },
  {
   "cell_type": "code",
   "execution_count": null,
   "metadata": {},
   "outputs": [],
   "source": []
  },
  {
   "cell_type": "code",
   "execution_count": null,
   "metadata": {},
   "outputs": [],
   "source": []
  }
 ],
 "metadata": {
  "kernelspec": {
   "display_name": "Python 3",
   "language": "python",
   "name": "python3"
  },
  "language_info": {
   "codemirror_mode": {
    "name": "ipython",
    "version": 3
   },
   "file_extension": ".py",
   "mimetype": "text/x-python",
   "name": "python",
   "nbconvert_exporter": "python",
   "pygments_lexer": "ipython3",
   "version": "3.6.10"
  }
 },
 "nbformat": 4,
 "nbformat_minor": 2
}
