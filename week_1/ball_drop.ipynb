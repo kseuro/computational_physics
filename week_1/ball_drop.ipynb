{
 "cells": [
  {
   "cell_type": "markdown",
   "metadata": {},
   "source": [
    "# Dropping a ball\n",
    "Written by Tim Atherton for Computational Physics \n",
    "January 16, 2020\n",
    "\n",
    "This program aims to simulate the motion of a ball dropped from an initial height of $y0$ under gravity $g$ using the Euler discretization."
   ]
  },
  {
   "cell_type": "markdown",
   "metadata": {},
   "source": [
    "## Import libraries for plotting and numerical work"
   ]
  },
  {
   "cell_type": "code",
   "execution_count": null,
   "metadata": {},
   "outputs": [],
   "source": [
    "import sys\n",
    "print(sys.version)"
   ]
  },
  {
   "cell_type": "code",
   "execution_count": null,
   "metadata": {},
   "outputs": [],
   "source": [
    "import matplotlib.pyplot as plt\n",
    "import numpy as np\n",
    "import pandas as pd"
   ]
  },
  {
   "cell_type": "markdown",
   "metadata": {},
   "source": [
    "## Set up general parameters for the calculation\n",
    "- Gravitational acceleration constant: $10 \\frac{m}{s^2}$\n",
    "\n",
    "- Initial height: $y_0$ in $m$\n",
    "- Initial velocity: $v_0$ in $\\frac{m}{s}$\n",
    "- Initial time: $t_0$ in $s$\n",
    "- Time resolution: $dt$ in $0.1s$\n",
    "- Total simulation time: $t_f$ in $s$"
   ]
  },
  {
   "cell_type": "code",
   "execution_count": null,
   "metadata": {},
   "outputs": [],
   "source": [
    "g = 10 ; y0 = 0 ; v0 = 0 ; t0 = 0 ; dt = 0.1 ; tf = 10 "
   ]
  },
  {
   "cell_type": "markdown",
   "metadata": {},
   "source": [
    "## Set number of steps to take in the trajectory calculation"
   ]
  },
  {
   "cell_type": "code",
   "execution_count": null,
   "metadata": {},
   "outputs": [],
   "source": [
    "nsteps = int(tf/dt)+1"
   ]
  },
  {
   "cell_type": "markdown",
   "metadata": {},
   "source": [
    "## Set the properties of the ball under investigations\n",
    "- The properties $S_b$ of the individual balls is a collection of elements pertaining to the various physical properties of the ball in the test set.\n",
    "- Property list:\n",
    "    - Ball mass: $m$ in grams\n",
    "    - Ball diameter: $d$ in cm\n",
    "    - Ball radius: $r$ in cm\n",
    "    - Ball surface area: $s_a = 4\\pi r^2$ in cm$^2$ \n",
    "    - Ball material: $b_{mat}:$ $\\{$'plastic':0, 'rubber':1, 'foam':2$\\}$\n",
    "    - Porosity: $p:$ $\\{ 0.0, ..., 1.0 \\}$\n",
    "- Red Foam Ball\n",
    "    - $S_r:$ $\\{$ $m:$ 0.40, $d:$, $r:$, $s_a:$, $b_{mat}:$, $p:$, $\\}$\n",
    "- Black Rubber Ball\n",
    "    - $S_b:$ $\\{$ $m:$ 24.55, $d:$, $r:$, $s_a:$, $b_{mat}:$, $p:$, $\\}$\n",
    "- White Plastic Ball\n",
    "    - $S_w:$ $\\{$ $m:$ 2.80, $d:$, $r:$, $s_a:$, $b_{mat}:$, $p:$, $\\}$"
   ]
  },
  {
   "cell_type": "code",
   "execution_count": null,
   "metadata": {},
   "outputs": [],
   "source": [
    "S = {'color': 'none', 'm': 0.0, 'd': 0.0, 'r': 0.0, 's_a': 0.0, 'b_mat': None, 'p': 0.0}"
   ]
  },
  {
   "cell_type": "markdown",
   "metadata": {},
   "source": [
    "## Create arrays for time, velocity and position"
   ]
  },
  {
   "cell_type": "code",
   "execution_count": null,
   "metadata": {},
   "outputs": [],
   "source": [
    "t = np.linspace(t0,tf,nsteps)\n",
    "v = np.zeros([nsteps])\n",
    "y = np.zeros([nsteps])"
   ]
  },
  {
   "cell_type": "markdown",
   "metadata": {},
   "source": [
    "## Main loop, where we successively update velocity and time according to the Euler rule"
   ]
  },
  {
   "cell_type": "code",
   "execution_count": null,
   "metadata": {},
   "outputs": [],
   "source": [
    "y[0] = y0; v[0] = v0\n",
    "\n",
    "for i in range(1, nsteps):\n",
    "    v[i] = v[i-1] + (dt**2 * g)\n",
    "    y[i] = y[i-1] + v[i] * dt"
   ]
  },
  {
   "cell_type": "markdown",
   "metadata": {},
   "source": [
    "## Visualize the result"
   ]
  },
  {
   "cell_type": "code",
   "execution_count": null,
   "metadata": {},
   "outputs": [],
   "source": [
    "%matplotlib inline\n",
    "plt.plot(t,y)\n",
    "plt.title('Trajectory of the {} ball without drag'.format(S['color']))\n",
    "plt.xlabel('Time /s')\n",
    "plt.ylabel('Height /m')"
   ]
  },
  {
   "cell_type": "code",
   "execution_count": null,
   "metadata": {},
   "outputs": [],
   "source": []
  }
 ],
 "metadata": {
  "kernelspec": {
   "display_name": "Python [conda env:xeus] *",
   "language": "python",
   "name": "conda-env-xeus-py"
  },
  "language_info": {
   "codemirror_mode": {
    "name": "ipython",
    "version": 3
   },
   "file_extension": ".py",
   "mimetype": "text/x-python",
   "name": "python",
   "nbconvert_exporter": "python",
   "pygments_lexer": "ipython3",
   "version": "3.6.10"
  }
 },
 "nbformat": 4,
 "nbformat_minor": 2
}
