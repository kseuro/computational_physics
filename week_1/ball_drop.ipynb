{
 "cells": [
  {
   "cell_type": "markdown",
   "metadata": {},
   "source": [
    "# Dropping a ball\n",
    "Written by Tim Atherton for Computational Physics \n",
    "January 16, 2020\n",
    "\n",
    "This program aims to simulate the motion of a ball dropped from an initial height of $y0$ under gravity $g$ using the Euler discretization."
   ]
  },
  {
   "cell_type": "markdown",
   "metadata": {},
   "source": [
    "## Import libraries for plotting and numerical work"
   ]
  },
  {
   "cell_type": "code",
   "execution_count": 6,
   "metadata": {},
   "outputs": [
    {
     "name": "stdout",
     "output_type": "stream",
     "text": [
      "3.6.10 |Anaconda, Inc.| (default, Jan  7 2020, 15:01:53) \n",
      "[GCC 4.2.1 Compatible Clang 4.0.1 (tags/RELEASE_401/final)]\n"
     ]
    }
   ],
   "source": [
    "import sys\n",
    "print(sys.version)"
   ]
  },
  {
   "cell_type": "code",
   "execution_count": 7,
   "metadata": {},
   "outputs": [],
   "source": [
    "import matplotlib.pyplot as plt\n",
    "import numpy as np\n",
    "import pandas as pd"
   ]
  },
  {
   "cell_type": "markdown",
   "metadata": {},
   "source": [
    "## Set up general parameters for the calculation\n",
    "- Gravitational acceleration constant: $10 \\frac{m}{s^2}$\n",
    "\n",
    "- Initial height: $y_0$ in $m$\n",
    "- Initial velocity: $v_0$ in $\\frac{m}{s}$\n",
    "- Initial time: $t_0$ in $s$\n",
    "- Time resolution: $dt$ in $0.1s$\n",
    "- Total simulation time: $t_f$ in $s$"
   ]
  },
  {
   "cell_type": "code",
   "execution_count": 37,
   "metadata": {},
   "outputs": [],
   "source": [
    "g = 10 ; y0 = 0 ; v0 = 0 ; t0 = 0 ; dt = 0.1 ; tf = 100 "
   ]
  },
  {
   "cell_type": "markdown",
   "metadata": {},
   "source": [
    "## Set number of steps to take in the trajectory calculation"
   ]
  },
  {
   "cell_type": "code",
   "execution_count": 38,
   "metadata": {},
   "outputs": [],
   "source": [
    "nsteps = int(tf/dt)+1"
   ]
  },
  {
   "cell_type": "markdown",
   "metadata": {},
   "source": [
    "## Set the properties of the ball under investigations\n",
    "- The properties $S_b$ of the individual balls is a collection of elements pertaining to the various physical properties of the ball in the test set.\n",
    "- Property list:\n",
    "    - Ball mass: $m$ in grams\n",
    "    - Ball diameter: $d$ in mm\n",
    "    - Ball radius: $r$ in mm\n",
    "    - Ball surface area: $s_a = 4\\pi r^2$ in mm$^2$ \n",
    "    - Ball material: $b_{mat}:$ $\\{$'plastic':0, 'rubber':1, 'foam':2$\\}$\n",
    "    - Porosity: $p:$ $\\{ 0.0, ..., 1.0 \\}$\n",
    "- Red Foam Ball\n",
    "    - $S_r:$ $\\{$ $m:$ 0.40,  $d:$ (29, 33), $r:$ (14.5, 16.5), $s_a:$ 3019.07, $b_{mat}:$, $p:$, $\\}$\n",
    "    - Note: The surface area of the red ball is computed using $r = \\frac{1}{2}r_1r_2$\n",
    "- Black Rubber Ball\n",
    "    - $S_b:$ $\\{$ $m:$ 24.55, $d:$ 39.8, $r:$ 19.9, $s_a:$ 4976.4, $b_{mat}:$, $p:$, $\\}$\n",
    "- White Plastic Ball\n",
    "    - $S_w:$ $\\{$ $m:$ 2.80, $d:$ 40.2, $r:$ 20.1, $s_a:$ 5076.94, $b_{mat}:$, $p:$, $\\}$"
   ]
  },
  {
   "cell_type": "code",
   "execution_count": 39,
   "metadata": {},
   "outputs": [],
   "source": [
    "S = {'color': 'black', 'm': 24.55, 'd': 0.0, 'r': 19.9, 's_a': 4976.4, 'b_mat': None, 'p': 0.0}"
   ]
  },
  {
   "cell_type": "markdown",
   "metadata": {},
   "source": [
    "## Create arrays for time, velocity and position"
   ]
  },
  {
   "cell_type": "code",
   "execution_count": 40,
   "metadata": {},
   "outputs": [],
   "source": [
    "t = np.linspace(t0,tf,nsteps)\n",
    "v = np.zeros([nsteps])\n",
    "y = np.zeros([nsteps])"
   ]
  },
  {
   "cell_type": "markdown",
   "metadata": {},
   "source": [
    "### Drag Equation Documentation\n",
    "[Link](https://www.nuclear-power.net/nuclear-engineering/fluid-dynamics/what-is-drag-air-and-fluid-resistance/drag-force-drag-equation/)"
   ]
  },
  {
   "cell_type": "code",
   "execution_count": 41,
   "metadata": {},
   "outputs": [],
   "source": [
    "# drag_accel\n",
    "# Parameters: coefficient of drag, surface area of object, velocity of object, mass of object\n",
    "# Units: m = grams, area = mm^2, velocity = m/s, coefficient = unitless\n",
    "# Calculates the drag acceleration of an object with the given properties\n",
    "def drag_accel(coefficient, area, flow_v, m):\n",
    "    return (coefficient * (area * 0.000001) * ((1.225 * (flow_v**2))/2)) / (m * 0.001)"
   ]
  },
  {
   "cell_type": "code",
   "execution_count": 42,
   "metadata": {},
   "outputs": [],
   "source": [
    "# TODO: Compute the drag coefficient based on the ball properties (material / porosity)"
   ]
  },
  {
   "cell_type": "markdown",
   "metadata": {},
   "source": [
    "## Main loop, where we successively update velocity and time according to the Euler rule"
   ]
  },
  {
   "cell_type": "code",
   "execution_count": 43,
   "metadata": {},
   "outputs": [],
   "source": [
    "y[0] = y0; v[0] = v0\n",
    "\n",
    "for i in range(1, nsteps):\n",
    "    v[i] = v[i-1] + (dt**2 * (-g + drag_accel(0.47, S['s_a'], v[i-1], S['m'])))\n",
    "    y[i] = y[i-1] + v[i] * dt"
   ]
  },
  {
   "cell_type": "markdown",
   "metadata": {},
   "source": [
    "## Visualize the result"
   ]
  },
  {
   "cell_type": "code",
   "execution_count": 44,
   "metadata": {},
   "outputs": [
    {
     "data": {
      "text/plain": [
       "Text(0, 0.5, 'Height /m')"
      ]
     },
     "execution_count": 44,
     "metadata": {},
     "output_type": "execute_result"
    },
    {
     "data": {
      "image/png": "[encoded data removed]",
      "text/plain": [
       "<Figure size 432x288 with 1 Axes>"
      ]
     },
     "metadata": {
      "needs_background": "light"
     },
     "output_type": "display_data"
    }
   ],
   "source": [
    "%matplotlib inline\n",
    "plt.plot(t,y)\n",
    "plt.title('Trajectory of the {} ball with drag'.format(S['color']))\n",
    "plt.xlabel('Time /s')\n",
    "plt.ylabel('Height /m')"
   ]
  },
  {
   "cell_type": "code",
   "execution_count": 45,
   "metadata": {},
   "outputs": [
    {
     "data": {
      "text/plain": [
       "Text(0, 0.5, 'Velocity [m/s]')"
      ]
     },
     "execution_count": 45,
     "metadata": {},
     "output_type": "execute_result"
    },
    {
     "data": {
      "image/png": "[encoded data removed]",
      "text/plain": [
       "<Figure size 432x288 with 1 Axes>"
      ]
     },
     "metadata": {
      "needs_background": "light"
     },
     "output_type": "display_data"
    }
   ],
   "source": [
    "%matplotlib inline\n",
    "plt.plot(t,v)\n",
    "plt.title('Velocity of the {} ball without drag'.format(S['color']))\n",
    "plt.xlabel('Time [s]')\n",
    "plt.ylabel('Velocity [m/s]')"
   ]
  },
  {
   "cell_type": "code",
   "execution_count": null,
   "metadata": {},
   "outputs": [],
   "source": []
  }
 ],
 "metadata": {
  "kernelspec": {
   "display_name": "Python [conda env:xeus] *",
   "language": "python",
   "name": "conda-env-xeus-py"
  },
  "language_info": {
   "codemirror_mode": {
    "name": "ipython",
    "version": 3
   },
   "file_extension": ".py",
   "mimetype": "text/x-python",
   "name": "python",
   "nbconvert_exporter": "python",
   "pygments_lexer": "ipython3",
   "version": "3.6.10"
  }
 },
 "nbformat": 4,
 "nbformat_minor": 2
}
