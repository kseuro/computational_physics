{
 "cells": [
  {
   "cell_type": "markdown",
   "metadata": {},
   "source": [
    "# Dropping a ball\n",
    "# Group Members: Kai Stewart, Felix Yu, Lili Houston, Sadhya Garg\n",
    "Written by Tim Atherton for Computational Physics\n",
    "    - Modified by: Kai Stewart, Felix Yu\n",
    "January 16, 2020\n",
    "\n",
    "This program aims to simulate the motion of a ball dropped from an initial height of $y0$ under gravity $g$ using the Euler discretization."
   ]
  },
  {
   "cell_type": "markdown",
   "metadata": {},
   "source": [
    "## Import libraries for plotting and numerical work"
   ]
  },
  {
   "cell_type": "code",
   "execution_count": 1,
   "metadata": {},
   "outputs": [
    {
     "name": "stdout",
     "output_type": "stream",
     "text": [
      "3.6.10 |Anaconda, Inc.| (default, Jan  7 2020, 15:01:53) \n",
      "[GCC 4.2.1 Compatible Clang 4.0.1 (tags/RELEASE_401/final)]\n"
     ]
    }
   ],
   "source": [
    "import sys\n",
    "print(sys.version)"
   ]
  },
  {
   "cell_type": "code",
   "execution_count": 2,
   "metadata": {},
   "outputs": [],
   "source": [
    "import matplotlib.pyplot as plt\n",
    "import numpy as np\n",
    "import pandas as pd\n",
    "import math\n",
    "%matplotlib inline"
   ]
  },
  {
   "cell_type": "markdown",
   "metadata": {},
   "source": [
    "## Set up general parameters for the calculation\n",
    "- Gravitational acceleration constant: $10 \\frac{m}{s^2}$\n",
    "\n",
    "- Initial height: $y_0$ in $m$\n",
    "- Initial velocity: $v_0$ in $\\frac{m}{s}$\n",
    "- Initial time: $t_0$ in $s$\n",
    "- Time resolution: $dt$ in $0.1s$\n",
    "- Total simulation time: $t_f$ in $s$, which is set later right before running the loop"
   ]
  },
  {
   "cell_type": "code",
   "execution_count": 3,
   "metadata": {},
   "outputs": [],
   "source": [
    "params = {'g': 10, 'y0': 1.0, 'v0': 0, 't0': 0, 'dt': 0.033, 'tf': 0.0} "
   ]
  },
  {
   "cell_type": "markdown",
   "metadata": {},
   "source": [
    "## Set the properties of the ball under investigations\n",
    "- The properties $S_b$ of the individual balls is a collection of elements pertaining to the various physical properties of the ball in the test set.\n",
    "- Property list:\n",
    "    - Ball mass: $m$ in grams\n",
    "    - Ball radius: $r$ in mm\n",
    "    - Ball surface area: $s_a = 4\\pi r^2$ in mm$^2$ \n",
    "    - Drag coefficient: Encapsulates all other complex factors in determining drag penalty, and were estimated from our tracker data. The ideal sphere has drag coefficient 0.47.\n",
    "    - Final time: the time taken, by experiment, for the ball to hit the ground in $s$\n",
    "- Red Foam Ball\n",
    "    - $S_r:$ $\\{$ $m:$ 0.40, $r:$ (14.5, 16.5), $s_a:$ 3019.07, $drag:$ 0.5, $tf:$ 0.5667 $\\}$\n",
    "    - Note: The surface area of the red ball is computed using $r = \\frac{1}{2}r_1r_2$\n",
    "- Black Rubber Ball\n",
    "    - $S_b:$ $\\{$ $m:$ 24.55, $r:$ 19.9, $s_a:$ 4976.4, $drag:$ 0.47, $tf:$ 0.435 $\\}$\n",
    "- White Plastic Ball\n",
    "    - $S_w:$ $\\{$ $m:$ 2.80, $r:$ 20.1, $s_a:$ 5076.94, $drag:$ 0.47, $tf:$ 0.4683 $\\}$"
   ]
  },
  {
   "cell_type": "code",
   "execution_count": 4,
   "metadata": {},
   "outputs": [],
   "source": [
    "Sr = {'color': 'Red',   'm': 0.40, 'r': 15.5, 's_a': 3019.07,  'drag': 0.50, 'tf': 0.5667}\n",
    "Sb = {'color': 'Black', 'm': 24.55, 'r': 19.9, 's_a': 4976.40, 'drag': 0.47, 'tf': 0.4350}\n",
    "Sw = {'color': 'White', 'm': 2.80, 'r': 20.1, 's_a': 5076.94,  'drag': 0.47, 'tf': 0.4683}"
   ]
  },
  {
   "cell_type": "markdown",
   "metadata": {},
   "source": [
    "### Standard drag penalty equation (drag at high velocity)\n",
    "#### Function Contract: coefficient of drag, surface area of object, velocity of object, mass of object\n",
    "- [Documentation](https://www.nuclear-power.net/nuclear-engineering/fluid-dynamics/what-is-drag-air-and-fluid-resistance/drag-force-drag-equation/)\n",
    "- Units: m = grams, area = mm$^2$, velocity = m/s, coefficient = unitless\n",
    "- Calculates the drag acceleration of an object with the given properties"
   ]
  },
  {
   "cell_type": "code",
   "execution_count": 5,
   "metadata": {},
   "outputs": [],
   "source": [
    "def drag_accel(coefficient, area, flow_v, m):\n",
    "    return (coefficient * (area * 0.000001) * ((1.225 * (flow_v**2))/2)) / (m * 0.001)"
   ]
  },
  {
   "cell_type": "markdown",
   "metadata": {},
   "source": [
    "### Stoke's drag equation (low Reynold's number)\n",
    "#### Function Contract: radius of object, velocity of object, mass of object\n",
    "- [Documentation](https://en.wikipedia.org/wiki/Stokes%27_law)\n",
    "- Units: m = grams, radius = mm, velocity = m/s\n",
    "- Calculates the drag acceleration of an object with the given properties"
   ]
  },
  {
   "cell_type": "code",
   "execution_count": 6,
   "metadata": {},
   "outputs": [],
   "source": [
    "def stokes_drag_accel(r, flow_v, m):\n",
    "    return (6 * math.pi * 0.0000181 * (r * 0.001) * flow_v) / (m * 0.001)"
   ]
  },
  {
   "cell_type": "markdown",
   "metadata": {},
   "source": [
    "### Simulation quality determination function\n",
    "- We propose the use of the Mean-Squared Error (MSE) as a quality metric for our simulation algorithm\n",
    "- The MSE is used to assess the quality of a predictor function in its ability to estimate the outputs of another function. In this case, the simulation acts as our predictor function and the data provided by the tracker software represent the outputs we wish to map to.\n",
    "\n",
    "#### Definition:\n",
    "\n",
    "- $n$ is the number of point predictions in the simulation\n",
    "- $X$ is a vector of observed values of the variable being predicted\n",
    "- $\\hat{X}$ is a vector of predictions\n",
    "- The Mean-Squared Error of the prediction is:\n",
    "    \n",
    "$\\text{MSE} = \\frac{1}{n} \\sum_{i=1}^n (X - \\hat{X})^2 $"
   ]
  },
  {
   "cell_type": "markdown",
   "metadata": {},
   "source": [
    "##### Function contract:\n",
    "- predictions: a numpy array of values produced by the ball drop simulation algorithm\n",
    "- targets: a numpy array of values produced by the tracker software"
   ]
  },
  {
   "cell_type": "code",
   "execution_count": 7,
   "metadata": {},
   "outputs": [],
   "source": [
    "def MSE(predictions, targets):\n",
    "    return np.square(np.subtract(predictions, targets)).mean()"
   ]
  },
  {
   "cell_type": "markdown",
   "metadata": {},
   "source": [
    "### Euler Algorithm"
   ]
  },
  {
   "cell_type": "markdown",
   "metadata": {},
   "source": [
    "#### Function Contract\n",
    "- tracker_y (array): array of values loaded from the output of the Tracker software\n",
    "- S (dict): collection of parameters describing a particular ball in the test set\n",
    "- params (dict): collection of physical parameters describing the constraints of the experiment"
   ]
  },
  {
   "cell_type": "code",
   "execution_count": 8,
   "metadata": {},
   "outputs": [],
   "source": [
    "def euler(tracker_y, S, params=params):\n",
    "    # Set up the time measurements to match exactly with our tracker data\n",
    "    params['tf'] = S['tf']\n",
    "    params['nsteps'] = int( params['tf'] / params['dt'] ) + 1\n",
    "    \n",
    "    # Setup arrays for performing and tracking computations\n",
    "    t = np.linspace(params['t0'], params['tf'], params['nsteps'])\n",
    "    v = np.zeros([params['nsteps']])\n",
    "    y = np.zeros([params['nsteps']])\n",
    "    \n",
    "    # Set the simulation to same start position as tracker data\n",
    "    y[0] = tracker_y[0] \n",
    "    v[0] = params['v0']\n",
    "\n",
    "    for i in range(1, params['nsteps']):\n",
    "        v[i] = v[i-1] + (params['dt'] * (-params['g'] + drag_accel(S['drag'], S['r'], v[i-1], S['m'])))\n",
    "        y[i] = y[i-1] + v[i] * params['dt']\n",
    "    \n",
    "    y = y[y != 0.]     # ensure data is all non-zero\n",
    "    y = y.clip(min=0.) # clip negative values\n",
    "    y = y[y > 0.]      # truncate array leaving only non-zero values\n",
    "    t = t[0:len(y)]    # ensure that the arrays are the same length for plotting\n",
    "    return y, t"
   ]
  },
  {
   "cell_type": "markdown",
   "metadata": {},
   "source": [
    "### Bashforth-Adams Algorithm"
   ]
  },
  {
   "cell_type": "markdown",
   "metadata": {},
   "source": [
    "#### Function Contract\n",
    "- tracker_y (array): array of values loaded from the output of the Tracker software\n",
    "- S (dict): collection of parameters describing a particular ball in the test set\n",
    "- params (dict): collection of physical parameters describing the constraints of the experiment"
   ]
  },
  {
   "cell_type": "code",
   "execution_count": 9,
   "metadata": {},
   "outputs": [],
   "source": [
    "def bash_adams(tracker_y, S, params=params):\n",
    "    # Set up the time measurements to match exactly with our tracker data\n",
    "    params['tf'] = S['tf']\n",
    "    params['nsteps'] = int( params['tf'] / params['dt'] ) + 1\n",
    "    \n",
    "    # Setup arrays for performing and tracking computations\n",
    "    t = np.linspace(params['t0'], params['tf'], params['nsteps'])\n",
    "    v = np.zeros([params['nsteps']])\n",
    "    y = np.zeros([params['nsteps']])\n",
    "    \n",
    "    # Set the simulation to same start position as tracker data\n",
    "    y[0] = tracker_y[0]\n",
    "    # Take one step to initialize the computation\n",
    "    v[1] = v[0] + (params['dt'] * (-params['g'] + drag_accel(S['drag'], S['r'], v[0], S['m'])))\n",
    "    y[1] = y[0] + v[0] * params['dt']\n",
    "\n",
    "    for i in range(2, params['nsteps']):\n",
    "        v[i] = v[i-1] + (params['dt'] * (-params['g'] + drag_accel(S['drag'], S['r'], v[i-1], S['m'])))\n",
    "        y[i] = y[i-1] + ( (3/2) * params['dt'] * v[i-1] ) - ( (1/2) * params['dt'] * v[i-2] )\n",
    "\n",
    "    y = y[y != 0.]     # ensure data is all non-zero\n",
    "    y = y.clip(min=0.) # clip negative values\n",
    "    y = y[y > 0.]      # truncate array leaving only non-zero values\n",
    "    t = t[0:len(y)]    # ensure that the arrays are the same length for plotting\n",
    "    return y, t"
   ]
  },
  {
   "cell_type": "markdown",
   "metadata": {},
   "source": [
    "#### Plotting Function"
   ]
  },
  {
   "cell_type": "code",
   "execution_count": 10,
   "metadata": {},
   "outputs": [],
   "source": [
    "def make_plots(tracker_y, tracker_t, sim_y, sim_t, S, algo=None):\n",
    "    fig, axes = plt.subplots(1,2, sharey=True)\n",
    "\n",
    "    plt.suptitle('Simulation Algorithm vs Tracker Data')\n",
    "\n",
    "    # Plot simulation data\n",
    "    axes[0].plot(sim_t, sim_y, color='k')\n",
    "    if algo is not None:\n",
    "        axes[0].set_title(\"{} Algorithm\".format(algo))\n",
    "    else:\n",
    "        axes[0].set_title(\"Algorithm\")\n",
    "    # Label the axes\n",
    "    axes[0].set_xlabel('Time [s]')\n",
    "    axes[0].set_ylabel('Height [m]')\n",
    "\n",
    "    # Mark the start and end points of the simulated data\n",
    "    axes[0].scatter(0.0, sim_y[0], label='({}, {})'.format(round(sim_t[0], 2), round(sim_y[0], 2) ), color='g')\n",
    "    axes[0].scatter(sim_t[-1], sim_y[-1], label='({}, {})'.format(round(sim_t[-1], 2), round(sim_y[-1], 2)), color='r')\n",
    "\n",
    "    # Plot tracker data\n",
    "    axes[1].plot(tracker_t, tracker_y, color='b')\n",
    "    axes[1].set_title('{} Ball'.format(S['color']))\n",
    "    axes[1].set_xlabel('Time [s]')\n",
    "\n",
    "    # Mark the start and end points of the Tracker generated data\n",
    "    label = '({}, {})'.format(round(tracker_t[0], 2), round(tracker_y[0], 2) )\n",
    "    axes[1].scatter(tracker_t[0], tracker_y[0], label=label, color='g')\n",
    "\n",
    "    label = '({}, {})'.format(round(tracker_t[-1], 2), round(tracker_y[-1], 2))\n",
    "    axes[1].scatter(tracker_t[-1], tracker_y[-1], label=label, color='r')\n",
    "\n",
    "    # Legends\n",
    "    axes[0].legend()\n",
    "    axes[1].legend()\n",
    "\n",
    "    if algo is not None:\n",
    "        plt.savefig('ball_drop_{}_{}_algo.png'.format(S['color'], algo), dpi=300)\n",
    "    else:\n",
    "        plt.savefig('ball_drop_{}_.png'.format(S['color']), dpi=300)"
   ]
  },
  {
   "cell_type": "markdown",
   "metadata": {},
   "source": [
    "## Computation of simulated trajectories using ball properties\n",
    "- Note: We choose acceleration due to gravity to have a negative sign and penalize by adding drag in the positive direction"
   ]
  },
  {
   "cell_type": "markdown",
   "metadata": {},
   "source": [
    "### Simulate Red Ball Trajectory"
   ]
  },
  {
   "cell_type": "markdown",
   "metadata": {},
   "source": [
    "#### Load Red Ball Data from text file"
   ]
  },
  {
   "cell_type": "code",
   "execution_count": 11,
   "metadata": {},
   "outputs": [],
   "source": [
    "red_ball = pd.read_csv('red_ball.txt', delimiter=\"\\t\")"
   ]
  },
  {
   "cell_type": "code",
   "execution_count": 12,
   "metadata": {},
   "outputs": [],
   "source": [
    "red_t = red_ball['t']; red_x = red_ball['x']; red_y = red_ball['y']"
   ]
  },
  {
   "cell_type": "code",
   "execution_count": 13,
   "metadata": {},
   "outputs": [],
   "source": [
    "red_y = red_y.values[0: len(red_y.values)].clip(min=0.) # Convert to np array and clip negative values\n",
    "red_y = red_y[red_y > 0.] # push non-zero values up"
   ]
  },
  {
   "cell_type": "code",
   "execution_count": 14,
   "metadata": {},
   "outputs": [],
   "source": [
    "red_t = red_t.values[0:len(red_y)]"
   ]
  },
  {
   "cell_type": "markdown",
   "metadata": {},
   "source": [
    "#### Compute Trajectory using the Euler Algorithm"
   ]
  },
  {
   "cell_type": "code",
   "execution_count": 15,
   "metadata": {},
   "outputs": [],
   "source": [
    "y_r_e, t_r_e = euler(red_y, Sr)"
   ]
  },
  {
   "cell_type": "markdown",
   "metadata": {},
   "source": [
    "#### Compute Trajectory using the Bashforth-Adams Algorithm"
   ]
  },
  {
   "cell_type": "code",
   "execution_count": 16,
   "metadata": {},
   "outputs": [],
   "source": [
    "y_r_ba, t_r_ba = bash_adams(red_y, Sr)"
   ]
  },
  {
   "cell_type": "markdown",
   "metadata": {},
   "source": [
    "#### Plot comparison between Euler simulation and Tracker data"
   ]
  },
  {
   "cell_type": "code",
   "execution_count": 17,
   "metadata": {},
   "outputs": [
    {
     "data": {
      "image/png": "[encoded data removed]",
      "text/plain": [
       "<Figure size 432x288 with 2 Axes>"
      ]
     },
     "metadata": {
      "needs_background": "light"
     },
     "output_type": "display_data"
    }
   ],
   "source": [
    "make_plots(red_y, red_t, y_r_e, t_r_e, Sr, algo='Euler')"
   ]
  },
  {
   "cell_type": "markdown",
   "metadata": {},
   "source": [
    "#### Plot comparison between BA simulation and Tracker data"
   ]
  },
  {
   "cell_type": "code",
   "execution_count": 18,
   "metadata": {},
   "outputs": [
    {
     "data": {
      "image/png": "[encoded data removed]",
      "text/plain": [
       "<Figure size 432x288 with 2 Axes>"
      ]
     },
     "metadata": {
      "needs_background": "light"
     },
     "output_type": "display_data"
    }
   ],
   "source": [
    "make_plots(red_y, red_t, y_r_ba, t_r_ba, Sr, algo='Bashforth-Adams')"
   ]
  },
  {
   "cell_type": "markdown",
   "metadata": {},
   "source": [
    "#### Get the MSE for the predictions vs targets"
   ]
  },
  {
   "cell_type": "code",
   "execution_count": 19,
   "metadata": {},
   "outputs": [],
   "source": [
    "red_euler_MSE = MSE(y_r_e, red_y[0:len(y_r_e)])"
   ]
  },
  {
   "cell_type": "code",
   "execution_count": 20,
   "metadata": {},
   "outputs": [
    {
     "name": "stdout",
     "output_type": "stream",
     "text": [
      "The Mean-Squared Error for the Red ball using the Euler Algorithm is 0.03\n"
     ]
    }
   ],
   "source": [
    "print(\"The Mean-Squared Error for the {} ball using the Euler Algorithm is {}\".format(Sr['color'], round(red_euler_MSE, 3)))"
   ]
  },
  {
   "cell_type": "code",
   "execution_count": 21,
   "metadata": {},
   "outputs": [],
   "source": [
    "red_ba_MSE = MSE(y_r_ba, red_y[0:len(y_r_ba)] )"
   ]
  },
  {
   "cell_type": "code",
   "execution_count": 22,
   "metadata": {},
   "outputs": [
    {
     "name": "stdout",
     "output_type": "stream",
     "text": [
      "The Mean-Squared Error for the Red ball using the Bashforth-Adams Algorithm is 0.017\n"
     ]
    }
   ],
   "source": [
    "print(\"The Mean-Squared Error for the {} ball using the Bashforth-Adams Algorithm is {}\".format(Sr['color'], round(red_ba_MSE, 3)))"
   ]
  },
  {
   "cell_type": "markdown",
   "metadata": {},
   "source": [
    "### Simulate Black Ball Trajectory"
   ]
  },
  {
   "cell_type": "markdown",
   "metadata": {},
   "source": [
    "#### Load Black Ball Data from text file"
   ]
  },
  {
   "cell_type": "code",
   "execution_count": 23,
   "metadata": {},
   "outputs": [],
   "source": [
    "black_ball = pd.read_csv('black_ball.txt', delimiter=\"\\t\")"
   ]
  },
  {
   "cell_type": "code",
   "execution_count": 24,
   "metadata": {},
   "outputs": [],
   "source": [
    "black_t = black_ball['t']; black_x = black_ball['x']; black_y = black_ball['y']"
   ]
  },
  {
   "cell_type": "code",
   "execution_count": 25,
   "metadata": {},
   "outputs": [],
   "source": [
    "black_y = black_y.values[0: len(black_y.values)].clip(min=0.) # Convert to np array and clip negative values\n",
    "black_y = black_y[black_y > 0.] # push non-zero values up"
   ]
  },
  {
   "cell_type": "code",
   "execution_count": 26,
   "metadata": {},
   "outputs": [],
   "source": [
    "black_t = black_t.values[0:len(black_y)]"
   ]
  },
  {
   "cell_type": "markdown",
   "metadata": {},
   "source": [
    "#### Compute Trajectory using the Euler Algorithm"
   ]
  },
  {
   "cell_type": "code",
   "execution_count": 27,
   "metadata": {},
   "outputs": [],
   "source": [
    "y_b_e, t_b_e = euler(black_y, Sb)"
   ]
  },
  {
   "cell_type": "markdown",
   "metadata": {},
   "source": [
    "#### Compute Trajectory using Bashforth-Adams Algorithm"
   ]
  },
  {
   "cell_type": "code",
   "execution_count": 28,
   "metadata": {},
   "outputs": [],
   "source": [
    "y_b_ba, t_b_ba = bash_adams(black_y, Sb)"
   ]
  },
  {
   "cell_type": "markdown",
   "metadata": {},
   "source": [
    "#### Plot comparison between Euler simulation and Tracker data"
   ]
  },
  {
   "cell_type": "code",
   "execution_count": 29,
   "metadata": {},
   "outputs": [
    {
     "data": {
      "image/png": "[encoded data removed]",
      "text/plain": [
       "<Figure size 432x288 with 2 Axes>"
      ]
     },
     "metadata": {
      "needs_background": "light"
     },
     "output_type": "display_data"
    }
   ],
   "source": [
    "make_plots(black_y, black_t, y_b_e, t_b_e, Sb, algo=\"Euler\")"
   ]
  },
  {
   "cell_type": "markdown",
   "metadata": {},
   "source": [
    "#### Plot comparison between BA simulation and Tracker data"
   ]
  },
  {
   "cell_type": "code",
   "execution_count": 30,
   "metadata": {},
   "outputs": [
    {
     "data": {
      "image/png": "[encoded data removed]",
      "text/plain": [
       "<Figure size 432x288 with 2 Axes>"
      ]
     },
     "metadata": {
      "needs_background": "light"
     },
     "output_type": "display_data"
    }
   ],
   "source": [
    "make_plots(black_y, black_t, y_b_ba, t_b_ba, Sb, algo=\"Bashforth-Adams\")"
   ]
  },
  {
   "cell_type": "markdown",
   "metadata": {},
   "source": [
    "#### Get the MSE for the predictions vs targets"
   ]
  },
  {
   "cell_type": "code",
   "execution_count": 31,
   "metadata": {},
   "outputs": [],
   "source": [
    "black_euler_MSE = MSE(y_b_e, black_y[0:len(y_b_e)])"
   ]
  },
  {
   "cell_type": "code",
   "execution_count": 32,
   "metadata": {
    "scrolled": true
   },
   "outputs": [
    {
     "name": "stdout",
     "output_type": "stream",
     "text": [
      "The Mean-Squared Error for the Black ball using the Euler Algorithm is 0.001\n"
     ]
    }
   ],
   "source": [
    "print(\"The Mean-Squared Error for the {} ball using the Euler Algorithm is {}\".format(Sb['color'], round(black_euler_MSE, 3)))"
   ]
  },
  {
   "cell_type": "code",
   "execution_count": 33,
   "metadata": {},
   "outputs": [],
   "source": [
    "black_BA_MSE = MSE(y_b_ba, black_y[0:len(y_b_ba)])"
   ]
  },
  {
   "cell_type": "code",
   "execution_count": 34,
   "metadata": {},
   "outputs": [
    {
     "name": "stdout",
     "output_type": "stream",
     "text": [
      "The Mean-Squared Error for the Black ball using the BA Algorithm is 0.005\n"
     ]
    }
   ],
   "source": [
    "print(\"The Mean-Squared Error for the {} ball using the BA Algorithm is {}\".format(Sb['color'], round(black_BA_MSE, 3)))"
   ]
  },
  {
   "cell_type": "markdown",
   "metadata": {},
   "source": [
    "## Simulate White Ball Trajectory"
   ]
  },
  {
   "cell_type": "markdown",
   "metadata": {},
   "source": [
    "#### Load White Ball Data from Text File"
   ]
  },
  {
   "cell_type": "code",
   "execution_count": 35,
   "metadata": {},
   "outputs": [],
   "source": [
    "white_ball = pd.read_csv('white_ball.txt', delimiter=\"\\t\")"
   ]
  },
  {
   "cell_type": "code",
   "execution_count": 36,
   "metadata": {},
   "outputs": [],
   "source": [
    "white_t = white_ball['t']; white_x = white_ball['x']; white_y = white_ball['y']"
   ]
  },
  {
   "cell_type": "code",
   "execution_count": 37,
   "metadata": {},
   "outputs": [],
   "source": [
    "white_y = white_y.values[0: len(white_y.values)].clip(min=0.) # Convert to np array and clip negative values\n",
    "white_y = white_y[white_y > 0.] # push non-zero values up"
   ]
  },
  {
   "cell_type": "code",
   "execution_count": 38,
   "metadata": {},
   "outputs": [],
   "source": [
    "white_t = white_t.values[0:len(white_y)]"
   ]
  },
  {
   "cell_type": "markdown",
   "metadata": {},
   "source": [
    "#### Compute Trajectory using the Euler Algorithm"
   ]
  },
  {
   "cell_type": "code",
   "execution_count": 39,
   "metadata": {},
   "outputs": [],
   "source": [
    "y_w_e, t_w_e = euler(white_y, Sw)"
   ]
  },
  {
   "cell_type": "markdown",
   "metadata": {},
   "source": [
    "#### Compute Trajectory using Bashforth-Adams Algorithm"
   ]
  },
  {
   "cell_type": "code",
   "execution_count": 40,
   "metadata": {},
   "outputs": [],
   "source": [
    "y_w_ba, t_w_ba = bash_adams(white_y, Sw)"
   ]
  },
  {
   "cell_type": "markdown",
   "metadata": {},
   "source": [
    "#### Plot comparison between Euler simulation and Tracker data"
   ]
  },
  {
   "cell_type": "code",
   "execution_count": 41,
   "metadata": {},
   "outputs": [
    {
     "data": {
      "image/png": "[encoded data removed]",
      "text/plain": [
       "<Figure size 432x288 with 2 Axes>"
      ]
     },
     "metadata": {
      "needs_background": "light"
     },
     "output_type": "display_data"
    }
   ],
   "source": [
    "make_plots(white_y, white_t, y_w_e, t_w_e, Sw, algo=\"Euler\")"
   ]
  },
  {
   "cell_type": "markdown",
   "metadata": {},
   "source": [
    "#### Plot comparison between BA simulation and Tracker data"
   ]
  },
  {
   "cell_type": "code",
   "execution_count": 42,
   "metadata": {},
   "outputs": [
    {
     "data": {
      "image/png": "[encoded data removed]",
      "text/plain": [
       "<Figure size 432x288 with 2 Axes>"
      ]
     },
     "metadata": {
      "needs_background": "light"
     },
     "output_type": "display_data"
    }
   ],
   "source": [
    "make_plots(white_y, white_t, y_w_ba, t_w_ba, Sw, algo=\"Bashforth-Adams\")"
   ]
  },
  {
   "cell_type": "markdown",
   "metadata": {},
   "source": [
    "#### Get the MSE for the predictions vs targets"
   ]
  },
  {
   "cell_type": "code",
   "execution_count": 43,
   "metadata": {},
   "outputs": [],
   "source": [
    "white_euler_MSE = MSE(y_w_e, white_y[0:len(y_w_e)])"
   ]
  },
  {
   "cell_type": "code",
   "execution_count": 44,
   "metadata": {},
   "outputs": [
    {
     "name": "stdout",
     "output_type": "stream",
     "text": [
      "The Mean-Squared Error for the White ball using the Euler Algorithm is 0.004\n"
     ]
    }
   ],
   "source": [
    "print(\"The Mean-Squared Error for the {} ball using the Euler Algorithm is {}\".format(Sw['color'], round(white_euler_MSE, 3)))"
   ]
  },
  {
   "cell_type": "code",
   "execution_count": 45,
   "metadata": {},
   "outputs": [],
   "source": [
    "white_BA_MSE = MSE(y_w_ba, white_y[0:len(y_w_ba)])"
   ]
  },
  {
   "cell_type": "code",
   "execution_count": 46,
   "metadata": {},
   "outputs": [
    {
     "name": "stdout",
     "output_type": "stream",
     "text": [
      "The Mean-Squared Error for the White ball using the BA Algorithm is 0.0\n"
     ]
    }
   ],
   "source": [
    "print(\"The Mean-Squared Error for the {} ball using the BA Algorithm is {}\".format(Sw['color'], round(white_BA_MSE, 3)))"
   ]
  },
  {
   "cell_type": "code",
   "execution_count": 47,
   "metadata": {},
   "outputs": [],
   "source": [
    "euler_MSE = [red_euler_MSE, black_euler_MSE, white_euler_MSE]\n",
    "ba_MSE    = [red_ba_MSE, black_BA_MSE, white_BA_MSE]"
   ]
  },
  {
   "cell_type": "code",
   "execution_count": 48,
   "metadata": {},
   "outputs": [
    {
     "data": {
      "image/png": "[encoded data removed]",
      "text/plain": [
       "<Figure size 432x288 with 1 Axes>"
      ]
     },
     "metadata": {
      "needs_background": "light"
     },
     "output_type": "display_data"
    }
   ],
   "source": [
    "plt.title(\"MSE Comparison: Euler vs Bashforth-Adams Algorithm\")\n",
    "\n",
    "# Set the plotting limits\n",
    "plt.xlim((min(euler_MSE) - 0.01, 0.10))\n",
    "plt.ylim((min(ba_MSE) - 0.01, 0.10))\n",
    "\n",
    "# Set the axes labels\n",
    "plt.xlabel('MSE [Euler]')\n",
    "plt.ylabel('MSE [Bashforth-Adams]')\n",
    "\n",
    "# MSE scores - red ball\n",
    "plt.plot(red_euler_MSE, red_ba_MSE, marker='o', color='r', label=\"Red Ball\")\n",
    "xy = (red_euler_MSE, red_ba_MSE)\n",
    "l1, l2 = round(red_euler_MSE, 3), round(red_ba_MSE, 3)\n",
    "plt.annotate( (l1, l2), xy=xy, textcoords='data')\n",
    "\n",
    "# MSE scores - black ball\n",
    "plt.plot(black_euler_MSE, black_BA_MSE, marker='o', color='k',    label=\"Black Ball\")\n",
    "xy = (black_euler_MSE, black_BA_MSE)\n",
    "l1, l2 = round(black_euler_MSE, 3), round(black_BA_MSE, 3)\n",
    "plt.annotate( (l1, l2), xy=xy, textcoords='data')\n",
    "\n",
    "# MSE scored - white ball\n",
    "plt.plot(white_euler_MSE, white_BA_MSE, marker='o', color='gray', label='White Ball')\n",
    "xy = (white_euler_MSE, white_BA_MSE)\n",
    "l1, l2 = round(white_euler_MSE, 3), round(white_BA_MSE, 3)\n",
    "plt.annotate( (l1, l2), xy=xy, textcoords='data')\n",
    "\n",
    "plt.legend(loc='upper center', ncol=3)\n",
    "plt.savefig(\"MSE_comparison.png\", dpi=300)"
   ]
  },
  {
   "cell_type": "code",
   "execution_count": null,
   "metadata": {},
   "outputs": [],
   "source": []
  },
  {
   "cell_type": "code",
   "execution_count": null,
   "metadata": {},
   "outputs": [],
   "source": []
  },
  {
   "cell_type": "code",
   "execution_count": null,
   "metadata": {},
   "outputs": [],
   "source": []
  },
  {
   "cell_type": "code",
   "execution_count": null,
   "metadata": {},
   "outputs": [],
   "source": []
  },
  {
   "cell_type": "code",
   "execution_count": null,
   "metadata": {},
   "outputs": [],
   "source": []
  },
  {
   "cell_type": "code",
   "execution_count": null,
   "metadata": {},
   "outputs": [],
   "source": []
  }
 ],
 "metadata": {
  "kernelspec": {
   "display_name": "Python 3",
   "language": "python",
   "name": "python3"
  },
  "language_info": {
   "codemirror_mode": {
    "name": "ipython",
    "version": 3
   },
   "file_extension": ".py",
   "mimetype": "text/x-python",
   "name": "python",
   "nbconvert_exporter": "python",
   "pygments_lexer": "ipython3",
   "version": "3.6.10"
  }
 },
 "nbformat": 4,
 "nbformat_minor": 2
}
