{
 "cells": [
  {
   "cell_type": "markdown",
   "metadata": {},
   "source": [
    "# Dropping a ball\n",
    "Written by Tim Atherton for Computational Physics\n",
    "    - Modified by: Kai Stewart, Felix Hu\n",
    "January 16, 2020\n",
    "\n",
    "This program aims to simulate the motion of a ball dropped from an initial height of $y0$ under gravity $g$ using the Euler discretization."
   ]
  },
  {
   "cell_type": "markdown",
   "metadata": {},
   "source": [
    "## Import libraries for plotting and numerical work"
   ]
  },
  {
   "cell_type": "code",
   "execution_count": 1,
   "metadata": {},
   "outputs": [
    {
     "name": "stdout",
     "output_type": "stream",
     "text": [
      "3.6.10 |Anaconda, Inc.| (default, Jan  7 2020, 15:01:53) \n",
      "[GCC 4.2.1 Compatible Clang 4.0.1 (tags/RELEASE_401/final)]\n"
     ]
    }
   ],
   "source": [
    "import sys\n",
    "print(sys.version)"
   ]
  },
  {
   "cell_type": "code",
   "execution_count": 2,
   "metadata": {},
   "outputs": [],
   "source": [
    "import matplotlib.pyplot as plt\n",
    "import numpy as np\n",
    "import pandas as pd"
   ]
  },
  {
   "cell_type": "markdown",
   "metadata": {},
   "source": [
    "## Set up general parameters for the calculation\n",
    "- Gravitational acceleration constant: $10 \\frac{m}{s^2}$\n",
    "\n",
    "- Initial height: $y_0$ in $m$\n",
    "- Initial velocity: $v_0$ in $\\frac{m}{s}$\n",
    "- Initial time: $t_0$ in $s$\n",
    "- Time resolution: $dt$ in $0.1s$\n",
    "- Total simulation time: $t_f$ in $s$"
   ]
  },
  {
   "cell_type": "code",
   "execution_count": 3,
   "metadata": {},
   "outputs": [],
   "source": [
    "g = 10 ; y0 = 1.0 ; v0 = 0 ; t0 = 0 ; dt = 0.05 ; tf = 1.9 "
   ]
  },
  {
   "cell_type": "markdown",
   "metadata": {},
   "source": [
    "## Set number of steps to take in the trajectory calculation"
   ]
  },
  {
   "cell_type": "code",
   "execution_count": 4,
   "metadata": {},
   "outputs": [
    {
     "name": "stdout",
     "output_type": "stream",
     "text": [
      "Number of calculation steps is: 38\n"
     ]
    }
   ],
   "source": [
    "nsteps = int(tf/dt)+1\n",
    "print(\"Number of calculation steps is: {}\".format(nsteps))"
   ]
  },
  {
   "cell_type": "markdown",
   "metadata": {},
   "source": [
    "## Set the properties of the ball under investigations\n",
    "- The properties $S_b$ of the individual balls is a collection of elements pertaining to the various physical properties of the ball in the test set.\n",
    "- Property list:\n",
    "    - Ball mass: $m$ in grams\n",
    "    - Ball diameter: $d$ in mm\n",
    "    - Ball radius: $r$ in mm\n",
    "    - Ball surface area: $s_a = 4\\pi r^2$ in mm$^2$ \n",
    "    - Ball material: $b_{mat}:$ $\\{$'plastic':0, 'rubber':1, 'foam':2$\\}$\n",
    "    - Porosity: $p:$ $\\{ 0.0, ..., 1.0 \\}$\n",
    "- Red Foam Ball\n",
    "    - $S_r:$ $\\{$ $m:$ 0.40,  $d:$ (29, 33), $r:$ (14.5, 16.5), $s_a:$ 3019.07, $b_{mat}:$, $p:$, $\\}$\n",
    "    - Note: The surface area of the red ball is computed using $r = \\frac{1}{2}r_1r_2$\n",
    "- Black Rubber Ball\n",
    "    - $S_b:$ $\\{$ $m:$ 24.55, $d:$ 39.8, $r:$ 19.9, $s_a:$ 4976.4, $b_{mat}:$, $p:$, $\\}$\n",
    "- White Plastic Ball\n",
    "    - $S_w:$ $\\{$ $m:$ 2.80, $d:$ 40.2, $r:$ 20.1, $s_a:$ 5076.94, $b_{mat}:$, $p:$, $\\}$"
   ]
  },
  {
   "cell_type": "code",
   "execution_count": 5,
   "metadata": {},
   "outputs": [],
   "source": [
    "Sr = {'color': 'Red',   'm': 0.40,  'd': 0.0, 'r': 15.5, 's_a': 3019.07, 'b_mat': None, 'p': 0.0, 'drag': 0.50}\n",
    "Sb = {'color': 'Black', 'm': 24.55, 'd': 0.0, 'r': 19.9, 's_a': 4976.40, 'b_mat': None, 'p': 0.0, 'drag': 0.47}\n",
    "Sw = {'color': 'White', 'm': 2.80,  'd': 0.0, 'r': 20.1, 's_a': 5076.94, 'b_mat': None, 'p': 0.0, 'drag': 0.47}"
   ]
  },
  {
   "cell_type": "markdown",
   "metadata": {},
   "source": [
    "### Drag penalty equation\n",
    "#### Function Contract: coefficient of drag, surface area of object, velocity of object, mass of object\n",
    "- [Documentation](https://www.nuclear-power.net/nuclear-engineering/fluid-dynamics/what-is-drag-air-and-fluid-resistance/drag-force-drag-equation/)\n",
    "- Units: m = grams, area = mm$^2$, velocity = m/s, coefficient = unitless\n",
    "- Calculates the drag acceleration of an object with the given properties"
   ]
  },
  {
   "cell_type": "code",
   "execution_count": 6,
   "metadata": {},
   "outputs": [],
   "source": [
    "def drag_accel(coefficient, area, flow_v, m):\n",
    "    return (coefficient * (area * 0.000001) * ((1.225 * (flow_v**2))/2)) / (m * 0.001)"
   ]
  },
  {
   "cell_type": "markdown",
   "metadata": {},
   "source": [
    "### Simulation quality determination function\n",
    "- We propose the use of the Mean-Squared Error (MSE) as a quality metric for our simulation algorithm\n",
    "- The MSE is used to assess the quality of a predictor function in its ability to estimate the outputs of another function. In this case, the simulation acts as our predictor function and the data provided by the tracker software represent the outputs we wish to map to.\n",
    "\n",
    "#### Definition:\n",
    "\n",
    "- $n$ is the number of point predictions in the simulation\n",
    "- $X$ is a vector of observed values of the variable being predicted\n",
    "- $\\hat{X}$ is a vector of predictions\n",
    "- The Mean-Squared Error of the prediction is:\n",
    "    \n",
    "$\\text{MSE} = \\frac{1}{n} \\sum_{i=1}^n (X - \\hat{X})^2 $"
   ]
  },
  {
   "cell_type": "markdown",
   "metadata": {},
   "source": [
    "##### Function contract:\n",
    "- predictions: a numpy array of values produced by the ball drop simulation algorithm\n",
    "- targets: a numpy array of values produced by the tracker software"
   ]
  },
  {
   "cell_type": "code",
   "execution_count": 71,
   "metadata": {},
   "outputs": [],
   "source": [
    "def MSE(predictions, targets):\n",
    "    return np.square(np.subtract(predictions, targets)).mean()"
   ]
  },
  {
   "cell_type": "markdown",
   "metadata": {},
   "source": [
    "## Computation of simulated trajectories using ball properties\n",
    "- Note: We choose acceleration due to gravity to have a negative sign and penalize by adding drag in the positive direction"
   ]
  },
  {
   "cell_type": "markdown",
   "metadata": {},
   "source": [
    "### Simulate Red Ball Trajectory"
   ]
  },
  {
   "cell_type": "markdown",
   "metadata": {},
   "source": [
    "#### Load Red Ball Data from text file"
   ]
  },
  {
   "cell_type": "code",
   "execution_count": 103,
   "metadata": {},
   "outputs": [],
   "source": [
    "red_ball = pd.read_csv('red_ball.txt', delimiter=\"\\t\")"
   ]
  },
  {
   "cell_type": "code",
   "execution_count": 104,
   "metadata": {},
   "outputs": [],
   "source": [
    "red_t = red_ball['t']; red_x = red_ball['x']; red_y = red_ball['y']"
   ]
  },
  {
   "cell_type": "markdown",
   "metadata": {},
   "source": [
    "#### Compute"
   ]
  },
  {
   "cell_type": "code",
   "execution_count": 105,
   "metadata": {},
   "outputs": [],
   "source": [
    "t = np.linspace(t0,tf,nsteps); v = np.zeros([nsteps]); y = np.zeros([nsteps])\n",
    "y[0] = red_y[0] # Set the simulation to same start position as tracker data\n",
    "v[0] = v0\n",
    "\n",
    "for i in range(1, nsteps):\n",
    "    v[i] = v[i-1] + (dt * (-g + drag_accel(Sr['drag'], Sr['s_a'], v[i-1], Sr['m'])))\n",
    "    y[i] = y[i-1] + v[i] * dt\n",
    "    if y[i] < 0:\n",
    "        break"
   ]
  },
  {
   "cell_type": "code",
   "execution_count": 106,
   "metadata": {},
   "outputs": [],
   "source": [
    "y_r = y[y != 0.]    # ensure data is all non-zero"
   ]
  },
  {
   "cell_type": "code",
   "execution_count": 107,
   "metadata": {},
   "outputs": [],
   "source": [
    "y_r = y_r.clip(min=0.) # ensure data does not contain negative values"
   ]
  },
  {
   "cell_type": "code",
   "execution_count": 108,
   "metadata": {},
   "outputs": [],
   "source": [
    "t_r = t[0:len(y_r)] # match the array lengths for plotting"
   ]
  },
  {
   "cell_type": "markdown",
   "metadata": {},
   "source": [
    "#### Bashford-Adams Algorithm"
   ]
  },
  {
   "cell_type": "code",
   "execution_count": 109,
   "metadata": {},
   "outputs": [],
   "source": [
    "t1 = np.linspace(t0,tf,nsteps); v1 = np.zeros([nsteps]); y1 = np.zeros([nsteps])"
   ]
  },
  {
   "cell_type": "code",
   "execution_count": 110,
   "metadata": {},
   "outputs": [],
   "source": [
    "y1[0] = red_y[0] # Set the simulation to same start position as tracker data\n",
    "v1[1] = v1[0] + (dt * (-g + drag_accel(Sr['drag'], Sr['s_a'], v[i-1], Sr['m'])))\n",
    "y1[1] = y1[0] + v1[0] * dt\n",
    "\n",
    "for i in range(2, nsteps):\n",
    "    v1[i] = v1[i-1] + (dt * (-g + drag_accel(Sr['drag'], Sr['s_a'], v1[i-1], Sr['m'])))\n",
    "    y1[i] = y1[i-1] + ( (3/2) * dt * v1[i-1] ) - ( (1/2) * dt * v1[i-2] )\n",
    "    if y[i] < 0:\n",
    "        break"
   ]
  },
  {
   "cell_type": "markdown",
   "metadata": {},
   "source": [
    "- Ensure that the position information does not contain negative values by truncating the array\n",
    "- We match the length of the simulated data arays for plotting purposes"
   ]
  },
  {
   "cell_type": "code",
   "execution_count": 111,
   "metadata": {},
   "outputs": [],
   "source": [
    "y1 = y1[y1 != 0.]"
   ]
  },
  {
   "cell_type": "code",
   "execution_count": 112,
   "metadata": {},
   "outputs": [],
   "source": [
    "y1 = y1.clip(min=0.)"
   ]
  },
  {
   "cell_type": "code",
   "execution_count": 113,
   "metadata": {},
   "outputs": [],
   "source": [
    "t1 = t1[0:len(y1)]"
   ]
  },
  {
   "cell_type": "code",
   "execution_count": 114,
   "metadata": {},
   "outputs": [],
   "source": [
    "red_y = red_y.values[0: len(red_y.values) - 2]"
   ]
  },
  {
   "cell_type": "code",
   "execution_count": 115,
   "metadata": {},
   "outputs": [],
   "source": [
    "red_t = red_t.values[0:len(red_y)]"
   ]
  },
  {
   "cell_type": "markdown",
   "metadata": {},
   "source": [
    "#### Plot comparison between simulation and Tracker data"
   ]
  },
  {
   "cell_type": "code",
   "execution_count": 117,
   "metadata": {},
   "outputs": [
    {
     "data": {
      "image/png": "[encoded data removed]",
      "text/plain": [
       "<Figure size 432x288 with 2 Axes>"
      ]
     },
     "metadata": {
      "needs_background": "light"
     },
     "output_type": "display_data"
    }
   ],
   "source": [
    "%matplotlib inline\n",
    "fig, axes = plt.subplots(1,2, sharey=True)\n",
    "plt.suptitle('Comparison of Euler Algorithm to Tracker Software Data')\n",
    "\n",
    "# Simulation data\n",
    "axes[0].plot(t_r, y_r, color='k')\n",
    "axes[0].set_title(\"Euler Algorithm\")\n",
    "axes[0].set_xlabel('Time [s]')\n",
    "axes[0].set_ylabel('Height [m]')\n",
    "\n",
    "# Mark the start and end points of the simulated data\n",
    "axes[0].scatter(0.0, y_r[0], label='({}, {})'.format(round(t_r[0], 2), round(y_r[0], 2) ), color='g')\n",
    "axes[0].scatter(t_r[-1], y_r[-1], label='({}, {})'.format(round(t_r[-1], 2), round(y_r[-1], 2)), color='r')\n",
    "\n",
    "# Tracker data\n",
    "axes[1].plot(red_t, red_y, color='b')\n",
    "axes[1].set_title('{} Ball'.format(Sr['color']))\n",
    "axes[1].set_xlabel('Time [s]')\n",
    "\n",
    "# Mark the start and end points of the Tracker generated data\n",
    "label = '({}, {})'.format(round(red_t[0], 2), round(red_y[0], 2) )\n",
    "axes[1].scatter(red_t[0], red_y[0], label=label, color='g')\n",
    "\n",
    "label = '({}, {})'.format(round(red_t[-1], 2), round(red_y[-1], 2))\n",
    "axes[1].scatter(red_t[-1], red_y[-1], label=label, color='r')\n",
    "\n",
    "# Legends\n",
    "axes[0].legend()\n",
    "axes[1].legend()\n",
    "\n",
    "plt.savefig('ball_drop_{}.png'.format(Sr['color']), dpi=300)"
   ]
  },
  {
   "cell_type": "code",
   "execution_count": 118,
   "metadata": {},
   "outputs": [
    {
     "data": {
      "image/png": "[encoded data removed]",
      "text/plain": [
       "<Figure size 432x288 with 2 Axes>"
      ]
     },
     "metadata": {
      "needs_background": "light"
     },
     "output_type": "display_data"
    }
   ],
   "source": [
    "%matplotlib inline\n",
    "fig, axes = plt.subplots(1,2, sharey=True)\n",
    "plt.suptitle('Comparison of Bashforth-Adams to Tracker Software Data')\n",
    "\n",
    "# Simulation data\n",
    "axes[0].plot(t1, y1, color='k')\n",
    "axes[0].set_title(\"Bashforth-Adams Algorithm\")\n",
    "axes[0].set_xlabel('Time [s]')\n",
    "axes[0].set_ylabel('Height [m]')\n",
    "\n",
    "# Mark the start and end points of the simulated data\n",
    "axes[0].scatter(0.0, y1[0], label='({}, {})'.format(round(t1[0], 2), round(y1[0], 2) ), color='g')\n",
    "axes[0].scatter(t1[-1], y1[-1], label='({}, {})'.format(round(t1[-1], 2), round(y1[-1], 2)), color='r')\n",
    "\n",
    "# Tracker data\n",
    "axes[1].plot(red_t, red_y, color='b')\n",
    "axes[1].set_title('{} Ball'.format(Sr['color']))\n",
    "axes[1].set_xlabel('Time [s]')\n",
    "\n",
    "# Mark the start and end points of the Tracker generated data\n",
    "label = '({}, {})'.format(round(red_t[0], 2), round(red_y[0], 2) )\n",
    "axes[1].scatter(red_t[0], red_y[0], label=label, color='g')\n",
    "\n",
    "label = '({}, {})'.format(round(red_t[-1], 2), round(red_y[-1], 2))\n",
    "axes[1].scatter(red_t[-1], red_y[-1], label=label, color='r')\n",
    "\n",
    "# Legends\n",
    "axes[0].legend()\n",
    "axes[1].legend()\n",
    "\n",
    "plt.savefig('ball_drop_{}.png'.format(Sr['color']), dpi=300)"
   ]
  },
  {
   "cell_type": "markdown",
   "metadata": {},
   "source": [
    "#### Get the MSE for the predictions vs targets"
   ]
  },
  {
   "cell_type": "code",
   "execution_count": 120,
   "metadata": {},
   "outputs": [],
   "source": [
    "red_euler_MSE = MSE(y_r, red_y[0:len(y_r)])"
   ]
  },
  {
   "cell_type": "code",
   "execution_count": 121,
   "metadata": {},
   "outputs": [
    {
     "name": "stdout",
     "output_type": "stream",
     "text": [
      "The Mean-Squared Error for the Red ball using the Euler Algorithm is 0.096\n"
     ]
    }
   ],
   "source": [
    "print(\"The Mean-Squared Error for the {} ball using the Euler Algorithm is {}\".format(Sr['color'], round(red_euler_MSE, 3)))"
   ]
  },
  {
   "cell_type": "code",
   "execution_count": 125,
   "metadata": {},
   "outputs": [],
   "source": [
    "red_ba_MSE = MSE(y1, red_y[0:len(y1)] )"
   ]
  },
  {
   "cell_type": "code",
   "execution_count": 127,
   "metadata": {},
   "outputs": [
    {
     "name": "stdout",
     "output_type": "stream",
     "text": [
      "The Mean-Squared Error for the Red ball using the Euler Algorithm is 0.036\n"
     ]
    }
   ],
   "source": [
    "print(\"The Mean-Squared Error for the {} ball using the Euler Algorithm is {}\".format(Sr['color'], round(red_ba_MSE, 3)))"
   ]
  },
  {
   "cell_type": "markdown",
   "metadata": {},
   "source": [
    "### Simulate Black Ball Trajectory"
   ]
  },
  {
   "cell_type": "markdown",
   "metadata": {},
   "source": [
    "#### Load Black Ball Data from text file"
   ]
  },
  {
   "cell_type": "code",
   "execution_count": 36,
   "metadata": {},
   "outputs": [],
   "source": [
    "black_ball = pd.read_csv('black_ball.txt', delimiter=\"\\t\")"
   ]
  },
  {
   "cell_type": "code",
   "execution_count": 37,
   "metadata": {},
   "outputs": [],
   "source": [
    "black_t = black_ball['t']; black_x = black_ball['x']; black_y = black_ball['y']"
   ]
  },
  {
   "cell_type": "markdown",
   "metadata": {},
   "source": [
    "#### Compute"
   ]
  },
  {
   "cell_type": "code",
   "execution_count": 38,
   "metadata": {},
   "outputs": [],
   "source": [
    "t = np.linspace(t0,tf,nsteps); v = np.zeros([nsteps]); y = np.zeros([nsteps])\n",
    "y[0] = black_y[0] # Set the simulation to same start position as tracker data\n",
    "v[0] = v0\n",
    "\n",
    "for i in range(1, nsteps):\n",
    "    v[i] = v[i-1] + (dt * (-g + drag_accel(Sb['drag'], Sb['s_a'], v[i-1], Sb['m'])))\n",
    "    y[i] = y[i-1] + v[i] * dt\n",
    "    if y[i] < 0:\n",
    "        break"
   ]
  },
  {
   "cell_type": "markdown",
   "metadata": {},
   "source": [
    "- Ensure that the position information does not contain negative values by truncating the array\n",
    "- We match the length of the simulated data arays for plotting purposes"
   ]
  },
  {
   "cell_type": "code",
   "execution_count": 40,
   "metadata": {},
   "outputs": [],
   "source": [
    "y_b = y[y != 0.] # ensure data is all non-zero"
   ]
  },
  {
   "cell_type": "code",
   "execution_count": 44,
   "metadata": {},
   "outputs": [],
   "source": [
    "y_b = y_b.clip(min=0.) # ensure data does not contain negative values"
   ]
  },
  {
   "cell_type": "code",
   "execution_count": 46,
   "metadata": {},
   "outputs": [],
   "source": [
    "t_b = t[0:len(y_b)] # match the array lengths for plotting"
   ]
  },
  {
   "cell_type": "code",
   "execution_count": 48,
   "metadata": {},
   "outputs": [],
   "source": [
    "black_y = black_y.values[0: len(black_y.values)]"
   ]
  },
  {
   "cell_type": "code",
   "execution_count": 49,
   "metadata": {},
   "outputs": [],
   "source": [
    "black_t = black_t.values[0:len(black_y)]"
   ]
  },
  {
   "cell_type": "markdown",
   "metadata": {},
   "source": [
    "#### Plot comparison between simulation and Tracker data"
   ]
  },
  {
   "cell_type": "code",
   "execution_count": 50,
   "metadata": {},
   "outputs": [
    {
     "data": {
      "image/png": "[encoded data removed]",
      "text/plain": [
       "<Figure size 432x288 with 2 Axes>"
      ]
     },
     "metadata": {
      "needs_background": "light"
     },
     "output_type": "display_data"
    }
   ],
   "source": [
    "%matplotlib inline\n",
    "fig, axes = plt.subplots(1,2, sharey=True)\n",
    "plt.suptitle('Comparison of Simulation Data to Tracker Software Data')\n",
    "\n",
    "# Simulation data\n",
    "axes[0].plot(t_b, y_b, color='k')\n",
    "axes[0].set_title(\"Simulation\")\n",
    "axes[0].set_xlabel('Time [s]')\n",
    "axes[0].set_ylabel('Height [m]')\n",
    "\n",
    "# Mark the start and end points of the simulated data\n",
    "axes[0].scatter(0.0, y_b[0], label='({}, {})'.format(round(t_b[0], 2), round(y_b[0], 2) ), color='g')\n",
    "axes[0].scatter(t_b[-1], y_b[-1], label='({}, {})'.format(round(t_b[-1], 2), round(y_b[-1], 2)), color='r')\n",
    "\n",
    "# Tracker data\n",
    "axes[1].plot(black_t, black_y, color='b')\n",
    "axes[1].set_title('{} Ball'.format(Sb['color']))\n",
    "axes[1].set_xlabel('Time [s]')\n",
    "\n",
    "# Mark the start and end points of the Tracker generated data\n",
    "label = '({}, {})'.format(round(black_t[0], 2), round(black_y[0], 2) )\n",
    "axes[1].scatter(black_t[0], black_y[0], label=label, color='g')\n",
    "\n",
    "label = '({}, {})'.format(round(black_t[-1], 2), round(black_y[-1], 2))\n",
    "axes[1].scatter(black_t[-1], black_y[-1], label=label, color='r')\n",
    "\n",
    "# Legends\n",
    "axes[0].legend()\n",
    "axes[1].legend()\n",
    "\n",
    "plt.savefig('ball_drop_{}.png'.format(Sb['color']), dpi=300)"
   ]
  },
  {
   "cell_type": "markdown",
   "metadata": {},
   "source": [
    "#### Get the MSE for the predictions vs targets"
   ]
  },
  {
   "cell_type": "code",
   "execution_count": 83,
   "metadata": {},
   "outputs": [],
   "source": [
    "black_MSE = MSE(y_b, black_y[0:len(y_b)])"
   ]
  },
  {
   "cell_type": "code",
   "execution_count": 84,
   "metadata": {},
   "outputs": [
    {
     "name": "stdout",
     "output_type": "stream",
     "text": [
      "The Mean-Squared Error for the Black ball is 0.075\n"
     ]
    }
   ],
   "source": [
    "print(\"The Mean-Squared Error for the {} ball is {}\".format(Sb['color'], round(black_MSE, 3)))"
   ]
  },
  {
   "cell_type": "markdown",
   "metadata": {},
   "source": [
    "### Simulate White Ball Trajectory"
   ]
  },
  {
   "cell_type": "markdown",
   "metadata": {},
   "source": [
    "#### Load White Ball Data from Text File"
   ]
  },
  {
   "cell_type": "code",
   "execution_count": 51,
   "metadata": {},
   "outputs": [],
   "source": [
    "white_ball = pd.read_csv('white_ball.txt', delimiter=\"\\t\")"
   ]
  },
  {
   "cell_type": "code",
   "execution_count": 52,
   "metadata": {},
   "outputs": [],
   "source": [
    "white_t = white_ball['t']; white_x = white_ball['x']; white_y = white_ball['y']"
   ]
  },
  {
   "cell_type": "code",
   "execution_count": 53,
   "metadata": {},
   "outputs": [],
   "source": [
    "t = np.linspace(t0,tf,nsteps); v = np.zeros([nsteps]); y = np.zeros([nsteps])\n",
    "y[0] = white_y[0] # Set the simulation to same start position as tracker data\n",
    "v[0] = v0\n",
    "\n",
    "for i in range(1, nsteps):\n",
    "    v[i] = v[i-1] + (dt * (-g + drag_accel(Sw['drag'], Sw['s_a'], v[i-1], Sw['m'])))\n",
    "    y[i] = y[i-1] + v[i] * dt\n",
    "    if y[i] < 0:\n",
    "        break"
   ]
  },
  {
   "cell_type": "markdown",
   "metadata": {},
   "source": [
    "- Ensure that the position information does not contain negative values by truncating the array\n",
    "- We match the length of the simulated data arays for plotting purposes"
   ]
  },
  {
   "cell_type": "code",
   "execution_count": 54,
   "metadata": {},
   "outputs": [],
   "source": [
    "y_w = y[y != 0.]    # ensure data is all non-zero"
   ]
  },
  {
   "cell_type": "code",
   "execution_count": 55,
   "metadata": {},
   "outputs": [],
   "source": [
    "y_w = y_w.clip(min=0.) # ensure data does not contain negative values"
   ]
  },
  {
   "cell_type": "code",
   "execution_count": 56,
   "metadata": {},
   "outputs": [],
   "source": [
    "t_w = t[0:len(y_w)] # match the array lengths for plotting"
   ]
  },
  {
   "cell_type": "code",
   "execution_count": 57,
   "metadata": {},
   "outputs": [],
   "source": [
    "white_y = white_y.values[0: len(white_y.values)]"
   ]
  },
  {
   "cell_type": "code",
   "execution_count": 58,
   "metadata": {},
   "outputs": [],
   "source": [
    "white_t = white_t.values[0:len(white_y)]"
   ]
  },
  {
   "cell_type": "markdown",
   "metadata": {},
   "source": [
    "#### Plot comparison between simulation and Tracker data"
   ]
  },
  {
   "cell_type": "code",
   "execution_count": 59,
   "metadata": {},
   "outputs": [
    {
     "data": {
      "image/png": "[encoded data removed]",
      "text/plain": [
       "<Figure size 432x288 with 2 Axes>"
      ]
     },
     "metadata": {
      "needs_background": "light"
     },
     "output_type": "display_data"
    }
   ],
   "source": [
    "%matplotlib inline\n",
    "fig, axes = plt.subplots(1,2, sharey=True)\n",
    "plt.suptitle('Comparison of Simulation Data to Tracker Software Data')\n",
    "\n",
    "# Simulation data\n",
    "axes[0].plot(t_w, y_w, color='k')\n",
    "axes[0].set_title(\"Simulation\")\n",
    "axes[0].set_xlabel('Time [s]')\n",
    "axes[0].set_ylabel('Height [m]')\n",
    "\n",
    "# Mark the start and end points of the simulated data\n",
    "axes[0].scatter(0.0, y_w[0], label='({}, {})'.format(round(t_w[0], 2), round(y_w[0], 2) ), color='g')\n",
    "axes[0].scatter(t_w[-1], y_w[-1], label='({}, {})'.format(round(t_w[-1], 2), round(y_w[-1], 2)), color='r')\n",
    "\n",
    "# Tracker data\n",
    "axes[1].plot(white_t, white_y, color='b')\n",
    "axes[1].set_title('{} Ball'.format(Sw['color']))\n",
    "axes[1].set_xlabel('Time [s]')\n",
    "\n",
    "# Mark the start and end points of the Tracker generated data\n",
    "label = '({}, {})'.format(round(white_t[0], 2), round(white_y[0], 2) )\n",
    "axes[1].scatter(white_t[0], white_y[0], label=label, color='g')\n",
    "\n",
    "label = '({}, {})'.format(round(white_t[-1], 2), round(white_y[-1], 2))\n",
    "axes[1].scatter(white_t[-1], white_y[-1], label=label, color='r')\n",
    "\n",
    "# Legends\n",
    "axes[0].legend()\n",
    "axes[1].legend()\n",
    "\n",
    "plt.savefig('ball_drop_{}.png'.format(Sw['color']), dpi=300)"
   ]
  },
  {
   "cell_type": "markdown",
   "metadata": {},
   "source": [
    "#### Get the MSE for the predictions vs targets"
   ]
  },
  {
   "cell_type": "code",
   "execution_count": 86,
   "metadata": {},
   "outputs": [],
   "source": [
    "white_MSE = MSE(y_w, white_y[0:len(y_w)])"
   ]
  },
  {
   "cell_type": "code",
   "execution_count": 87,
   "metadata": {},
   "outputs": [
    {
     "name": "stdout",
     "output_type": "stream",
     "text": [
      "The Mean-Squared Error for the White ball is 0.104\n"
     ]
    }
   ],
   "source": [
    "print(\"The Mean-Squared Error for the {} ball is {}\".format(Sw['color'], round(white_MSE, 3)))"
   ]
  }
 ],
 "metadata": {
  "kernelspec": {
   "display_name": "Python 3",
   "language": "python",
   "name": "python3"
  },
  "language_info": {
   "codemirror_mode": {
    "name": "ipython",
    "version": 3
   },
   "file_extension": ".py",
   "mimetype": "text/x-python",
   "name": "python",
   "nbconvert_exporter": "python",
   "pygments_lexer": "ipython3",
   "version": "3.6.10"
  }
 },
 "nbformat": 4,
 "nbformat_minor": 2
}
