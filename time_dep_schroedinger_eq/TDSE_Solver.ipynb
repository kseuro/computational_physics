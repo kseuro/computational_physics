{
 "cells": [
  {
   "cell_type": "markdown",
   "metadata": {},
   "source": [
    "### Physics-068\n",
    "### Project 4: Time Dependent Schrödinger Equation\n",
    "### Spring 2020\n",
    "#### Henry Adair, Ben Miller, Kai Stewart"
   ]
  },
  {
   "cell_type": "markdown",
   "metadata": {},
   "source": [
    "The goal of this project is to simulate the TDSE with the following definition:\n",
    "\n",
    "$-\\frac{1}{2}\\frac{\\partial^2 \\Psi}{\\partial x^2} + V\\Psi = i\\frac{\\partial \\Psi}{\\partial t}$\n",
    "\n",
    "with the convention that $\\hbar = m = 1$"
   ]
  },
  {
   "cell_type": "markdown",
   "metadata": {},
   "source": [
    "We begin by implementing a finite-difference scheme whereby the differential operators are ultimately combined into a single [tri-diagonal matrix](https://en.wikipedia.org/wiki/Tridiagonal_matrix_algorithm) for which a system of equations can be solved. Here, the index $n$ corresponds to time and $j$ corresonds to position.\n",
    "\n",
    "First, convert the individual differential operators using the finite difference scheme.\n",
    "$\\bigg[\\frac{\\Psi_{j+1}^{n+1} - 2\\Psi_{j}^{n+1} + \\Psi_{j-1}^{n+1}}{(\\Delta x^2)}\\bigg] + V_j\\Psi_j^{n+1} = i\\bigg[ \\frac{\\Psi_j^{n+1} - \\Psi_j}{\\Delta t}\\bigg]$\n",
    "\n",
    "\n",
    "$\\bigg[\\frac{\\Psi_{j+1}^{n+1} - 2\\Psi_{j}^{n+1} + \\Psi_{j-1}^{n+1}}{(\\Delta x^2)}\\bigg] + V_j\\Psi_j^{n+1} = \\frac{i\\Psi_j^{n+1} - i\\Psi_j}{\\Delta t}$\n",
    "\n",
    "Isolate the term corresponding to the starting position $j$ of the wavepacket.\n",
    "$-\\frac{\\Delta t}{i}\\bigg[\\frac{\\Psi_{j+1}^{n+1} - 2\\Psi_{j}^{n+1} + \\Psi_{j-1}^{n+1}}{(\\Delta x^2)} + V_j\\Psi_j^{n+1}\\bigg] = - \\Psi_j^{n+1} + \\Psi_j$\n",
    "\n",
    "This last formulation determines how a wavepacket at position $j$ with finite wavenumber $k$ will propagate forwards in time.\n",
    "$\\Psi_j^{n+1} + i\\Delta t\\bigg[\\frac{\\Psi_{j+1}^{n+1} - 2\\Psi_{j}^{n+1}+ \\Psi_{j-1}^{n+1}}{(\\Delta x^2)} + V_j\\Psi_j^{n+1}\\bigg] = \\Psi_j$"
   ]
  },
  {
   "cell_type": "markdown",
   "metadata": {},
   "source": [
    "### Import packages"
   ]
  },
  {
   "cell_type": "code",
   "execution_count": null,
   "metadata": {},
   "outputs": [],
   "source": [
    "import numpy as np\n",
    "import pandas as pd\n",
    "import matplotlib.pyplot as plt\n",
    "import matplotlib.cm as cm\n",
    "from scipy.linalg import solve_circulant\n",
    "import imageio\n",
    "import random\n",
    "%matplotlib inline"
   ]
  },
  {
   "cell_type": "markdown",
   "metadata": {},
   "source": [
    "# Functions"
   ]
  },
  {
   "cell_type": "markdown",
   "metadata": {},
   "source": [
    "### Wave Plotting Function\n",
    "This function is used to generate plots of the wavefunction in order to create the final animation"
   ]
  },
  {
   "cell_type": "code",
   "execution_count": null,
   "metadata": {},
   "outputs": [],
   "source": [
    "def plot_waves(x_range, psi, V, packet, idx, options, rainbow=False):\n",
    "    '''\n",
    "        Plot Waves Function\n",
    "        Args:\n",
    "            - x (np_array): NumPy array defining the distance over which the \n",
    "                            corresponding wave should be plotted\n",
    "            - psi (np_array): NumPy array corresponding to a computed psi function\n",
    "            - V (numpy array): array of potential values\n",
    "            - packet (dict): initial wavepacket parameters\n",
    "            - idx (int): index of the loop that is calling this function\n",
    "            - options (list): options corresponding to the type of simulation that was done\n",
    "                              - index 0 (str): potential type (linear, harmonic, triangular)\n",
    "                              - index 1 (str): operator type (tri, circ)\n",
    "            - rainbow (bool): skittles\n",
    "        Returns:\n",
    "            - image for .gif generation\n",
    "    '''\n",
    "    fig, ax = plt.subplots(figsize=(20,10))\n",
    "    \n",
    "    if rainbow:\n",
    "        c = cm.rainbow(np.linspace(0, 1, 3))\n",
    "        c_idx = [0,1,2]\n",
    "        random.shuffle(c_idx)\n",
    "\n",
    "    ## Plot settings\n",
    "    offset = packet['N'] * 0.15\n",
    "    \n",
    "    # Set axes limits\n",
    "    ax.set_xlim(min(x_range) + offset, max(x_range) - offset)\n",
    "    ax.set_ylim(-0.25, 0.50)\n",
    "    \n",
    "\n",
    "    # Plot wave on axes object\n",
    "    if rainbow:\n",
    "        ax.plot(x_range, psi.real,    color = c[c_idx[0]], label='$\\mathcal{Re}(\\Psi)$')\n",
    "        ax.plot(x_range, psi.imag,    color = c[c_idx[1]], label='$\\mathcal{Im}(\\Psi)$')\n",
    "        ax.plot(x_range, np.abs(psi), color = c[c_idx[2]], label=f'$\\Psi$_{idx}')\n",
    "        ax.set_facecolor('#000000')\n",
    "    else:\n",
    "        ax.plot(x_range, psi.real,    color = 'blue',   label='$\\mathcal{Re}(\\Psi)$')\n",
    "        ax.plot(x_range, psi.imag,    color = 'orange', label='$\\mathcal{Im}(\\Psi)$')\n",
    "        ax.plot(x_range, np.abs(psi), color = 'k',      label=f'$\\Psi$_{idx}')\n",
    "        ax.grid()\n",
    "    \n",
    "    # Plot potential on all axes obejcts\n",
    "    ax.plot(x_range, V, color='purple', linestyle='--', label='Potential')\n",
    "    \n",
    "    ax.set(xlabel='Postion [nm]', ylabel=f'$\\Psi$_{idx}', title='$\\Psi$ Animation')\n",
    "    ax.legend()\n",
    "    \n",
    "    # Set figure title\n",
    "    if 'harmonic' in options[0]:\n",
    "        if options[-1] == 'skittles':\n",
    "            plt.suptitle(\"Quantum Harmonic Skittles Oscillator\", fontsize=16)\n",
    "            \n",
    "        else:\n",
    "            plt.suptitle(\"Quantum Harmonic Oscillator\", fontsize=16)\n",
    "    elif 'lin' in options[0]:\n",
    "        plt.suptitle(\"Wavepacket in Linear Potential\", fontsize=16)\n",
    "    elif 'tri' in options[0]:\n",
    "        plt.suptitle(\"Wavepacket in Triangular Potential\", fontsize=16)\n",
    "    elif 'inf' in options[0]:\n",
    "        plt.suptitle(\"Wavepacket in Infinite Potential\", fontsize=16)\n",
    "    else:\n",
    "        plt.suptitle(\"Free Wavepacket\", fontsize=16)\n",
    "    \n",
    "    # Used to return the plot as an image array\n",
    "    fig.canvas.draw()       # draw the canvas, cache the renderer\n",
    "    image = np.frombuffer(fig.canvas.tostring_rgb(), dtype='uint8')\n",
    "    image = image.reshape(fig.canvas.get_width_height()[::-1] + (3,))\n",
    "    plt.close()\n",
    "    \n",
    "    return image"
   ]
  },
  {
   "cell_type": "markdown",
   "metadata": {},
   "source": [
    "### Operator Function\n",
    "This function generates entries for each row of the matrix operator that will act on the wavefunction during the system solving routine."
   ]
  },
  {
   "cell_type": "code",
   "execution_count": null,
   "metadata": {},
   "outputs": [],
   "source": [
    "def operator(dX, dT, V):\n",
    "    '''\n",
    "        Function that generates the operator sequence for each row of the\n",
    "        matrix used to solve the TDSE.\n",
    "        Args:\n",
    "            - dX (float): step size of the spatial coordinateds\n",
    "            - dT (float): step size of the temporal coordinates\n",
    "            - V (float): value of the potential function for a given spatial coordinate\n",
    "        Returns:\n",
    "            - operator entry (array): list of operators to be included in the operator matrix\n",
    "    '''\n",
    "    dtdx = (-1j*dT)/(dX**2)\n",
    "    d2xdt2 = 1 + dtdx*(-2 + V)\n",
    "    op = np.empty((3,), dtype=np.complex_)\n",
    "    op[0] = dtdx\n",
    "    op[1] = d2xdt2\n",
    "    op[2] = dtdx\n",
    "    return op"
   ]
  },
  {
   "cell_type": "markdown",
   "metadata": {},
   "source": [
    "### Tri-Diagnonal Matrix Function\n",
    "[Tri-Diagonal Matrix](https://en.wikipedia.org/wiki/Tridiagonal_matrix_algorithm)"
   ]
  },
  {
   "cell_type": "code",
   "execution_count": null,
   "metadata": {},
   "outputs": [],
   "source": [
    "def gen_tridiag(dX, dT, V, N):\n",
    "    '''\n",
    "        Function that creates a tri-diagonal operator\n",
    "        Args:\n",
    "            - dX (float): step size of the spatial coordinates\n",
    "            - dT (float): step size of the temporal coordinates\n",
    "            - V  (array): values of the potential function in which the particle\n",
    "                          will be propagated\n",
    "            - N  (int): dimension of the matrix corresponding to the length of\n",
    "                        the array that represents the wavepacket. Must be geq 3.\n",
    "        Returns:\n",
    "            - A (Numpy Array): [nxn] tri-diagonal finite difference operator \n",
    "    '''\n",
    "    # Declare an array of zeros with appropriate dimensions\n",
    "    A = np.zeros((N,N), dtype = np.complex_)\n",
    "    \n",
    "    # Place operator entries in locations b1 and c1\n",
    "    op = operator(dX, dT, V[0])\n",
    "    A[0][0:2] = op[1:3]\n",
    "        \n",
    "    # Place operator entries in locations ai+1, bi+1, and ci+1\n",
    "    for i in range(1,N-1):\n",
    "        A[i][i-1:i+2] = operator(dX, dT, V[i])\n",
    "    \n",
    "    # Place operator entries in locations bn and cn\n",
    "    op = operator(dX, dT, V[-1])\n",
    "    A[-1][-2:] = op[0:2]\n",
    "\n",
    "    return A"
   ]
  },
  {
   "cell_type": "markdown",
   "metadata": {},
   "source": [
    "### Circulant Matrix Function\n",
    "[Circulant Matrix](https://en.wikipedia.org/wiki/Circulant_matrix)"
   ]
  },
  {
   "cell_type": "code",
   "execution_count": null,
   "metadata": {},
   "outputs": [],
   "source": [
    "def gen_circ(dX, dT, V, N):\n",
    "    '''\n",
    "        Function that creates a circulant matrix operator\n",
    "        Args:\n",
    "            - dX (float): step size of the spatial coordinates\n",
    "            - dT (float): step size of the temporal coordinates\n",
    "            - V  (array): values of the potential function in which the particle\n",
    "                          will be propagated\n",
    "            - N  (int): dimension of the matrix corresponding to the length of\n",
    "                        the array that represents the wavepacket. Must be >= 3.\n",
    "        Returns:\n",
    "            - A (Numpy Array): [nxn] circular finite difference operator \n",
    "    '''\n",
    "    # Declare an array of zeros with appropriate dimensions\n",
    "    A=np.zeros((N,N), dtype=np.complex_)\n",
    "\n",
    "    op = operator(dX, dT, V[0])\n",
    "    # Place operator entry in top right corner\n",
    "    A[0][-1] = op[0]\n",
    "    # Place operator entries in locations b1 and c1\n",
    "    A[0][0:2] = op[1:3]\n",
    "\n",
    "    # Place operator entries in locations ai+1, bi+1, and ci+1\n",
    "    for i in range(1,N-1):\n",
    "        A[i][i-1:i+2] = operator(dX, dT, V[i])\n",
    "    \n",
    "    op = operator(dX, dT, V[-1])\n",
    "    # Place operator entry in lower left corner\n",
    "    A[-1][0] = op[2]\n",
    "    # Place operator entries in locations bn and cn\n",
    "    A[-1][-2:] = op[0:2]\n",
    "\n",
    "    return A"
   ]
  },
  {
   "cell_type": "markdown",
   "metadata": {},
   "source": [
    "### Operator Matrix Generation Function"
   ]
  },
  {
   "cell_type": "code",
   "execution_count": null,
   "metadata": {},
   "outputs": [],
   "source": [
    "def GenMatrix(dX, dT, V, N, option):\n",
    "    '''\n",
    "        Function that creates either a tri-diagonal or circulant matrix\n",
    "        Args:\n",
    "            - dX (float): step size of the spatial coordinateds\n",
    "            - dT (float): step size of the temporal coordinates\n",
    "            - V  (array): values of the potential function in which the particle\n",
    "                          will be propagated\n",
    "            - N  (int): dimension of the matrix corresponding to the length of\n",
    "                        the array that represents the wavepacket. Must be >= 3.\n",
    "            - option (str): determines which kind of matrix the function should return,\n",
    "                            either Tri-Diagonal or Circulant.\n",
    "                            - Arguments are: 'tri', 'circ'.\n",
    "                            - (default) 'tri'\n",
    "        Returns:\n",
    "            - A (Numpy Array): [nxn] finite difference operator \n",
    "    '''\n",
    "    assert N>=3, \"The dimension of the operator must be greater than or equal to 3\"\n",
    "    \n",
    "    if 'circ' in option:\n",
    "        return gen_circ(dX, dT, V, N)\n",
    "    elif 'tri' in option:\n",
    "        return gen_tridiag(dX, dT, V, N)\n",
    "    else:\n",
    "        print('No operator geometry selected - defaulting to tridiagnonal implementation')\n",
    "        return gen_tridiag(dX, dT, V, N)"
   ]
  },
  {
   "cell_type": "markdown",
   "metadata": {},
   "source": [
    "### Wavepacket Generation Function\n",
    "[Gaussian Wavepacket Localized in k-space](https://quantummechanics.ucsd.edu/ph130a/130_notes/node80.html)"
   ]
  },
  {
   "cell_type": "code",
   "execution_count": null,
   "metadata": {},
   "outputs": [],
   "source": [
    "def wavepacket(alpha, k, center, N, step, dx, dt):\n",
    "    '''\n",
    "        Function that constructs a Gaussian wavepacket for a given wavenumber.\n",
    "        Args:\n",
    "            - alpha  (float): Variance of the wavepacket\n",
    "            - k      (float): Mean wavenumber of the wavepacket\n",
    "            - center (float): specify where the wavefunction should be centered\n",
    "            - N      (int):   Number of steps over which the function should be defined\n",
    "            - step   (float): Size of the steps between each point in the wavepacket\n",
    "        Returns:\n",
    "            - psi (Numpy array): corresponds to a Gaussian wave-packet localized in k.\n",
    "    '''\n",
    "    # Define the normalization constant\n",
    "    c = (1 / (2 * alpha * np.pi))**(1/4)\n",
    "    \n",
    "    # Define the range of k values for the wavepacket\n",
    "    p = np.linspace(-N, N, step)\n",
    "    \n",
    "    # Construct the wavepacket \n",
    "    ## Complex component\n",
    "    psi_im = np.exp(1j * k * (p + center))\n",
    "    \n",
    "    ## Real component\n",
    "    psi_re = np.exp( -np.square(p + center) / (4 * alpha) )\n",
    "    \n",
    "    return c * psi_im * psi_re"
   ]
  },
  {
   "cell_type": "markdown",
   "metadata": {},
   "source": [
    "### Potential generation function"
   ]
  },
  {
   "cell_type": "code",
   "execution_count": null,
   "metadata": {},
   "outputs": [],
   "source": [
    "def potential(x_range, steps, dx, option = None):\n",
    "    '''\n",
    "        Function that generates an array corresponding to a 1D potential\n",
    "        Args:\n",
    "            - steps (int): number of steps over which the potential should be defined\n",
    "            - x_range (numpy array): spatial range of the wavepacket\n",
    "            - dx (float): step size that scales the potential function\n",
    "            - option (str): selects for a particular potential configuration.\n",
    "                            - Arguments are:\n",
    "                                - linear\n",
    "                                - harmonic\n",
    "                                - triangular\n",
    "                                - infinite\n",
    "                            (default): zero potential\n",
    "        Returns:\n",
    "            Numpy array corresponding to the selected potential\n",
    "    '''\n",
    "    if 'lin' in option:\n",
    "        V1 = np.array([0 for i in range(0, len(x_range)//2)])\n",
    "        V2 = np.array([i for i in range(0, len(x_range)//2)])\n",
    "        return np.concatenate((V1, V2)) * dx\n",
    "    elif 'har' in option:\n",
    "        limit = int(len(x_range) * 0.10)\n",
    "        V_right = np.array([(1/16)*i**2 for i in range(0, len(x_range)//2)])\n",
    "        V_right[limit:] = 10e10\n",
    "        V_left  = V_right[::-1]\n",
    "        return np.concatenate((V_left, V_right)) * dx\n",
    "    elif 'tri' in option:\n",
    "        V2 = np.array([i for i in range(0, len(x_range)//2)])\n",
    "        V1 = V2[::-1]\n",
    "        return np.concatenate((V1, V2)) * dx\n",
    "    elif 'inf' in option:\n",
    "        limit = int(len(x_range) * 0.50)\n",
    "        wall = np.array([0 for i in range(0, len(x_range))]) * dx\n",
    "        wall[len(wall)//2 - limit:] = 10e10 \n",
    "        wall[len(wall)//2 + limit:] = 10e10\n",
    "        return wall \n",
    "    elif option is None:\n",
    "        print('No potential well configuration selected - defaulting to zero potential')\n",
    "        return np.array([0 for i in range(0, len(x_range))]) * dx"
   ]
  },
  {
   "cell_type": "markdown",
   "metadata": {},
   "source": [
    "### Wrapper Function for Computing Experiment"
   ]
  },
  {
   "cell_type": "code",
   "execution_count": null,
   "metadata": {},
   "outputs": [],
   "source": [
    "def schroedingers(cat):\n",
    "    if cat:\n",
    "        print(\"Ze cat is alive =^_^=\")\n",
    "    else:\n",
    "        print(\"Ze cat is dead =x_x=\")"
   ]
  },
  {
   "cell_type": "code",
   "execution_count": null,
   "metadata": {},
   "outputs": [],
   "source": [
    "def compute_experiment(wave_packet, options, gif=False):\n",
    "    '''\n",
    "        Function that wraps up the TDSE solver and allows for the seletion of various\n",
    "        potentials and matrix operator configurations.\n",
    "        Args:\n",
    "            - wave_packet (Numpy Array): The initial system wave packet\n",
    "            - options (list): options corresponding to the type of simulation to be carried out\n",
    "                              - index 0 (str): potential type (linear, harmonic)\n",
    "                              - index 1 (str): operator type (tri, circ)\n",
    "        Returns:\n",
    "            - waves (list): numpy arrays corresponding to the solutions of the system\n",
    "                            for n steps as specified by the length of the intial wavepacket array\n",
    "            - images (list): matplotlib image array objects that can be converted to .gif using imageio\n",
    "                             or plotted using matplotlib itself.\n",
    "    '''\n",
    "    print(f\"Computing TDSE solver for a {options[0]} potential using a {options[1]} matrix operator\\n\")\n",
    "    \n",
    "    ## Storage for numerical results\n",
    "    waves = []; images = []\n",
    "    \n",
    "    ## Declare the x_range over which we're computing\n",
    "    x_range = np.linspace(-wave_packet['N'], wave_packet['N'], wave_packet['step'])\n",
    "    \n",
    "    ## Generate the values of the potential\n",
    "    V = potential(x_range, wave_packet['N'], 0.001, option=options[0])\n",
    "    \n",
    "    ## Generate the wavepacket\n",
    "    print(f\"Generating wavepacket\")\n",
    "    psi = wavepacket(**wave_packet)\n",
    "\n",
    "    ## Generate the operator matrix\n",
    "    A = GenMatrix(wave_packet['dx'], wave_packet['dt'], V, wave_packet['step'], option = options[1])\n",
    "    \n",
    "    ## Compute the first step of the system\n",
    "    print(\"Solving system\\n\")\n",
    "    Ax = np.linalg.solve(A, psi)\n",
    "    waves.append(Ax)\n",
    "    \n",
    "    ## Compute the next n-steps\n",
    "    for i in range(len(psi)-1):\n",
    "        Ax = np.linalg.solve(A, Ax)\n",
    "        waves.append(Ax)\n",
    "    \n",
    "    ## Generate images of experimental results\n",
    "    print(f\"Generating images of {len(waves)} results\\n\")\n",
    "    if options[-1] == 'skittles':\n",
    "        for idx, wave in enumerate(waves):\n",
    "            images.append(plot_waves(x_range, wave, V, wave_packet, idx, options, rainbow=True))\n",
    "    else:\n",
    "        for idx, wave in enumerate(waves):\n",
    "            images.append(plot_waves(x_range, wave, V, wave_packet, idx, options))\n",
    "    \n",
    "    ## Generate a .gif file, if desired\n",
    "    if gif:\n",
    "        print(\"Generating .gif file\\n\")\n",
    "        if options[-1] == 'skittles':\n",
    "            imageio.mimsave(f'./{options[0]}-{options[1]}-{options[2]}.gif', images, fps=30.0)\n",
    "        else:\n",
    "            imageio.mimsave(f'./{options[0]}-{options[1]}.gif', images, fps=30.0)\n",
    "\n",
    "    cat = np.random.randint(0, 2, size=1)\n",
    "    schroedingers(cat)\n",
    "    \n",
    "    return waves, images"
   ]
  },
  {
   "cell_type": "markdown",
   "metadata": {},
   "source": [
    "----\n",
    "# Experiment"
   ]
  },
  {
   "cell_type": "markdown",
   "metadata": {},
   "source": [
    "### Set up a wavepacket and simulation parameters"
   ]
  },
  {
   "cell_type": "code",
   "execution_count": null,
   "metadata": {},
   "outputs": [],
   "source": [
    "# Space and time step sizes\n",
    "dx = dt = 0.1\n",
    "\n",
    "# Wave packet config\n",
    "wave_packet = {'alpha': 1, 'k': 0, 'N': 50, 'center': 0}\n",
    "wave_packet.update( {'step': int( (wave_packet['N'] + wave_packet['N']) / dx) } )\n",
    "wave_packet.update( {'dx':dx, 'dt':dt } )"
   ]
  },
  {
   "cell_type": "markdown",
   "metadata": {},
   "source": [
    "### Compute the desired experimental configuration\n",
    "Select a configuration using the options list:\n",
    "\n",
    "options = ['potential', 'matrix operator type']\n",
    "    - potentials: flat, linear, harmonic, triangular, infinite\n",
    "    - matrix operator type: tridiagonal, circulant\n",
    "    \n",
    "----"
   ]
  },
  {
   "cell_type": "code",
   "execution_count": null,
   "metadata": {},
   "outputs": [],
   "source": [
    "_, _ = compute_experiment(wave_packet, options=['triangular', 'tridiagonal'], gif=True)"
   ]
  },
  {
   "cell_type": "markdown",
   "metadata": {},
   "source": [
    "----"
   ]
  }
 ],
 "metadata": {
  "kernelspec": {
   "display_name": "Python 3",
   "language": "python",
   "name": "python3"
  },
  "language_info": {
   "codemirror_mode": {
    "name": "ipython",
    "version": 3
   },
   "file_extension": ".py",
   "mimetype": "text/x-python",
   "name": "python",
   "nbconvert_exporter": "python",
   "pygments_lexer": "ipython3",
   "version": "3.7.6"
  }
 },
 "nbformat": 4,
 "nbformat_minor": 4
}
