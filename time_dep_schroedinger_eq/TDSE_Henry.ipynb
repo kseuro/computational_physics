{
 "cells": [
  {
   "cell_type": "markdown",
   "metadata": {},
   "source": [
    "# Time Dependent Schrodinger Equation (TDSE)\n",
    "\n",
    "By: Henry, Ben, Kai\n",
    "\n",
    "Last Modified: 4/7/20"
   ]
  },
  {
   "cell_type": "markdown",
   "metadata": {},
   "source": [
    "Importing Required Libraries"
   ]
  },
  {
   "cell_type": "code",
   "execution_count": 37,
   "metadata": {},
   "outputs": [],
   "source": [
    "import numpy as np\n",
    "import matplotlib.pyplot as plt\n",
    "import imageio\n",
    "import os\n",
    "from os import listdir\n",
    "from os.path import isfile, join"
   ]
  },
  {
   "cell_type": "markdown",
   "metadata": {},
   "source": [
    "Initial Conditions\n",
    "\n",
    "x0 defines the starting point spatially, xc moves the center of the wavepacket [Positive xc values move it in the negative x direction and negative xc values move it in the positive x direction], xf defines the end point spatially, dx defines the spatial size of the steps taken, and nsteps_x defines how many steps there are in the spatial component.\n",
    "\n",
    "t0 defines the starting point temporally, tf defines the end point temporally, dt defines the temporal size of the steps taken, and nsteps_t defines how many steps there are in the temporal component.\n",
    "\n",
    "k0 is the momentum of the wavepacket and alpha is how well defined in the x the wavepacket is."
   ]
  },
  {
   "cell_type": "code",
   "execution_count": 38,
   "metadata": {},
   "outputs": [],
   "source": [
    "x0 = -50\n",
    "xc = 0\n",
    "xf = 50\n",
    "dx = .1\n",
    "nsteps_x = int((xf - x0) / dx)\n",
    "xs = np.linspace(x0, xf, nsteps_x)\n",
    "\n",
    "t0 = 0\n",
    "tf = 10\n",
    "dt = .1\n",
    "nsteps_t = int(tf / dt)\n",
    "ts = np.linspace(t0, tf, nsteps_t)\n",
    "\n",
    "alpha = 1\n",
    "k0 = 0"
   ]
  },
  {
   "cell_type": "markdown",
   "metadata": {},
   "source": [
    "# Functions"
   ]
  },
  {
   "cell_type": "markdown",
   "metadata": {},
   "source": [
    "Function: Potential(x)\n",
    "\n",
    "Potential takes in a spatial position value [x] and returns the potential at that location"
   ]
  },
  {
   "cell_type": "code",
   "execution_count": 39,
   "metadata": {},
   "outputs": [],
   "source": [
    "V1 = [0 for i in range(0, nsteps_x // 2)]\n",
    "V2 = xs[len(xs)//2:] / 10\n",
    "V = np.concatenate((V1, V2))"
   ]
  },
  {
   "cell_type": "markdown",
   "metadata": {},
   "source": [
    "Function: Arr_gen(V)\n",
    "\n",
    "Arr_gen takes in a value of the potential at a single spatial point [V] and returns the corresponding, discretized array of the Time Dependent Schrodinger Equation (TDSE) at that area to be plugged into the matrix generated later."
   ]
  },
  {
   "cell_type": "code",
   "execution_count": 40,
   "metadata": {},
   "outputs": [],
   "source": [
    "def Arr_gen(V):\n",
    "    return np.array([- 1j * dt / dx **2, 1 + (- 1j * dt / dx **2) * (- 2 + V),- 1j * dt / dx **2], dtype = complex)"
   ]
  },
  {
   "cell_type": "markdown",
   "metadata": {},
   "source": [
    "Function: MatrixCreator(N)\n",
    "\n",
    "MatrixCreator takes in a size for your matrix [N], given by Nsteps, and returns a matrix corresponding to the discretized TDSE."
   ]
  },
  {
   "cell_type": "code",
   "execution_count": 41,
   "metadata": {},
   "outputs": [],
   "source": [
    "def MatrixCreator(N, V):\n",
    "    xs = np.linspace(x0, xf, N) # The various X positions\n",
    "    Vs = V # The value of the potential at a given X position\n",
    "    A = np.zeros((N, N), dtype = complex)\n",
    "    for i in range(1, N-1): # A loop which generates the matrix needed for solving the TDSE\n",
    "        A[i][i-1:i+2] = Arr_gen(Vs[i])\n",
    "    A[0][0:2] = Arr_gen(Vs[0])[1:3] # The first row of the matrix, impossible to generate through the loop\n",
    "    A[N-1][N-2:N] = Arr_gen(Vs[N-1])[0:2] # The last row of the matrix, impossible to generate through the loop\n",
    "    return A\n",
    "\n",
    "# Note: To get the real component add .real to the end of the complex thing\n",
    "# Note 2: Additionally one can leave out the dtype = complex and it auto discards the imaginary part\n",
    "# Note 2 (cont.): but throws an annoying warning message"
   ]
  },
  {
   "cell_type": "code",
   "execution_count": 42,
   "metadata": {},
   "outputs": [],
   "source": [
    "# Not sure if nessecary but can do matrix multiplication\n",
    "# Matrix Multiplication can be done by doing Matrix.dot(vector)\n",
    "# Matrix is n by m and vecotr must be m by k"
   ]
  },
  {
   "cell_type": "markdown",
   "metadata": {},
   "source": [
    "Function: Wavepkt(x)\n",
    "\n",
    "Wavepkt takees in a spatial position [x].  The function returns the wavepacket.  It is also based on the width in the momentum space [alpha] and an initial momentum [k0] which are defined in the Initial Conditions section of the notebook."
   ]
  },
  {
   "cell_type": "code",
   "execution_count": 43,
   "metadata": {},
   "outputs": [],
   "source": [
    "def Wavepkt(x):\n",
    "    Wavy1 = (1 / (2 * np.pi * alpha)) ** (1 / 4)\n",
    "    Wavy2 = np.exp(1j * k0 * (x + xc))\n",
    "    Wavy3 = np.exp(- (x + xc) ** 2 / (4 * alpha))\n",
    "    Wavy = Wavy1 * Wavy2 * Wavy3\n",
    "    return Wavy"
   ]
  },
  {
   "cell_type": "code",
   "execution_count": 44,
   "metadata": {
    "scrolled": true
   },
   "outputs": [
    {
     "data": {
      "image/png": "[encoded data removed]",
      "text/plain": [
       "<Figure size 432x288 with 1 Axes>"
      ]
     },
     "metadata": {
      "needs_background": "light"
     },
     "output_type": "display_data"
    }
   ],
   "source": [
    "plt.plot(xs, Wavepkt(xs).imag, color = \"red\", label = \"Imaginary\")\n",
    "plt.plot(xs, Wavepkt(xs).real, color = \"cyan\", label = \"Real\")\n",
    "plt.plot(xs, abs(Wavepkt(xs)), color = \"black\", label = \"Wavefunction\")\n",
    "plt.legend(loc = \"upper right\")\n",
    "plt.ylim(-.25, 1)\n",
    "plt.xlim(-20 - xc, 20 - xc)\n",
    "plt.xlabel(\"Position\")\n",
    "plt.ylabel(\"Wavefunction\")\n",
    "plt.title(\"Wavefunction at Time 0\", fontsize = 14)\n",
    "plt.savefig(\"Images\\Wavefunction at 0.jpg\")\n",
    "plt.show()"
   ]
  },
  {
   "cell_type": "code",
   "execution_count": 45,
   "metadata": {},
   "outputs": [],
   "source": [
    "Wave_funcs = np.zeros([nsteps_t, nsteps_x], dtype = complex)\n",
    "A = MatrixCreator(nsteps_x, V)\n",
    "b = Wavepkt(xs)\n",
    "for i in range(nsteps_t):\n",
    "    v = np.linalg.solve(A, b)\n",
    "    Wave_funcs[i] = v\n",
    "    b = v"
   ]
  },
  {
   "cell_type": "code",
   "execution_count": 49,
   "metadata": {},
   "outputs": [],
   "source": [
    "for i, func in enumerate(Wave_funcs):\n",
    "    time = ts[i] + dt\n",
    "    plt.plot(xs, func.imag, color = \"red\", label = \"Imaginary\")\n",
    "    plt.plot(xs, func.real, color = \"cyan\", label = \"Real\")\n",
    "    plt.plot(xs, abs(func), color = \"black\", label = \"Wavefunction\")\n",
    "    plt.plot(xs, V, color = \"green\", label = \"Potential\")\n",
    "    plt.legend(loc = \"upper right\")\n",
    "    plt.ylim(-.25, 1)\n",
    "    plt.xlim(-20 - xc, 20 - xc)\n",
    "    plt.xlabel(\"Position\")\n",
    "    plt.ylabel(\"Wavefunction\")\n",
    "    plt.title(\"Wavefunction at Time {}\". format(round(time, 2)), fontsize = 14)\n",
    "    plt.savefig(\"Images\\Wavefunction at {}.jpg\".format(i+1))\n",
    "    plt.close()"
   ]
  },
  {
   "cell_type": "code",
   "execution_count": 50,
   "metadata": {},
   "outputs": [],
   "source": [
    "directory=\"Images/\"\n",
    "filenames = []\n",
    "\n",
    "for i in range(nsteps_t + 1):\n",
    "    if os.path.exists(directory+f\"Wavefunction at {i}.jpg\"):\n",
    "        filenames.append(f\"Wavefunction at {i}.jpg\")"
   ]
  },
  {
   "cell_type": "code",
   "execution_count": 51,
   "metadata": {},
   "outputs": [],
   "source": [
    "images = []\n",
    "\n",
    "for filename in filenames:\n",
    "    images.append(imageio.imread(\"Images/{}\".format(filename)))\n",
    "imageio.mimsave(\"Wavefunction Gif.gif\", images)"
   ]
  },
  {
   "cell_type": "code",
   "execution_count": null,
   "metadata": {},
   "outputs": [],
   "source": []
  }
 ],
 "metadata": {
  "kernelspec": {
   "display_name": "Python 3",
   "language": "python",
   "name": "python3"
  },
  "language_info": {
   "codemirror_mode": {
    "name": "ipython",
    "version": 3
   },
   "file_extension": ".py",
   "mimetype": "text/x-python",
   "name": "python",
   "nbconvert_exporter": "python",
   "pygments_lexer": "ipython3",
   "version": "3.7.6"
  }
 },
 "nbformat": 4,
 "nbformat_minor": 4
}
