{
 "cells": [
  {
   "cell_type": "code",
   "execution_count": 41,
   "metadata": {},
   "outputs": [],
   "source": [
    "import numpy as np\n",
    "import matplotlib.pyplot as plt\n",
    "import math\n",
    "import pandas as pd"
   ]
  },
  {
   "cell_type": "code",
   "execution_count": null,
   "metadata": {},
   "outputs": [],
   "source": []
  },
  {
   "cell_type": "code",
   "execution_count": 42,
   "metadata": {},
   "outputs": [],
   "source": [
    "\n",
    "def finiteDifference(psi,v,t,x):\n",
    "    x"
   ]
  },
  {
   "cell_type": "code",
   "execution_count": 43,
   "metadata": {},
   "outputs": [
    {
     "name": "stdout",
     "output_type": "stream",
     "text": [
      "[[0. 1. 0. 0. 0.]\n",
      " [1. 1. 1. 0. 0.]\n",
      " [0. 1. 2. 1. 0.]\n",
      " [0. 0. 1. 3. 1.]\n",
      " [0. 0. 0. 1. 1.]]\n"
     ]
    }
   ],
   "source": [
    "def matrixCreator(dX,dT,i,V,N):\n",
    "    A=np.zeros((N,N))\n",
    "    for x in range(1,N-1):\n",
    "        A[x][x-1:x+2]=Insertion(dX,dT,i,V[x])\n",
    "    A[0][0:2]=Insertion(dX,dT,i,V[0])[1:3]\n",
    "    A[N-1][N-2:N]=Insertion(dX,dT,i,V[N-1])[0:1]\n",
    "    print(A)\n",
    "\n",
    "    \n",
    "def Insertion(dX,dT,i,V):\n",
    "    insertArr= np.array([1,dX**2/(i*dT)-2+V,1])\n",
    "    return insertArr\n",
    "\n",
    "V=np.linspace(1,5,5)\n",
    "matrixCreator(1,1,1,V,5)"
   ]
  },
  {
   "cell_type": "code",
   "execution_count": null,
   "metadata": {},
   "outputs": [],
   "source": []
  }
 ],
 "metadata": {
  "kernelspec": {
   "display_name": "Python 3",
   "language": "python",
   "name": "python3"
  },
  "language_info": {
   "codemirror_mode": {
    "name": "ipython",
    "version": 3
   },
   "file_extension": ".py",
   "mimetype": "text/x-python",
   "name": "python",
   "nbconvert_exporter": "python",
   "pygments_lexer": "ipython3",
   "version": "3.7.3"
  }
 },
 "nbformat": 4,
 "nbformat_minor": 2
}
